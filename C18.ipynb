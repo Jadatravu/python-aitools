{
 "cells": [
  {
   "cell_type": "code",
   "execution_count": 1,
   "id": "a3cacec0",
   "metadata": {},
   "outputs": [],
   "source": [
    "import datetime"
   ]
  },
  {
   "cell_type": "code",
   "execution_count": 2,
   "id": "ab5c4c4c",
   "metadata": {},
   "outputs": [
    {
     "data": {
      "text/plain": [
       "datetime.datetime(2024, 5, 21, 6, 46, 16, 621479)"
      ]
     },
     "execution_count": 2,
     "metadata": {},
     "output_type": "execute_result"
    }
   ],
   "source": [
    "datetime.datetime.now()"
   ]
  },
  {
   "cell_type": "code",
   "execution_count": 3,
   "id": "e6153850",
   "metadata": {},
   "outputs": [
    {
     "data": {
      "text/plain": [
       "datetime.datetime(2024, 5, 21, 6, 47, 9, 852947)"
      ]
     },
     "execution_count": 3,
     "metadata": {},
     "output_type": "execute_result"
    }
   ],
   "source": [
    "datetime.datetime.now()"
   ]
  },
  {
   "cell_type": "code",
   "execution_count": 4,
   "id": "e414ae8c",
   "metadata": {},
   "outputs": [],
   "source": [
    "#strftime => converts the datetime obj to string"
   ]
  },
  {
   "cell_type": "code",
   "execution_count": 5,
   "id": "abf5a971",
   "metadata": {},
   "outputs": [],
   "source": [
    "d1 = datetime.datetime.now()"
   ]
  },
  {
   "cell_type": "code",
   "execution_count": 6,
   "id": "b7f18c10",
   "metadata": {},
   "outputs": [
    {
     "data": {
      "text/plain": [
       "'2024 05 21 06:48:13'"
      ]
     },
     "execution_count": 6,
     "metadata": {},
     "output_type": "execute_result"
    }
   ],
   "source": [
    "d1.strftime(\"%Y %m %d %H:%M:%S\")"
   ]
  },
  {
   "cell_type": "code",
   "execution_count": 7,
   "id": "18a41d17",
   "metadata": {},
   "outputs": [],
   "source": [
    "d1_str = '2024 05 01 06:48:13'"
   ]
  },
  {
   "cell_type": "code",
   "execution_count": 9,
   "id": "6e6f4a72",
   "metadata": {},
   "outputs": [
    {
     "data": {
      "text/plain": [
       "datetime.datetime(2024, 5, 1, 6, 48, 13)"
      ]
     },
     "execution_count": 9,
     "metadata": {},
     "output_type": "execute_result"
    }
   ],
   "source": [
    "datetime.datetime.strptime(d1_str,\"%Y %m %d %H:%M:%S\")"
   ]
  },
  {
   "cell_type": "code",
   "execution_count": 10,
   "id": "83e3db00",
   "metadata": {},
   "outputs": [],
   "source": [
    "d2=datetime.datetime.strptime(d1_str,\"%Y %m %d %H:%M:%S\")"
   ]
  },
  {
   "cell_type": "code",
   "execution_count": 11,
   "id": "3b7a5bc9",
   "metadata": {},
   "outputs": [
    {
     "data": {
      "text/plain": [
       "datetime.timedelta(days=20, microseconds=946934)"
      ]
     },
     "execution_count": 11,
     "metadata": {},
     "output_type": "execute_result"
    }
   ],
   "source": [
    "d1-d2"
   ]
  },
  {
   "cell_type": "code",
   "execution_count": 12,
   "id": "917ed5d3",
   "metadata": {},
   "outputs": [],
   "source": [
    "td1=datetime.timedelta(days=35)"
   ]
  },
  {
   "cell_type": "code",
   "execution_count": 13,
   "id": "f9557b42",
   "metadata": {},
   "outputs": [
    {
     "data": {
      "text/plain": [
       "datetime.datetime(2024, 5, 21, 6, 48, 13, 946934)"
      ]
     },
     "execution_count": 13,
     "metadata": {},
     "output_type": "execute_result"
    }
   ],
   "source": [
    "d1"
   ]
  },
  {
   "cell_type": "code",
   "execution_count": 14,
   "id": "cc339f89",
   "metadata": {},
   "outputs": [
    {
     "data": {
      "text/plain": [
       "datetime.datetime(2024, 6, 25, 6, 48, 13, 946934)"
      ]
     },
     "execution_count": 14,
     "metadata": {},
     "output_type": "execute_result"
    }
   ],
   "source": [
    "d1+td1"
   ]
  },
  {
   "cell_type": "code",
   "execution_count": 15,
   "id": "e41a9d4a",
   "metadata": {},
   "outputs": [],
   "source": [
    "d3=d1+td1"
   ]
  },
  {
   "cell_type": "code",
   "execution_count": 16,
   "id": "37dd610f",
   "metadata": {},
   "outputs": [
    {
     "data": {
      "text/plain": [
       "'2024 06 25 06:48:13'"
      ]
     },
     "execution_count": 16,
     "metadata": {},
     "output_type": "execute_result"
    }
   ],
   "source": [
    "d3.strftime(\"%Y %m %d %H:%M:%S\")"
   ]
  },
  {
   "cell_type": "code",
   "execution_count": 22,
   "id": "af2722a6",
   "metadata": {},
   "outputs": [],
   "source": [
    "td2=datetime.timedelta(days=700,minutes=30)"
   ]
  },
  {
   "cell_type": "code",
   "execution_count": 23,
   "id": "84786d2c",
   "metadata": {},
   "outputs": [
    {
     "data": {
      "text/plain": [
       "datetime.datetime(2026, 4, 21, 7, 18, 13, 946934)"
      ]
     },
     "execution_count": 23,
     "metadata": {},
     "output_type": "execute_result"
    }
   ],
   "source": [
    "d1+td2"
   ]
  },
  {
   "cell_type": "code",
   "execution_count": 24,
   "id": "fd054b77",
   "metadata": {},
   "outputs": [],
   "source": [
    "import pytz"
   ]
  },
  {
   "cell_type": "code",
   "execution_count": null,
   "id": "06dd6a30",
   "metadata": {},
   "outputs": [],
   "source": []
  }
 ],
 "metadata": {
  "kernelspec": {
   "display_name": "Python 3 (ipykernel)",
   "language": "python",
   "name": "python3"
  },
  "language_info": {
   "codemirror_mode": {
    "name": "ipython",
    "version": 3
   },
   "file_extension": ".py",
   "mimetype": "text/x-python",
   "name": "python",
   "nbconvert_exporter": "python",
   "pygments_lexer": "ipython3",
   "version": "3.9.12"
  }
 },
 "nbformat": 4,
 "nbformat_minor": 5
}
