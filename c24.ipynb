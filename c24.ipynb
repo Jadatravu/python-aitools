{
 "cells": [
  {
   "cell_type": "code",
   "execution_count": 14,
   "id": "f6ba21ff",
   "metadata": {},
   "outputs": [],
   "source": [
    "class m_class():\n",
    "    def __init__(self,n_file,e_file,s_file,m_file):\n",
    "        self.n=open(n_file,'r')\n",
    "        self.e=open(e_file,'r')\n",
    "        self.s=open(s_file,'r')\n",
    "        self.m=open(m_file,'r')\n",
    "        self.n_data=self.n.readlines()\n",
    "        self.e_data=self.e.readlines()\n",
    "        self.m_data=self.m.readlines()\n",
    "        self.s_data=self.s.readlines()\n",
    "        self.m.close()\n",
    "        self.n.close()\n",
    "        self.s.close()\n",
    "        self.e.close()\n",
    "        self.nd={}\n",
    "        self.ed={}\n",
    "        self.sd={}\n",
    "        self.md={}\n",
    "        \n",
    "    def populate_data(self):\n",
    "        for i1 in self.n_data:\n",
    "            v1=i1.strip('\\n').split(':')\n",
    "            self.nd[v1[1]] =v1[0]\n",
    "        for i2 in self.m_data:\n",
    "            v2=i2.strip('\\n').split(':')\n",
    "            self.md[v2[0]]=v2[1]\n",
    "        for i3 in self.e_data:\n",
    "            v3=i3.strip('\\n').split(':')\n",
    "            self.ed[v3[0]]=v3[1]\n",
    "        for i4 in self.s_data:\n",
    "            v4=i4.strip('\\n').split(':')\n",
    "            self.sd[v4[0]]=v4[1]\n",
    "            \n",
    "    def prepare_report(self):\n",
    "        report_d={}\n",
    "        for m1 in self.nd.keys():\n",
    "            total = int(self.md[m1])+int(self.sd[m1])+int(self.ed[m1])\n",
    "            report_str=f\"\"\"\n",
    "            ************************** report for {m1} **************************\n",
    "            role number : {self.nd[m1]}\n",
    "            maths_marks : {self.md[m1]}\n",
    "            social_marks: {self.sd[m1]}\n",
    "            english_marks: {self.ed[m1]}\n",
    "            total        : {total}\n",
    "            *********************************************************************            \n",
    "            \"\"\"\n",
    "            report_d[m1]=report_str\n",
    "        return report_d"
   ]
  },
  {
   "cell_type": "code",
   "execution_count": 20,
   "id": "79b4e007",
   "metadata": {},
   "outputs": [],
   "source": [
    "try:\n",
    "    m1=m_class(\"names.txt\",\"english_marks.txt\",\"social_marks.txt\",\"math_marks.txt\")\n",
    "    m1.populate_data()\n",
    "    report_cards_dict=m1.prepare_report()\n",
    "except Exception as e1:\n",
    "    print(f\"excetion occured : {e1}\")"
   ]
  },
  {
   "cell_type": "code",
   "execution_count": 21,
   "id": "2e378087",
   "metadata": {},
   "outputs": [
    {
     "name": "stdout",
     "output_type": "stream",
     "text": [
      "\n",
      "            ************************** report for c02 **************************\n",
      "            role number : Radha\n",
      "            maths_marks : 95\n",
      "            social_marks: 92\n",
      "            english_marks: 90\n",
      "            total        : 277\n",
      "            *********************************************************************            \n",
      "            \n",
      "\n",
      "            ************************** report for c01 **************************\n",
      "            role number : Raghu\n",
      "            maths_marks : 85\n",
      "            social_marks: 82\n",
      "            english_marks: 80\n",
      "            total        : 247\n",
      "            *********************************************************************            \n",
      "            \n",
      "\n",
      "            ************************** report for c03 **************************\n",
      "            role number : Ramu\n",
      "            maths_marks : 91\n",
      "            social_marks: 93\n",
      "            english_marks: 91\n",
      "            total        : 275\n",
      "            *********************************************************************            \n",
      "            \n",
      "\n",
      "            ************************** report for c04 **************************\n",
      "            role number : Hari\n",
      "            maths_marks : 75\n",
      "            social_marks: 72\n",
      "            english_marks: 70\n",
      "            total        : 217\n",
      "            *********************************************************************            \n",
      "            \n",
      "\n",
      "            ************************** report for c05 **************************\n",
      "            role number : Ravi\n",
      "            maths_marks : 75\n",
      "            social_marks: 77\n",
      "            english_marks: 75\n",
      "            total        : 227\n",
      "            *********************************************************************            \n",
      "            \n"
     ]
    }
   ],
   "source": [
    "for k1,v1 in report_cards_dict.items():\n",
    "    print(v1)"
   ]
  },
  {
   "cell_type": "code",
   "execution_count": null,
   "id": "93e382c2",
   "metadata": {},
   "outputs": [],
   "source": []
  }
 ],
 "metadata": {
  "kernelspec": {
   "display_name": "Python 3 (ipykernel)",
   "language": "python",
   "name": "python3"
  },
  "language_info": {
   "codemirror_mode": {
    "name": "ipython",
    "version": 3
   },
   "file_extension": ".py",
   "mimetype": "text/x-python",
   "name": "python",
   "nbconvert_exporter": "python",
   "pygments_lexer": "ipython3",
   "version": "3.9.12"
  }
 },
 "nbformat": 4,
 "nbformat_minor": 5
}
