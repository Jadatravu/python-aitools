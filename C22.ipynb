{
 "cells": [
  {
   "cell_type": "code",
   "execution_count": 1,
   "id": "7e145840",
   "metadata": {},
   "outputs": [],
   "source": [
    "def m_func():\n",
    "    '''\n",
    "       This is m_func\n",
    "    '''\n",
    "    return True"
   ]
  },
  {
   "cell_type": "code",
   "execution_count": 2,
   "id": "f4227713",
   "metadata": {},
   "outputs": [
    {
     "data": {
      "text/plain": [
       "'\\n       This is m_func\\n    '"
      ]
     },
     "execution_count": 2,
     "metadata": {},
     "output_type": "execute_result"
    }
   ],
   "source": [
    "m_func.__doc__"
   ]
  },
  {
   "cell_type": "code",
   "execution_count": 7,
   "id": "93f7c41e",
   "metadata": {},
   "outputs": [],
   "source": [
    "class mc():\n",
    "    '''\n",
    "        THis is mc class\n",
    "    '''\n",
    "    def __init__(self):\n",
    "        self.x1=100\n",
    "        \n",
    "    def m_function(self):\n",
    "        '''\n",
    "        THis is m_function in mc class\n",
    "        '''\n",
    "        print(\"ok\")\n",
    "        \n",
    "    def __m_p_function(self):\n",
    "        print(\"ok\")\n",
    "        \n"
   ]
  },
  {
   "cell_type": "code",
   "execution_count": 8,
   "id": "91c096cf",
   "metadata": {},
   "outputs": [],
   "source": [
    "m=mc()"
   ]
  },
  {
   "cell_type": "code",
   "execution_count": 5,
   "id": "435cc4a6",
   "metadata": {},
   "outputs": [
    {
     "data": {
      "text/plain": [
       "'\\n        THis is mc class\\n    '"
      ]
     },
     "execution_count": 5,
     "metadata": {},
     "output_type": "execute_result"
    }
   ],
   "source": [
    "m.__doc__"
   ]
  },
  {
   "cell_type": "code",
   "execution_count": 6,
   "id": "41716ebc",
   "metadata": {},
   "outputs": [
    {
     "data": {
      "text/plain": [
       "'\\n        THis is m_function in mc class\\n        '"
      ]
     },
     "execution_count": 6,
     "metadata": {},
     "output_type": "execute_result"
    }
   ],
   "source": [
    "m.m_function.__doc__"
   ]
  },
  {
   "cell_type": "code",
   "execution_count": 9,
   "id": "99953258",
   "metadata": {},
   "outputs": [
    {
     "ename": "AttributeError",
     "evalue": "'mc' object has no attribute '__m_p_function'",
     "output_type": "error",
     "traceback": [
      "\u001b[1;31m---------------------------------------------------------------------------\u001b[0m",
      "\u001b[1;31mAttributeError\u001b[0m                            Traceback (most recent call last)",
      "Input \u001b[1;32mIn [9]\u001b[0m, in \u001b[0;36m<cell line: 1>\u001b[1;34m()\u001b[0m\n\u001b[1;32m----> 1\u001b[0m \u001b[43mm\u001b[49m\u001b[38;5;241;43m.\u001b[39;49m\u001b[43m__m_p_function\u001b[49m()\n",
      "\u001b[1;31mAttributeError\u001b[0m: 'mc' object has no attribute '__m_p_function'"
     ]
    }
   ],
   "source": [
    "m.__m_p_function()"
   ]
  },
  {
   "cell_type": "code",
   "execution_count": null,
   "id": "b769b127",
   "metadata": {},
   "outputs": [],
   "source": []
  }
 ],
 "metadata": {
  "kernelspec": {
   "display_name": "Python 3 (ipykernel)",
   "language": "python",
   "name": "python3"
  },
  "language_info": {
   "codemirror_mode": {
    "name": "ipython",
    "version": 3
   },
   "file_extension": ".py",
   "mimetype": "text/x-python",
   "name": "python",
   "nbconvert_exporter": "python",
   "pygments_lexer": "ipython3",
   "version": "3.9.12"
  }
 },
 "nbformat": 4,
 "nbformat_minor": 5
}
