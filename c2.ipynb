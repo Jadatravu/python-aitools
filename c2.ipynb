{
 "cells": [
  {
   "cell_type": "markdown",
   "id": "7056a6bc",
   "metadata": {},
   "source": [
    "# data types"
   ]
  },
  {
   "cell_type": "code",
   "execution_count": null,
   "id": "16bb4e94",
   "metadata": {},
   "outputs": [],
   "source": [
    "Integer  125\n",
    "Float 12.56\n",
    "String \"qwerty\"\n",
    "Char 'c'"
   ]
  },
  {
   "cell_type": "markdown",
   "id": "5bdc4e9e",
   "metadata": {},
   "source": [
    "# python specific data types"
   ]
  },
  {
   "cell_type": "code",
   "execution_count": null,
   "id": "2c65f93f",
   "metadata": {},
   "outputs": [],
   "source": [
    "list, tuple, dictionary, set"
   ]
  },
  {
   "cell_type": "code",
   "execution_count": 1,
   "id": "84352e8f",
   "metadata": {},
   "outputs": [
    {
     "data": {
      "text/plain": [
       "13"
      ]
     },
     "execution_count": 1,
     "metadata": {},
     "output_type": "execute_result"
    }
   ],
   "source": [
    "# list is a collection of data items enclosed by [], any type or mix of elements and any repeatations\n",
    "list_1 = [10,34,56.7,23.45,\"Qwerty\",'c',23,10,34,'b',10,23,\"Qwerty\"]\n",
    "#         0   1  2    3       4      5   6  7  8  9   10 11  12\n",
    "# index  it starts 0 and ends with n-1 where n is the total number of items\n",
    "list_1[3]#23.45\n",
    "list_1[5]#c\n",
    "list_1[8]#34\n",
    "list_1[2]#2\n",
    "list_1[4]#Qwerty\n",
    "len(list_1) #13\n"
   ]
  },
  {
   "cell_type": "code",
   "execution_count": 2,
   "id": "3a74fd70",
   "metadata": {},
   "outputs": [
    {
     "data": {
      "text/plain": [
       "56.7"
      ]
     },
     "execution_count": 2,
     "metadata": {},
     "output_type": "execute_result"
    }
   ],
   "source": [
    "list_1[2]"
   ]
  },
  {
   "cell_type": "code",
   "execution_count": 3,
   "id": "acb55c37",
   "metadata": {},
   "outputs": [],
   "source": [
    "list_1[2]=99.7"
   ]
  },
  {
   "cell_type": "code",
   "execution_count": 4,
   "id": "66fb27fb",
   "metadata": {},
   "outputs": [
    {
     "data": {
      "text/plain": [
       "[10, 34, 99.7, 23.45, 'Qwerty', 'c', 23, 10, 34, 'b', 10, 23, 'Qwerty']"
      ]
     },
     "execution_count": 4,
     "metadata": {},
     "output_type": "execute_result"
    }
   ],
   "source": [
    "list_1"
   ]
  },
  {
   "cell_type": "code",
   "execution_count": null,
   "id": "6d2b495c",
   "metadata": {},
   "outputs": [],
   "source": []
  },
  {
   "cell_type": "code",
   "execution_count": null,
   "id": "365b372d",
   "metadata": {},
   "outputs": [],
   "source": [
    "tuple, is a collection of read only data items enclosed by normal ()"
   ]
  },
  {
   "cell_type": "code",
   "execution_count": 5,
   "id": "7cfb3bd4",
   "metadata": {},
   "outputs": [],
   "source": [
    "t1=(23,67,90,\"qwerty\",'a','v','a',23,67)\n",
    "#   0  1  2    3       4   5   6   7  8"
   ]
  },
  {
   "cell_type": "code",
   "execution_count": 6,
   "id": "036e3029",
   "metadata": {},
   "outputs": [
    {
     "data": {
      "text/plain": [
       "23"
      ]
     },
     "execution_count": 6,
     "metadata": {},
     "output_type": "execute_result"
    }
   ],
   "source": [
    "t1[2]#90\n",
    "t1[7]#23"
   ]
  },
  {
   "cell_type": "code",
   "execution_count": 7,
   "id": "2ea703ba",
   "metadata": {},
   "outputs": [
    {
     "ename": "TypeError",
     "evalue": "'tuple' object does not support item assignment",
     "output_type": "error",
     "traceback": [
      "\u001b[1;31m---------------------------------------------------------------------------\u001b[0m",
      "\u001b[1;31mTypeError\u001b[0m                                 Traceback (most recent call last)",
      "Cell \u001b[1;32mIn[7], line 1\u001b[0m\n\u001b[1;32m----> 1\u001b[0m t1[\u001b[38;5;241m8\u001b[39m]\u001b[38;5;241m=\u001b[39m\u001b[38;5;241m76.9\u001b[39m\n",
      "\u001b[1;31mTypeError\u001b[0m: 'tuple' object does not support item assignment"
     ]
    }
   ],
   "source": [
    "t1[8]=76.9"
   ]
  },
  {
   "cell_type": "code",
   "execution_count": null,
   "id": "ffe3deda",
   "metadata": {},
   "outputs": [],
   "source": [
    "set, it is a collection of items enclosed {} but not repeatable"
   ]
  },
  {
   "cell_type": "code",
   "execution_count": 8,
   "id": "8b88df74",
   "metadata": {},
   "outputs": [],
   "source": [
    "s1={10,34,56,'a','v',\"qwerty\"}"
   ]
  },
  {
   "cell_type": "code",
   "execution_count": 9,
   "id": "a5b1c308",
   "metadata": {},
   "outputs": [
    {
     "data": {
      "text/plain": [
       "{10, 34, 56, 'a', 'qwerty', 'v'}"
      ]
     },
     "execution_count": 9,
     "metadata": {},
     "output_type": "execute_result"
    }
   ],
   "source": [
    "s1"
   ]
  },
  {
   "cell_type": "code",
   "execution_count": 10,
   "id": "3443353e",
   "metadata": {},
   "outputs": [],
   "source": [
    "s2={10,34,10,56,'a','v','a',\"qwerty\",34}"
   ]
  },
  {
   "cell_type": "code",
   "execution_count": 11,
   "id": "1bbe4729",
   "metadata": {},
   "outputs": [
    {
     "data": {
      "text/plain": [
       "{10, 34, 56, 'a', 'qwerty', 'v'}"
      ]
     },
     "execution_count": 11,
     "metadata": {},
     "output_type": "execute_result"
    }
   ],
   "source": [
    "s2\n"
   ]
  },
  {
   "cell_type": "code",
   "execution_count": null,
   "id": "18ef1200",
   "metadata": {},
   "outputs": [],
   "source": [
    "dictionary is collection of key, value pairs enclosed by {}\n",
    "keys are unique, keys are not repeatble\n",
    "values can be repeatables\n",
    "values are accessible by keys"
   ]
  },
  {
   "cell_type": "code",
   "execution_count": 12,
   "id": "297a76fb",
   "metadata": {},
   "outputs": [],
   "source": [
    "d1={10:\"ten\",20:\"twenty\",12:200,'c':123,\"Apple\":987,'67':123}"
   ]
  },
  {
   "cell_type": "code",
   "execution_count": 13,
   "id": "6b220dc3",
   "metadata": {},
   "outputs": [
    {
     "data": {
      "text/plain": [
       "'ten'"
      ]
     },
     "execution_count": 13,
     "metadata": {},
     "output_type": "execute_result"
    }
   ],
   "source": [
    "d1[10]#ten"
   ]
  },
  {
   "cell_type": "code",
   "execution_count": 14,
   "id": "a971895f",
   "metadata": {},
   "outputs": [
    {
     "data": {
      "text/plain": [
       "200"
      ]
     },
     "execution_count": 14,
     "metadata": {},
     "output_type": "execute_result"
    }
   ],
   "source": [
    "d1['c']#123\n",
    "d1[12]#200"
   ]
  },
  {
   "cell_type": "code",
   "execution_count": 15,
   "id": "3ed1ae72",
   "metadata": {},
   "outputs": [],
   "source": [
    "d1[12]=9999"
   ]
  },
  {
   "cell_type": "code",
   "execution_count": 16,
   "id": "a7584c80",
   "metadata": {},
   "outputs": [
    {
     "data": {
      "text/plain": [
       "{10: 'ten', 20: 'twenty', 12: 9999, 'c': 123, 'Apple': 987, '67': 123}"
      ]
     },
     "execution_count": 16,
     "metadata": {},
     "output_type": "execute_result"
    }
   ],
   "source": [
    "d1"
   ]
  },
  {
   "cell_type": "code",
   "execution_count": 17,
   "id": "adb6cc99",
   "metadata": {},
   "outputs": [],
   "source": [
    "list_2 =[10,20,30,22,11,4,56,77,99]"
   ]
  },
  {
   "cell_type": "code",
   "execution_count": 18,
   "id": "0398b158",
   "metadata": {},
   "outputs": [
    {
     "name": "stdout",
     "output_type": "stream",
     "text": [
      "9\n"
     ]
    }
   ],
   "source": [
    "print(len(list_2))"
   ]
  },
  {
   "cell_type": "code",
   "execution_count": 19,
   "id": "8d7f75b5",
   "metadata": {},
   "outputs": [
    {
     "name": "stdout",
     "output_type": "stream",
     "text": [
      "10\n",
      "20\n",
      "30\n",
      "22\n",
      "11\n",
      "4\n",
      "56\n",
      "77\n",
      "99\n"
     ]
    }
   ],
   "source": [
    "for i1 in list_2:\n",
    "    print(i1)"
   ]
  },
  {
   "cell_type": "code",
   "execution_count": 20,
   "id": "1bb173fa",
   "metadata": {},
   "outputs": [],
   "source": [
    "sum1=0"
   ]
  },
  {
   "cell_type": "code",
   "execution_count": 21,
   "id": "f679b721",
   "metadata": {},
   "outputs": [],
   "source": [
    "for i1 in list_2:\n",
    "    sum1 = sum1+i1"
   ]
  },
  {
   "cell_type": "code",
   "execution_count": 22,
   "id": "e45ca3a6",
   "metadata": {},
   "outputs": [
    {
     "name": "stdout",
     "output_type": "stream",
     "text": [
      "329\n"
     ]
    }
   ],
   "source": [
    "print(sum1)"
   ]
  },
  {
   "cell_type": "code",
   "execution_count": 23,
   "id": "6a959df9",
   "metadata": {},
   "outputs": [],
   "source": [
    "min1=list_2[0]"
   ]
  },
  {
   "cell_type": "code",
   "execution_count": 24,
   "id": "6bce8182",
   "metadata": {},
   "outputs": [],
   "source": [
    "for i1 in list_2:\n",
    "    if i1 < min1:\n",
    "        min1=i1"
   ]
  },
  {
   "cell_type": "code",
   "execution_count": 25,
   "id": "b7e8a5ad",
   "metadata": {},
   "outputs": [
    {
     "name": "stdout",
     "output_type": "stream",
     "text": [
      "4\n"
     ]
    }
   ],
   "source": [
    "print(min1)"
   ]
  },
  {
   "cell_type": "code",
   "execution_count": 26,
   "id": "3fe62ecb",
   "metadata": {},
   "outputs": [],
   "source": [
    "max1=list_2[0]"
   ]
  },
  {
   "cell_type": "code",
   "execution_count": 27,
   "id": "8181cf23",
   "metadata": {},
   "outputs": [],
   "source": [
    "for i1 in list_2:\n",
    "    if i1 > max1:\n",
    "        max1=i1"
   ]
  },
  {
   "cell_type": "code",
   "execution_count": 28,
   "id": "afea1a46",
   "metadata": {},
   "outputs": [
    {
     "name": "stdout",
     "output_type": "stream",
     "text": [
      "99\n"
     ]
    }
   ],
   "source": [
    "print(max1)"
   ]
  },
  {
   "cell_type": "code",
   "execution_count": 29,
   "id": "7f476d65",
   "metadata": {},
   "outputs": [],
   "source": [
    "pro1=1"
   ]
  },
  {
   "cell_type": "code",
   "execution_count": 30,
   "id": "bb43e608",
   "metadata": {},
   "outputs": [],
   "source": [
    "for i1 in list_2:\n",
    "    pro1=pro1*i1"
   ]
  },
  {
   "cell_type": "code",
   "execution_count": 31,
   "id": "1044a014",
   "metadata": {},
   "outputs": [
    {
     "name": "stdout",
     "output_type": "stream",
     "text": [
      "2479365504000\n"
     ]
    }
   ],
   "source": [
    "print(pro1)"
   ]
  },
  {
   "cell_type": "code",
   "execution_count": 32,
   "id": "098b3d56",
   "metadata": {},
   "outputs": [],
   "source": [
    "list_3=[23,56,12,67,89,-123,-45,999]"
   ]
  },
  {
   "cell_type": "code",
   "execution_count": null,
   "id": "9140bb59",
   "metadata": {},
   "outputs": [],
   "source": [
    "#sum,product, min, max"
   ]
  },
  {
   "cell_type": "code",
   "execution_count": null,
   "id": "432d1774",
   "metadata": {},
   "outputs": [],
   "source": [
    "list_4=[23,666,777,1233,5675,999,-345,-87]"
   ]
  },
  {
   "cell_type": "code",
   "execution_count": null,
   "id": "943e3c75",
   "metadata": {},
   "outputs": [],
   "source": [
    "#sum,product, min, max"
   ]
  }
 ],
 "metadata": {
  "kernelspec": {
   "display_name": "Python 3 (ipykernel)",
   "language": "python",
   "name": "python3"
  },
  "language_info": {
   "codemirror_mode": {
    "name": "ipython",
    "version": 3
   },
   "file_extension": ".py",
   "mimetype": "text/x-python",
   "name": "python",
   "nbconvert_exporter": "python",
   "pygments_lexer": "ipython3",
   "version": "3.11.4"
  }
 },
 "nbformat": 4,
 "nbformat_minor": 5
}
