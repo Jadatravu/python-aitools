{
 "cells": [
  {
   "cell_type": "code",
   "execution_count": 29,
   "id": "e7be3edb",
   "metadata": {},
   "outputs": [],
   "source": [
    "class m_class():\n",
    "    ''' This is m_class with one function, constructor takes two parameters(integers)\n",
    "        one function, m_function takes one integer computes the result and returns\n",
    "    \n",
    "    '''\n",
    "    def __init__(self,l1,m1,u1,v1):\n",
    "        self.a1=l1\n",
    "        self.b1=m1\n",
    "        self.__c1=100 # private members will start with underscore underscore\n",
    "        self.__username=u1\n",
    "        self.__password=v1\n",
    "        self.__connect_tuple=(u1,v1)\n",
    "        \n",
    "    def connect(self):\n",
    "        print(\" this is aconnect function user name and pass word\")\n",
    "        x1=self.__username\n",
    "        y1=self.__password\n",
    "        \n",
    "    def __get_data(self):\n",
    "        print(\"this is in __get_data function\")\n",
    "    \n",
    "        \n",
    "    def print_data_members(self):\n",
    "        print(\" this is in a print_data members function\")\n",
    "        print(self.a1)\n",
    "        print(self.b1)\n",
    "        self.__get_data()\n",
    "        \n",
    "    def m_function(self,k1):\n",
    "        '''\n",
    "          This is m_function takes one integer parameter and returns result\n",
    "        '''\n",
    "        self.print_data_members()\n",
    "        result = self.a1+self.b1+k1\n",
    "        return result"
   ]
  },
  {
   "cell_type": "code",
   "execution_count": 30,
   "id": "63ae5794",
   "metadata": {},
   "outputs": [],
   "source": [
    "m1=m_class(100,200,\"user1\",\"qwerty@123\")"
   ]
  },
  {
   "cell_type": "code",
   "execution_count": 31,
   "id": "cee9c2d4",
   "metadata": {},
   "outputs": [
    {
     "ename": "AttributeError",
     "evalue": "'m_class' object has no attribute '__get_data'",
     "output_type": "error",
     "traceback": [
      "\u001b[1;31m---------------------------------------------------------------------------\u001b[0m",
      "\u001b[1;31mAttributeError\u001b[0m                            Traceback (most recent call last)",
      "Input \u001b[1;32mIn [31]\u001b[0m, in \u001b[0;36m<cell line: 1>\u001b[1;34m()\u001b[0m\n\u001b[1;32m----> 1\u001b[0m \u001b[43mm1\u001b[49m\u001b[38;5;241;43m.\u001b[39;49m\u001b[43m__get_data\u001b[49m()\n",
      "\u001b[1;31mAttributeError\u001b[0m: 'm_class' object has no attribute '__get_data'"
     ]
    }
   ],
   "source": [
    "m1.__get_data()"
   ]
  },
  {
   "cell_type": "code",
   "execution_count": 27,
   "id": "1b46fbd2",
   "metadata": {},
   "outputs": [
    {
     "name": "stdout",
     "output_type": "stream",
     "text": [
      " this is aconnect function user name and pass word\n"
     ]
    }
   ],
   "source": [
    "m1.connect()"
   ]
  },
  {
   "cell_type": "code",
   "execution_count": 21,
   "id": "6ce2d5ac",
   "metadata": {},
   "outputs": [
    {
     "data": {
      "text/plain": [
       "100"
      ]
     },
     "execution_count": 21,
     "metadata": {},
     "output_type": "execute_result"
    }
   ],
   "source": [
    "m1.a1"
   ]
  },
  {
   "cell_type": "code",
   "execution_count": 22,
   "id": "6d8cbf82",
   "metadata": {},
   "outputs": [
    {
     "ename": "AttributeError",
     "evalue": "'m_class' object has no attribute '__c1'",
     "output_type": "error",
     "traceback": [
      "\u001b[1;31m---------------------------------------------------------------------------\u001b[0m",
      "\u001b[1;31mAttributeError\u001b[0m                            Traceback (most recent call last)",
      "Input \u001b[1;32mIn [22]\u001b[0m, in \u001b[0;36m<cell line: 1>\u001b[1;34m()\u001b[0m\n\u001b[1;32m----> 1\u001b[0m \u001b[43mm1\u001b[49m\u001b[38;5;241;43m.\u001b[39;49m\u001b[43m__c1\u001b[49m\n",
      "\u001b[1;31mAttributeError\u001b[0m: 'm_class' object has no attribute '__c1'"
     ]
    }
   ],
   "source": [
    "m1.__c1"
   ]
  },
  {
   "cell_type": "code",
   "execution_count": 23,
   "id": "2041732a",
   "metadata": {},
   "outputs": [
    {
     "ename": "AttributeError",
     "evalue": "'m_class' object has no attribute '__username'",
     "output_type": "error",
     "traceback": [
      "\u001b[1;31m---------------------------------------------------------------------------\u001b[0m",
      "\u001b[1;31mAttributeError\u001b[0m                            Traceback (most recent call last)",
      "Input \u001b[1;32mIn [23]\u001b[0m, in \u001b[0;36m<cell line: 1>\u001b[1;34m()\u001b[0m\n\u001b[1;32m----> 1\u001b[0m \u001b[43mm1\u001b[49m\u001b[38;5;241;43m.\u001b[39;49m\u001b[43m__username\u001b[49m\n",
      "\u001b[1;31mAttributeError\u001b[0m: 'm_class' object has no attribute '__username'"
     ]
    }
   ],
   "source": [
    "m1.__username"
   ]
  },
  {
   "cell_type": "code",
   "execution_count": 24,
   "id": "60d7a7fa",
   "metadata": {},
   "outputs": [
    {
     "ename": "AttributeError",
     "evalue": "'m_class' object has no attribute '__password'",
     "output_type": "error",
     "traceback": [
      "\u001b[1;31m---------------------------------------------------------------------------\u001b[0m",
      "\u001b[1;31mAttributeError\u001b[0m                            Traceback (most recent call last)",
      "Input \u001b[1;32mIn [24]\u001b[0m, in \u001b[0;36m<cell line: 1>\u001b[1;34m()\u001b[0m\n\u001b[1;32m----> 1\u001b[0m \u001b[43mm1\u001b[49m\u001b[38;5;241;43m.\u001b[39;49m\u001b[43m__password\u001b[49m\n",
      "\u001b[1;31mAttributeError\u001b[0m: 'm_class' object has no attribute '__password'"
     ]
    }
   ],
   "source": [
    "m1.__password"
   ]
  },
  {
   "cell_type": "code",
   "execution_count": null,
   "id": "0d03cdd5",
   "metadata": {},
   "outputs": [],
   "source": []
  },
  {
   "cell_type": "code",
   "execution_count": 11,
   "id": "59973aaa",
   "metadata": {},
   "outputs": [
    {
     "data": {
      "text/plain": [
       "' This is m_class with one function, constructor takes two parameters(integers)\\n        one function, m_function takes one integer computes the result and returns\\n    \\n    '"
      ]
     },
     "execution_count": 11,
     "metadata": {},
     "output_type": "execute_result"
    }
   ],
   "source": [
    "m1.__doc__"
   ]
  },
  {
   "cell_type": "code",
   "execution_count": 12,
   "id": "ce812a6b",
   "metadata": {},
   "outputs": [
    {
     "data": {
      "text/plain": [
       "'\\n          This is m_function takes one integer parameter and returns result\\n        '"
      ]
     },
     "execution_count": 12,
     "metadata": {},
     "output_type": "execute_result"
    }
   ],
   "source": [
    "m1.m_function.__doc__"
   ]
  },
  {
   "cell_type": "code",
   "execution_count": 13,
   "id": "e9778961",
   "metadata": {},
   "outputs": [
    {
     "name": "stdout",
     "output_type": "stream",
     "text": [
      " this is in a print_data members function\n",
      "100\n",
      "200\n"
     ]
    },
    {
     "data": {
      "text/plain": [
       "500"
      ]
     },
     "execution_count": 13,
     "metadata": {},
     "output_type": "execute_result"
    }
   ],
   "source": [
    "m1.m_function(200)"
   ]
  },
  {
   "cell_type": "code",
   "execution_count": 32,
   "id": "20d17bfb",
   "metadata": {},
   "outputs": [
    {
     "name": "stdout",
     "output_type": "stream",
     "text": [
      " this is in a print_data members function\n",
      "100\n",
      "200\n",
      "this is in __get_data function\n"
     ]
    }
   ],
   "source": [
    "m1.print_data_members()"
   ]
  },
  {
   "cell_type": "code",
   "execution_count": 33,
   "id": "0d77e788",
   "metadata": {},
   "outputs": [
    {
     "data": {
      "text/plain": [
       "'\\ngive filenames as inputs to the class\\nstudents,maths,social,english\\n\\n'"
      ]
     },
     "execution_count": 33,
     "metadata": {},
     "output_type": "execute_result"
    }
   ],
   "source": [
    "\"\"\"\n",
    "give filenames as inputs to the class\n",
    "students,maths,social,english\n",
    "\n",
    "\"\"\""
   ]
  },
  {
   "cell_type": "code",
   "execution_count": 34,
   "id": "ee70f6e0",
   "metadata": {},
   "outputs": [],
   "source": [
    "class P_Report_card():\n",
    "    def __init__(self,students_fname,maths_fname,english_fname,social_fname):\n",
    "        self.sf = open(students_fname,'r')\n",
    "        self.ef=open(english_fname,'r')\n",
    "        self.sof=open(social_fname,'r')\n",
    "        self.mf=open(maths_fname,'r')\n",
    "        \n",
    "        self.stu_data=self.sf.readlines()\n",
    "        self.e_data=self.ef.readlines()\n",
    "        \n",
    "    def prepare_report(self):\n",
    "        for s1 in stu_data:\n",
    "            #get all marks and print report"
   ]
  },
  {
   "cell_type": "code",
   "execution_count": null,
   "id": "06a966ea",
   "metadata": {},
   "outputs": [],
   "source": []
  }
 ],
 "metadata": {
  "kernelspec": {
   "display_name": "Python 3 (ipykernel)",
   "language": "python",
   "name": "python3"
  },
  "language_info": {
   "codemirror_mode": {
    "name": "ipython",
    "version": 3
   },
   "file_extension": ".py",
   "mimetype": "text/x-python",
   "name": "python",
   "nbconvert_exporter": "python",
   "pygments_lexer": "ipython3",
   "version": "3.9.12"
  }
 },
 "nbformat": 4,
 "nbformat_minor": 5
}
