{
 "cells": [
  {
   "cell_type": "code",
   "execution_count": 1,
   "id": "737fd896",
   "metadata": {},
   "outputs": [],
   "source": [
    "#print multiples of 7 between numbers -300 to 100 into a file"
   ]
  },
  {
   "cell_type": "code",
   "execution_count": 3,
   "id": "849463ff",
   "metadata": {},
   "outputs": [],
   "source": [
    "fp2 = open(\"numbers_7.txt\",'w')\n",
    "for i1 in range(-300,101):\n",
    "    if i1%7 == 0:\n",
    "        fp2.write(str(i1))\n",
    "        fp2.write('\\n')\n",
    "fp2.close()\n",
    "    "
   ]
  },
  {
   "cell_type": "code",
   "execution_count": 4,
   "id": "bb7e1d70",
   "metadata": {},
   "outputs": [],
   "source": [
    "#reading content from a file\n",
    "# open a file which is existing\n",
    "#read all content\n",
    "#close the file"
   ]
  },
  {
   "cell_type": "code",
   "execution_count": 5,
   "id": "2bd61da2",
   "metadata": {},
   "outputs": [],
   "source": [
    "fp1 = open(\"days.txt\",'r')\n",
    "lines = fp1.readlines()\n",
    "fp1.close()"
   ]
  },
  {
   "cell_type": "code",
   "execution_count": 7,
   "id": "3e91e583",
   "metadata": {},
   "outputs": [],
   "source": [
    "#lines"
   ]
  },
  {
   "cell_type": "code",
   "execution_count": 10,
   "id": "7da74296",
   "metadata": {},
   "outputs": [
    {
     "name": "stdout",
     "output_type": "stream",
     "text": [
      "monday word appeared in the days.txt file is 4\n"
     ]
    }
   ],
   "source": [
    "count =0\n",
    "for i1 in lines:\n",
    "    if i1.strip('\\n') == 'monday':\n",
    "        count = count + 1\n",
    "print(f\"monday word appeared in the days.txt file is {count}\")"
   ]
  },
  {
   "cell_type": "code",
   "execution_count": 11,
   "id": "43ff0e49",
   "metadata": {},
   "outputs": [],
   "source": [
    "fp3 = open(\"numbers_7.txt\",'r')\n",
    "lines_1 = fp3.readlines()\n",
    "fp3.close()\n",
    "fp_even = open(\"numbers_even_7.txt\",'w')\n",
    "fp_odd = open(\"numbers_odd_7.txt\",'w')\n",
    "\n",
    "for i2 in lines_1:\n",
    "    if int(i2.strip('\\n')) % 2 == 0:\n",
    "        fp_even.write(i2)\n",
    "    elif int(i2.strip('\\n')) % 2==1:\n",
    "        fp_odd.write(i2)\n",
    "fp_even.close()\n",
    "fp_odd.close()\n"
   ]
  },
  {
   "cell_type": "code",
   "execution_count": 12,
   "id": "5c81c17c",
   "metadata": {},
   "outputs": [],
   "source": [
    "# count the number of words starting with a, b, g"
   ]
  },
  {
   "cell_type": "code",
   "execution_count": 18,
   "id": "3ce80b52",
   "metadata": {},
   "outputs": [
    {
     "name": "stdout",
     "output_type": "stream",
     "text": [
      "{'a': 7, 'b': 11, 'g': 9}\n"
     ]
    }
   ],
   "source": [
    "fp4 = open(\"fruites.txt\",'r')\n",
    "lines_2 = fp4.readlines()\n",
    "fp4.close()\n",
    "#print(lines_2)\n",
    "output_dict={'a':0,'b':0,'g':0}\n",
    "for i4 in lines_2:\n",
    "    v1=list(i4.lower())[0]\n",
    "    #print(v1)\n",
    "    if v1=='a':\n",
    "        output_dict['a']=output_dict['a']+1\n",
    "    elif v1=='b':\n",
    "        output_dict['b']=output_dict['b']+1\n",
    "    elif v1=='g':\n",
    "        output_dict['g']=output_dict['g']+1\n",
    "print(output_dict)"
   ]
  },
  {
   "cell_type": "code",
   "execution_count": null,
   "id": "02b4f427",
   "metadata": {},
   "outputs": [],
   "source": [
    "names.txt\n",
    "\n",
    "Radha:c02\n",
    "Raghu:c01\n",
    "Ramu:c03\n",
    "Hari:c04\n",
    "Ravi:c05\n",
    "    \n",
    "english_marks.txt\n",
    "\n",
    "c01:80\n",
    "c02:90\n",
    "c03:91\n",
    "c04:70\n",
    "c05:75\n",
    "    \n",
    "maths_marks.txt\n",
    "c01:85\n",
    "c02:95\n",
    "c03:91\n",
    "c04:75\n",
    "c05:75\n",
    "\n",
    "socal_marks.txt\n",
    "\n",
    "c01:82\n",
    "c02:92\n",
    "c03:93\n",
    "c04:72\n",
    "c05:77\n",
    "    "
   ]
  },
  {
   "cell_type": "code",
   "execution_count": null,
   "id": "66d3a808",
   "metadata": {},
   "outputs": [],
   "source": [
    "Read names, marks from all files\n",
    "prepare progres_report for each student and write into different files\n",
    "radha.txt\n",
    "raghu.txt\n"
   ]
  },
  {
   "cell_type": "code",
   "execution_count": 4,
   "id": "43e8a6dd",
   "metadata": {},
   "outputs": [
    {
     "name": "stdout",
     "output_type": "stream",
     "text": [
      "name Radha\n",
      "role number :c02\n",
      "name Raghu\n",
      "role number :c01\n",
      "name Ramu\n",
      "role number :c03\n",
      "name Hari\n",
      "role number :c04\n",
      "name Ravi\n",
      "role number :c05\n",
      "{'c02': 'Radha', 'c01': 'Raghu', 'c03': 'Ramu', 'c04': 'Hari', 'c05': 'Ravi'}\n"
     ]
    }
   ],
   "source": [
    "fp5 = open(\"names_1.txt\",'r')\n",
    "lines_5 = fp5.readlines()\n",
    "fp5.close()\n",
    "d1={}\n",
    "for i3 in lines_5:\n",
    "    l1 = i3.strip('\\n').split(':')\n",
    "    print(f\"name {l1[0]}\")\n",
    "    print(f\"role number :{l1[1]}\")\n",
    "    d1[l1[1]]=l1[0]\n",
    "print(d1)"
   ]
  },
  {
   "cell_type": "code",
   "execution_count": 5,
   "id": "9e110db6",
   "metadata": {},
   "outputs": [
    {
     "data": {
      "text/plain": [
       "{'c02': 'Radha', 'c01': 'Raghu', 'c03': 'Ramu', 'c04': 'Hari', 'c05': 'Ravi'}"
      ]
     },
     "execution_count": 5,
     "metadata": {},
     "output_type": "execute_result"
    }
   ],
   "source": [
    "d1"
   ]
  },
  {
   "cell_type": "code",
   "execution_count": 6,
   "id": "f5edecea",
   "metadata": {},
   "outputs": [
    {
     "name": "stdout",
     "output_type": "stream",
     "text": [
      "name c01\n",
      "role number :82\n",
      "name c02\n",
      "role number :92\n",
      "name c03\n",
      "role number :93\n",
      "name c04\n",
      "role number :72\n",
      "name c05\n",
      "role number :77\n",
      "{'c01': '82', 'c02': '92', 'c03': '93', 'c04': '72', 'c05': '77'}\n"
     ]
    }
   ],
   "source": [
    "fp5 = open(\"social_marks.txt\",'r')\n",
    "lines_5 = fp5.readlines()\n",
    "fp5.close()\n",
    "social_d1={}\n",
    "for i3 in lines_5:\n",
    "    l1 = i3.strip('\\n').split(':')\n",
    "    print(f\"name {l1[0]}\")\n",
    "    print(f\"role number :{l1[1]}\")\n",
    "    social_d1[l1[0]]=l1[1]\n",
    "print(social_d1)"
   ]
  },
  {
   "cell_type": "code",
   "execution_count": 7,
   "id": "04824940",
   "metadata": {},
   "outputs": [
    {
     "name": "stdout",
     "output_type": "stream",
     "text": [
      "name c01\n",
      "role number :85\n",
      "name c02\n",
      "role number :95\n",
      "name c03\n",
      "role number :91\n",
      "name c04\n",
      "role number :75\n",
      "name c05\n",
      "role number :75\n",
      "{'c01': '85', 'c02': '95', 'c03': '91', 'c04': '75', 'c05': '75'}\n"
     ]
    }
   ],
   "source": [
    "fp5 = open(\"math_marks.txt\",'r')\n",
    "lines_5 = fp5.readlines()\n",
    "fp5.close()\n",
    "math_d1={}\n",
    "for i3 in lines_5:\n",
    "    l1 = i3.strip('\\n').split(':')\n",
    "    print(f\"name {l1[0]}\")\n",
    "    print(f\"role number :{l1[1]}\")\n",
    "    math_d1[l1[0]]=l1[1]\n",
    "print(math_d1)"
   ]
  },
  {
   "cell_type": "code",
   "execution_count": 9,
   "id": "114712f0",
   "metadata": {},
   "outputs": [
    {
     "name": "stdout",
     "output_type": "stream",
     "text": [
      "name c01\n",
      "role number :80\n",
      "name c02\n",
      "role number :90\n",
      "name c03\n",
      "role number :91\n",
      "name c04\n",
      "role number :70\n",
      "name c05\n",
      "role number :75\n",
      "{'c01': '80', 'c02': '90', 'c03': '91', 'c04': '70', 'c05': '75'}\n"
     ]
    }
   ],
   "source": [
    "fp5 = open(\"english_marks.txt\",'r')\n",
    "lines_5 = fp5.readlines()\n",
    "fp5.close()\n",
    "english_d1={}\n",
    "for i3 in lines_5:\n",
    "    l1 = i3.strip('\\n').split(':')\n",
    "    print(f\"name {l1[0]}\")\n",
    "    print(f\"role number :{l1[1]}\")\n",
    "    english_d1[l1[0]]=l1[1]\n",
    "print(english_d1)"
   ]
  },
  {
   "cell_type": "code",
   "execution_count": 15,
   "id": "a94ecd4a",
   "metadata": {},
   "outputs": [],
   "source": [
    "for k1 in d1.keys():\n",
    "    total = int(english_d1[k1]) + int(math_d1[k1]) + int(social_d1[k1])\n",
    "    output_str=f\"\"\"\n",
    "    name : {d1[k1]}\n",
    "    Role number : {k1}\n",
    "    Marks : \n",
    "    English : {english_d1[k1]}\n",
    "    Maths   : {math_d1[k1]}\n",
    "    Social  : {social_d1[k1]}\n",
    "    Total :{total}\n",
    "    \"\"\"\n",
    "    fp1 =open(d1[k1],'w')\n",
    "    fp1.write(output_str)\n",
    "    fp1.close"
   ]
  },
  {
   "cell_type": "code",
   "execution_count": null,
   "id": "e9ab3017",
   "metadata": {},
   "outputs": [],
   "source": []
  }
 ],
 "metadata": {
  "kernelspec": {
   "display_name": "Python 3 (ipykernel)",
   "language": "python",
   "name": "python3"
  },
  "language_info": {
   "codemirror_mode": {
    "name": "ipython",
    "version": 3
   },
   "file_extension": ".py",
   "mimetype": "text/x-python",
   "name": "python",
   "nbconvert_exporter": "python",
   "pygments_lexer": "ipython3",
   "version": "3.9.12"
  }
 },
 "nbformat": 4,
 "nbformat_minor": 5
}
