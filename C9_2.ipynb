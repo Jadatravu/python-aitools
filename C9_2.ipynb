{
 "cells": [
  {
   "cell_type": "code",
   "execution_count": null,
   "id": "d623fe91",
   "metadata": {},
   "outputs": [],
   "source": [
    "\"\"\"\n",
    "set is a special case of list, where items are not repeatable\n",
    "enclosed by {}\n",
    "\"\"\""
   ]
  },
  {
   "cell_type": "code",
   "execution_count": 1,
   "id": "dbb14d00",
   "metadata": {},
   "outputs": [],
   "source": [
    "s1 = { 10,20,30,55,90,88,12.09,'c'}"
   ]
  },
  {
   "cell_type": "code",
   "execution_count": 2,
   "id": "ff67aef7",
   "metadata": {},
   "outputs": [
    {
     "ename": "TypeError",
     "evalue": "'set' object is not subscriptable",
     "output_type": "error",
     "traceback": [
      "\u001b[1;31m---------------------------------------------------------------------------\u001b[0m",
      "\u001b[1;31mTypeError\u001b[0m                                 Traceback (most recent call last)",
      "Input \u001b[1;32mIn [2]\u001b[0m, in \u001b[0;36m<cell line: 1>\u001b[1;34m()\u001b[0m\n\u001b[1;32m----> 1\u001b[0m \u001b[43ms1\u001b[49m\u001b[43m[\u001b[49m\u001b[38;5;241;43m1\u001b[39;49m\u001b[43m]\u001b[49m\n",
      "\u001b[1;31mTypeError\u001b[0m: 'set' object is not subscriptable"
     ]
    }
   ],
   "source": [
    "s1[1]"
   ]
  },
  {
   "cell_type": "code",
   "execution_count": 3,
   "id": "15615790",
   "metadata": {},
   "outputs": [],
   "source": [
    "s2={10,20,30,78,56}"
   ]
  },
  {
   "cell_type": "code",
   "execution_count": 4,
   "id": "255aad87",
   "metadata": {},
   "outputs": [
    {
     "data": {
      "text/plain": [
       "{10, 12.09, 20, 30, 55, 56, 78, 88, 90, 'c'}"
      ]
     },
     "execution_count": 4,
     "metadata": {},
     "output_type": "execute_result"
    }
   ],
   "source": [
    "s1.union(s2) #combines two sets and removes duplicates"
   ]
  },
  {
   "cell_type": "code",
   "execution_count": 5,
   "id": "a4b0ca3b",
   "metadata": {},
   "outputs": [
    {
     "data": {
      "text/plain": [
       "{10, 20, 30}"
      ]
     },
     "execution_count": 5,
     "metadata": {},
     "output_type": "execute_result"
    }
   ],
   "source": [
    "s1.intersection(s2) #gets the common items of the two sets"
   ]
  },
  {
   "cell_type": "code",
   "execution_count": 6,
   "id": "410493eb",
   "metadata": {},
   "outputs": [
    {
     "data": {
      "text/plain": [
       "{12.09, 55, 88, 90, 'c'}"
      ]
     },
     "execution_count": 6,
     "metadata": {},
     "output_type": "execute_result"
    }
   ],
   "source": [
    "s1-s2 # items which are present inthe set s1 but not in set s2"
   ]
  },
  {
   "cell_type": "code",
   "execution_count": 7,
   "id": "1bfa2869",
   "metadata": {},
   "outputs": [
    {
     "data": {
      "text/plain": [
       "{56, 78}"
      ]
     },
     "execution_count": 7,
     "metadata": {},
     "output_type": "execute_result"
    }
   ],
   "source": [
    "s2-s1 # items which are present in the set s2 but not in s1"
   ]
  },
  {
   "cell_type": "code",
   "execution_count": 8,
   "id": "9552039a",
   "metadata": {},
   "outputs": [],
   "source": [
    "# s1-s2 not equal to s2-s1"
   ]
  },
  {
   "cell_type": "code",
   "execution_count": 11,
   "id": "6d3ddbe9",
   "metadata": {},
   "outputs": [],
   "source": [
    "s11={\"apple\",\"banana\",\"grapes\"}\n",
    "s22={\"grapes\",\"lemon\",\"potatoes\"}\n",
    "s33={\"potatoes\",\"onions\",\"lemon\"}"
   ]
  },
  {
   "cell_type": "code",
   "execution_count": null,
   "id": "e9523dd4",
   "metadata": {},
   "outputs": [],
   "source": [
    "# get all vegitables\n",
    "# get all fruites"
   ]
  },
  {
   "cell_type": "code",
   "execution_count": 13,
   "id": "ae43bc16",
   "metadata": {},
   "outputs": [
    {
     "data": {
      "text/plain": [
       "{'lemon', 'onions', 'potatoes'}"
      ]
     },
     "execution_count": 13,
     "metadata": {},
     "output_type": "execute_result"
    }
   ],
   "source": [
    "s22.intersection(s33).union(s33)"
   ]
  },
  {
   "cell_type": "code",
   "execution_count": 14,
   "id": "a80aaaca",
   "metadata": {},
   "outputs": [
    {
     "data": {
      "text/plain": [
       "{'apple', 'banana', 'grapes'}"
      ]
     },
     "execution_count": 14,
     "metadata": {},
     "output_type": "execute_result"
    }
   ],
   "source": [
    "s11.intersection(s22).union(s11)"
   ]
  },
  {
   "cell_type": "code",
   "execution_count": 15,
   "id": "7d464d95",
   "metadata": {},
   "outputs": [
    {
     "data": {
      "text/plain": [
       "{'apple', 'banana', 'grapes'}"
      ]
     },
     "execution_count": 15,
     "metadata": {},
     "output_type": "execute_result"
    }
   ],
   "source": [
    "s22.intersection(s11).union(s11)"
   ]
  },
  {
   "cell_type": "code",
   "execution_count": 17,
   "id": "21506436",
   "metadata": {},
   "outputs": [],
   "source": [
    "football_players = {\"Ramu\",\"Hari\",\"Krishna\"}\n",
    "cricket_players = {\"Ravi\",\"Ramu\",\"Harish\"}\n",
    "tt_players = {\"Ramu\",\"Harish\",\"Raghava\"}"
   ]
  },
  {
   "cell_type": "code",
   "execution_count": null,
   "id": "c1d0f1c4",
   "metadata": {},
   "outputs": [],
   "source": [
    "# get all players\n",
    "# get players who play all games\n",
    "# players play only football and cricket\n",
    "#players play tt and cricket\n",
    "# players play tt and football\n",
    "#players play football but not cricket\n",
    "#players play tt but not football\n"
   ]
  },
  {
   "cell_type": "code",
   "execution_count": 18,
   "id": "aab4af5e",
   "metadata": {},
   "outputs": [
    {
     "data": {
      "text/plain": [
       "{'Hari', 'Harish', 'Krishna', 'Raghava', 'Ramu', 'Ravi'}"
      ]
     },
     "execution_count": 18,
     "metadata": {},
     "output_type": "execute_result"
    }
   ],
   "source": [
    "football_players.union(cricket_players).union(tt_players)"
   ]
  },
  {
   "cell_type": "code",
   "execution_count": 19,
   "id": "3f2051ba",
   "metadata": {},
   "outputs": [
    {
     "data": {
      "text/plain": [
       "{'Ramu'}"
      ]
     },
     "execution_count": 19,
     "metadata": {},
     "output_type": "execute_result"
    }
   ],
   "source": [
    "football_players.intersection(cricket_players).intersection(tt_players)"
   ]
  },
  {
   "cell_type": "code",
   "execution_count": 20,
   "id": "72efa549",
   "metadata": {},
   "outputs": [
    {
     "data": {
      "text/plain": [
       "{'Ramu'}"
      ]
     },
     "execution_count": 20,
     "metadata": {},
     "output_type": "execute_result"
    }
   ],
   "source": [
    "football_players.intersection(cricket_players)"
   ]
  },
  {
   "cell_type": "code",
   "execution_count": 21,
   "id": "db16a50b",
   "metadata": {},
   "outputs": [
    {
     "data": {
      "text/plain": [
       "{'Harish', 'Ramu'}"
      ]
     },
     "execution_count": 21,
     "metadata": {},
     "output_type": "execute_result"
    }
   ],
   "source": [
    "cricket_players.intersection(tt_players)"
   ]
  },
  {
   "cell_type": "code",
   "execution_count": 22,
   "id": "8622fb6a",
   "metadata": {},
   "outputs": [
    {
     "data": {
      "text/plain": [
       "{'Harish', 'Raghava'}"
      ]
     },
     "execution_count": 22,
     "metadata": {},
     "output_type": "execute_result"
    }
   ],
   "source": [
    "tt_players-football_players"
   ]
  },
  {
   "cell_type": "code",
   "execution_count": 23,
   "id": "578491d4",
   "metadata": {},
   "outputs": [
    {
     "data": {
      "text/plain": [
       "{'Hari', 'Krishna'}"
      ]
     },
     "execution_count": 23,
     "metadata": {},
     "output_type": "execute_result"
    }
   ],
   "source": [
    "football_players - cricket_players"
   ]
  },
  {
   "cell_type": "code",
   "execution_count": 24,
   "id": "9a799202",
   "metadata": {},
   "outputs": [
    {
     "data": {
      "text/plain": [
       "{'Ramu'}"
      ]
     },
     "execution_count": 24,
     "metadata": {},
     "output_type": "execute_result"
    }
   ],
   "source": [
    "tt_players.intersection(football_players)"
   ]
  },
  {
   "cell_type": "code",
   "execution_count": 25,
   "id": "85bd0b45",
   "metadata": {},
   "outputs": [],
   "source": [
    "#rupees to dollor conversion\n",
    "def rupee_dollor_conversion(cur_rupee):\n",
    "    cur_dollor = float(cur_rupee)/83.0\n",
    "    return cur_dollor"
   ]
  },
  {
   "cell_type": "code",
   "execution_count": 26,
   "id": "4b8531ff",
   "metadata": {},
   "outputs": [],
   "source": [
    "r1=rupee_dollor_conversion(1000)"
   ]
  },
  {
   "cell_type": "code",
   "execution_count": 27,
   "id": "3f5af3cd",
   "metadata": {},
   "outputs": [
    {
     "name": "stdout",
     "output_type": "stream",
     "text": [
      "12.048192771084338\n"
     ]
    }
   ],
   "source": [
    "print(r1)"
   ]
  },
  {
   "cell_type": "code",
   "execution_count": 28,
   "id": "5c4a4fec",
   "metadata": {},
   "outputs": [
    {
     "name": "stdout",
     "output_type": "stream",
     "text": [
      "301.2048192771084\n"
     ]
    }
   ],
   "source": [
    "r2=rupee_dollor_conversion(25000)\n",
    "print(r2)"
   ]
  },
  {
   "cell_type": "code",
   "execution_count": 30,
   "id": "72a40828",
   "metadata": {},
   "outputs": [],
   "source": [
    "def rupee_dollor_conversion_1(cur_rupee,conv_rate):\n",
    "    cur_dollor = float(cur_rupee)/conv_rate\n",
    "    return cur_dollor"
   ]
  },
  {
   "cell_type": "code",
   "execution_count": 31,
   "id": "20904df6",
   "metadata": {},
   "outputs": [
    {
     "data": {
      "text/plain": [
       "649.0384615384615"
      ]
     },
     "execution_count": 31,
     "metadata": {},
     "output_type": "execute_result"
    }
   ],
   "source": [
    "rupee_dollor_conversion_1(54000,83.2)"
   ]
  },
  {
   "cell_type": "code",
   "execution_count": 32,
   "id": "aeaa5518",
   "metadata": {},
   "outputs": [
    {
     "data": {
      "text/plain": [
       "904.7044632086851"
      ]
     },
     "execution_count": 32,
     "metadata": {},
     "output_type": "execute_result"
    }
   ],
   "source": [
    "rupee_dollor_conversion_1(75000,82.9)"
   ]
  },
  {
   "cell_type": "code",
   "execution_count": null,
   "id": "b7b117f2",
   "metadata": {},
   "outputs": [],
   "source": []
  }
 ],
 "metadata": {
  "kernelspec": {
   "display_name": "Python 3 (ipykernel)",
   "language": "python",
   "name": "python3"
  },
  "language_info": {
   "codemirror_mode": {
    "name": "ipython",
    "version": 3
   },
   "file_extension": ".py",
   "mimetype": "text/x-python",
   "name": "python",
   "nbconvert_exporter": "python",
   "pygments_lexer": "ipython3",
   "version": "3.9.12"
  }
 },
 "nbformat": 4,
 "nbformat_minor": 5
}
