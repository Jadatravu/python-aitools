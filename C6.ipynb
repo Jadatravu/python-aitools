{
 "cells": [
  {
   "cell_type": "code",
   "execution_count": 1,
   "id": "a35d903c",
   "metadata": {},
   "outputs": [
    {
     "data": {
      "text/plain": [
       "'range(0,20,3) => [0,3,6,9...]\\nrange(0,20,5)=> [0,5,10,15]\\nrange(13,59) multiples of 3'"
      ]
     },
     "execution_count": 1,
     "metadata": {},
     "output_type": "execute_result"
    }
   ],
   "source": [
    "\"\"\"range(0,20,3) => [0,3,6,9...]\n",
    "range(0,20,5)=> [0,5,10,15]\n",
    "range(13,59) multiples of 3\"\"\""
   ]
  },
  {
   "cell_type": "code",
   "execution_count": null,
   "id": "9bf6f28f",
   "metadata": {},
   "outputs": [],
   "source": [
    "\"\"\"modulo => %\n",
    "10/3   3.3\n",
    "10%3 => 1\n",
    "9%2 =>1\n",
    "13%2 => 1\n",
    "17%3 => 2\n",
    "15%3 =>0 it is divisible by 3\n",
    "15%5 => 0 it is divisible by 5\"\"\""
   ]
  },
  {
   "cell_type": "code",
   "execution_count": 5,
   "id": "8b08c538",
   "metadata": {},
   "outputs": [
    {
     "name": "stdout",
     "output_type": "stream",
     "text": [
      "14\n",
      "21\n",
      "28\n",
      "35\n",
      "42\n",
      "49\n",
      "56\n"
     ]
    }
   ],
   "source": [
    "for i1 in range(13,59):\n",
    "    if i1%7 == 0:\n",
    "        print(i1)"
   ]
  },
  {
   "cell_type": "code",
   "execution_count": 6,
   "id": "b4b053c4",
   "metadata": {},
   "outputs": [],
   "source": [
    "# calculates um of even numbers between 67 and 99"
   ]
  },
  {
   "cell_type": "code",
   "execution_count": 7,
   "id": "32e2d5eb",
   "metadata": {},
   "outputs": [
    {
     "name": "stdout",
     "output_type": "stream",
     "text": [
      "1328\n"
     ]
    }
   ],
   "source": [
    "sum1 = 0\n",
    "for i2 in range(67,100):\n",
    "    if i2%2 == 0:\n",
    "        sum1 = sum1+i2\n",
    "print(sum1)"
   ]
  },
  {
   "cell_type": "code",
   "execution_count": 8,
   "id": "8f3abfeb",
   "metadata": {},
   "outputs": [],
   "source": [
    "# calculates um of odd numbers between 67 and 99"
   ]
  },
  {
   "cell_type": "code",
   "execution_count": 9,
   "id": "0339f059",
   "metadata": {},
   "outputs": [
    {
     "name": "stdout",
     "output_type": "stream",
     "text": [
      "1411\n"
     ]
    }
   ],
   "source": [
    "sum1 = 0\n",
    "for i2 in range(67,100):\n",
    "    if i2%2 == 1:\n",
    "        sum1 = sum1+i2\n",
    "print(sum1)"
   ]
  },
  {
   "cell_type": "code",
   "execution_count": 10,
   "id": "8362d11e",
   "metadata": {},
   "outputs": [],
   "source": [
    "#calculate sum of number divisible by 5 between 78 and 199\n",
    "#calculae sum of numbers divisible by 7 between 45 and 78\n",
    "# calculate sum of numbers divisbile by 9 between 67 and 199\n",
    "# accept two numbers find sum of even numbers between them\n",
    "# accept two numbers find product of odd numbers between them\n",
    "# accept two numbers find largest of two numbers"
   ]
  },
  {
   "cell_type": "code",
   "execution_count": 11,
   "id": "3fcd6a85",
   "metadata": {},
   "outputs": [],
   "source": [
    "#accept size of the disk in GBs and convert into MBs and TBs"
   ]
  },
  {
   "cell_type": "code",
   "execution_count": 16,
   "id": "1b8d6b75",
   "metadata": {},
   "outputs": [
    {
     "name": "stdout",
     "output_type": "stream",
     "text": [
      "678\n"
     ]
    }
   ],
   "source": [
    "size_gb = float(input())\n",
    "size_mb = size_gb/1024.0\n",
    "size_tb = size_gb*1024.0"
   ]
  },
  {
   "cell_type": "code",
   "execution_count": 17,
   "id": "8b2eeca8",
   "metadata": {},
   "outputs": [
    {
     "name": "stdout",
     "output_type": "stream",
     "text": [
      "size in gb  678.0\n",
      "size in tb  694272.0\n",
      "size in mb  0.662109375\n"
     ]
    }
   ],
   "source": [
    "print( \"size in gb \",size_gb)\n",
    "print( \"size in tb \",size_tb)\n",
    "print( \"size in mb \", size_mb)"
   ]
  },
  {
   "cell_type": "code",
   "execution_count": null,
   "id": "64785ddc",
   "metadata": {},
   "outputs": [],
   "source": []
  },
  {
   "cell_type": "code",
   "execution_count": null,
   "id": "7c02ac23",
   "metadata": {},
   "outputs": [],
   "source": [
    "\n",
    "\"\"\"1MB  1024 KB\n",
    "1024 MB  1GB\n",
    "\n",
    "1GB 1024MB  \n",
    "1024 MB 1GB\n",
    "\n",
    "1TB 1024GB\n",
    "1024 GB 1TB\"\"\"\n"
   ]
  },
  {
   "cell_type": "code",
   "execution_count": null,
   "id": "3015f9b2",
   "metadata": {},
   "outputs": [],
   "source": [
    "# accpet distance in meters and convert it into CM and KM"
   ]
  },
  {
   "cell_type": "code",
   "execution_count": 20,
   "id": "fb2dad09",
   "metadata": {},
   "outputs": [
    {
     "name": "stdout",
     "output_type": "stream",
     "text": [
      "567\n"
     ]
    }
   ],
   "source": [
    "dist_m = float(input())\n",
    "dist_cm = dist_m*100.0\n",
    "dist_km = dist_m/1000.0"
   ]
  },
  {
   "cell_type": "code",
   "execution_count": 21,
   "id": "acde8f5a",
   "metadata": {},
   "outputs": [
    {
     "name": "stdout",
     "output_type": "stream",
     "text": [
      " distance in meter  567.0\n",
      " distance in centi meter  56700.0\n",
      " distance in kilo meter  0.567\n"
     ]
    }
   ],
   "source": [
    "print( \" distance in meter \", dist_m)\n",
    "print( \" distance in centi meter \", dist_cm)\n",
    "print( \" distance in kilo meter \", dist_km)"
   ]
  },
  {
   "cell_type": "code",
   "execution_count": 22,
   "id": "1817adc9",
   "metadata": {},
   "outputs": [
    {
     "name": "stdout",
     "output_type": "stream",
     "text": [
      "175\n"
     ]
    }
   ],
   "source": [
    "x=10\n",
    "y=9\n",
    "result = 3*x+5*y+100\n",
    "print(result)"
   ]
  },
  {
   "cell_type": "code",
   "execution_count": 23,
   "id": "cbceabb2",
   "metadata": {},
   "outputs": [
    {
     "name": "stdout",
     "output_type": "stream",
     "text": [
      "696.1\n"
     ]
    }
   ],
   "source": [
    "x=89.7\n",
    "y=65.4\n",
    "result = 3.0*x+5.0*y+100.0\n",
    "print(result)"
   ]
  },
  {
   "cell_type": "code",
   "execution_count": null,
   "id": "a4a62912",
   "metadata": {},
   "outputs": [],
   "source": [
    "# list4 =[2,5,15,30,45,67,89,100,120, -123,-45,-66,88,-890]\n",
    "1. get the count of even numbers,(How many even numbers in the above list4)\n",
    "2. get the count of positive numbers\n",
    "3. get the sum of positive even number\n",
    "4. get the sum of negative odd number\n",
    "5. get the product of negative numbers\n",
    "1. product of odd numbers under 5000\n",
    "2. sum of nmbers divisible by 5 under 2000\n",
    "3. sum of number [0,25,50,75,100,125,150,....975,1000]\n",
    "4. sum of numbers[-90,-80,-70,... -10,0]\n",
    "5. product numbers [-9,-8,-7,-6,-5....-1,0]"
   ]
  },
  {
   "cell_type": "code",
   "execution_count": 24,
   "id": "7602bcff",
   "metadata": {},
   "outputs": [],
   "source": [
    "list4 =[2,5,15,30,45,67,89,100,120, -123,-45,-66,88,-890]"
   ]
  },
  {
   "cell_type": "code",
   "execution_count": 25,
   "id": "90763d78",
   "metadata": {},
   "outputs": [
    {
     "name": "stdout",
     "output_type": "stream",
     "text": [
      "340\n"
     ]
    }
   ],
   "source": [
    "# getting sum of positive even numbers\n",
    "sum2 =0\n",
    "for i3 in list4:\n",
    "    if i3 > 0 and i3 % 2 == 0:\n",
    "        sum2 = sum2+i3\n",
    "print(sum2)"
   ]
  },
  {
   "cell_type": "code",
   "execution_count": 26,
   "id": "6da3a6b6",
   "metadata": {},
   "outputs": [
    {
     "name": "stdout",
     "output_type": "stream",
     "text": [
      "5535\n"
     ]
    }
   ],
   "source": [
    "# product of negative odd numbers\n",
    "pro1=1\n",
    "for i4 in list4:\n",
    "    if i4 < 0 and i4%2 ==1:\n",
    "        pro1 = pro1*i4\n",
    "print(pro1)"
   ]
  },
  {
   "cell_type": "code",
   "execution_count": 27,
   "id": "a55ca232",
   "metadata": {},
   "outputs": [
    {
     "name": "stdout",
     "output_type": "stream",
     "text": [
      "4\n"
     ]
    }
   ],
   "source": [
    "# count of negative numbers\n",
    "c1 = 0\n",
    "for i5 in list4:\n",
    "    if i5 < 0:\n",
    "        c1 = c1+1\n",
    "print(c1)"
   ]
  },
  {
   "cell_type": "code",
   "execution_count": 28,
   "id": "9a5898af",
   "metadata": {},
   "outputs": [
    {
     "name": "stdout",
     "output_type": "stream",
     "text": [
      "2\n"
     ]
    }
   ],
   "source": [
    "# count of negative even numbers\n",
    "c2 = 0\n",
    "for i6 in list4:\n",
    "    if i6 < 0 and i6%2 ==0:\n",
    "        c2=c2+1\n",
    "print(c2)"
   ]
  },
  {
   "cell_type": "code",
   "execution_count": null,
   "id": "ccaa9157",
   "metadata": {},
   "outputs": [],
   "source": []
  }
 ],
 "metadata": {
  "kernelspec": {
   "display_name": "Python 3 (ipykernel)",
   "language": "python",
   "name": "python3"
  },
  "language_info": {
   "codemirror_mode": {
    "name": "ipython",
    "version": 3
   },
   "file_extension": ".py",
   "mimetype": "text/x-python",
   "name": "python",
   "nbconvert_exporter": "python",
   "pygments_lexer": "ipython3",
   "version": "3.9.12"
  }
 },
 "nbformat": 4,
 "nbformat_minor": 5
}
