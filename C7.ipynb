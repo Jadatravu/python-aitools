{
 "cells": [
  {
   "cell_type": "code",
   "execution_count": 1,
   "id": "c75f946d",
   "metadata": {},
   "outputs": [
    {
     "data": {
      "text/plain": [
       "'1. Accept time in Hours and minutes and print greeting message like Good morning, Good evening etc.,\\n2. Accept first_name, last_name, print birthday wishes\\n3. Accept first_name, Last_name, class, Section, marks(english, maths, science) print report card of student\\n4. Accept first_name, Last_name, DOB, print birth certificate'"
      ]
     },
     "execution_count": 1,
     "metadata": {},
     "output_type": "execute_result"
    }
   ],
   "source": [
    "\"\"\"1. Accept time in Hours and minutes and print greeting message like Good morning, Good evening etc.,\n",
    "2. Accept first_name, last_name, print birthday wishes\n",
    "3. Accept first_name, Last_name, class, Section, marks(english, maths, science) print report card of student\n",
    "4. Accept first_name, Last_name, DOB, print birth certificate\"\"\""
   ]
  },
  {
   "cell_type": "code",
   "execution_count": 2,
   "id": "70a4320b",
   "metadata": {},
   "outputs": [],
   "source": [
    "#1. Accept time in Hours and minutes and print greeting message like Good morning, Good evening etc."
   ]
  },
  {
   "cell_type": "code",
   "execution_count": 10,
   "id": "b0cff6c7",
   "metadata": {},
   "outputs": [
    {
     "name": "stdout",
     "output_type": "stream",
     "text": [
      "17\n",
      "30\n"
     ]
    }
   ],
   "source": [
    "hr = int(input())\n",
    "mi = int(input())"
   ]
  },
  {
   "cell_type": "code",
   "execution_count": 11,
   "id": "376db8ea",
   "metadata": {},
   "outputs": [
    {
     "name": "stdout",
     "output_type": "stream",
     "text": [
      "good evening\n"
     ]
    }
   ],
   "source": [
    "if hr > 0 and hr <12:\n",
    "    print(\"good morning\")\n",
    "elif hr > 12 and hr < 16:\n",
    "    print(\"good afternoon\")\n",
    "elif hr > 16 and hr < 24:\n",
    "    print(\"good evening\")"
   ]
  },
  {
   "cell_type": "code",
   "execution_count": 14,
   "id": "bd1cded2",
   "metadata": {},
   "outputs": [
    {
     "name": "stdout",
     "output_type": "stream",
     "text": [
      "good evening\n"
     ]
    }
   ],
   "source": [
    "#24 hr format\n",
    "if (hr > 0 and mi <59) and (hr < 12 and mi <59):\n",
    "    print(\"good morning\")\n",
    "elif (hr > 12 and mi <59) and (hr < 16 and mi <59):\n",
    "    print(\"good afternoon\")\n",
    "elif (hr > 16 and mi <59) and (hr < 24 and mi <59):\n",
    "    print(\"good evening\")"
   ]
  },
  {
   "cell_type": "code",
   "execution_count": 18,
   "id": "6c0dd32a",
   "metadata": {},
   "outputs": [
    {
     "name": "stdout",
     "output_type": "stream",
     "text": [
      "10\n",
      "30\n",
      "pm\n"
     ]
    }
   ],
   "source": [
    "hr = int(input())\n",
    "mi = int(input())\n",
    "am_pm=input()"
   ]
  },
  {
   "cell_type": "code",
   "execution_count": 19,
   "id": "f0ff6a5a",
   "metadata": {},
   "outputs": [
    {
     "name": "stdout",
     "output_type": "stream",
     "text": [
      "good evening\n"
     ]
    }
   ],
   "source": [
    "# 12 hour format\n",
    "if (hr > 0 and mi <59) and (hr < 12 and mi <59) and (am_pm == 'am'):\n",
    "    print(\"good morning\")\n",
    "elif (hr > 0 and mi <59) and (hr < 4 and mi <59) and (am_pm == 'pm'):\n",
    "    print(\"good afternoon\")\n",
    "elif (hr > 4 and mi <59) and (hr < 12 and mi <59) and (am_pm == 'pm'):\n",
    "    print(\"good evening\")"
   ]
  },
  {
   "cell_type": "code",
   "execution_count": 20,
   "id": "44c5e08b",
   "metadata": {},
   "outputs": [],
   "source": [
    "#2. Accept first_name, last_name, print birthday wishes"
   ]
  },
  {
   "cell_type": "code",
   "execution_count": 22,
   "id": "d1065dae",
   "metadata": {},
   "outputs": [
    {
     "name": "stdout",
     "output_type": "stream",
     "text": [
      "enter first name Ravi\n",
      "enter last name Kumar\n"
     ]
    }
   ],
   "source": [
    "first_name=input(\"enter first name \")\n",
    "last_name=input(\"enter last name \")"
   ]
  },
  {
   "cell_type": "code",
   "execution_count": 25,
   "id": "bd5cc1c0",
   "metadata": {},
   "outputs": [],
   "source": [
    "greeting_string = f\"Happy Birthday {first_name} {last_name}\""
   ]
  },
  {
   "cell_type": "code",
   "execution_count": 26,
   "id": "d761c7e5",
   "metadata": {},
   "outputs": [
    {
     "name": "stdout",
     "output_type": "stream",
     "text": [
      "Happy Birthday Ravi Kumar\n"
     ]
    }
   ],
   "source": [
    "print(greeting_string)"
   ]
  },
  {
   "cell_type": "code",
   "execution_count": 27,
   "id": "b3d6c712",
   "metadata": {},
   "outputs": [],
   "source": [
    "g_string = \"Happy Birthday \"+ first_name + ' '+last_name"
   ]
  },
  {
   "cell_type": "code",
   "execution_count": 28,
   "id": "24656db5",
   "metadata": {},
   "outputs": [
    {
     "name": "stdout",
     "output_type": "stream",
     "text": [
      "Happy Birthday Ravi Kumar\n"
     ]
    }
   ],
   "source": [
    "print(g_string)"
   ]
  },
  {
   "cell_type": "code",
   "execution_count": 31,
   "id": "864df213",
   "metadata": {},
   "outputs": [],
   "source": [
    "g_string1 = \"happy birthday \" + str(hr) + ' '+ str(mi)"
   ]
  },
  {
   "cell_type": "code",
   "execution_count": 38,
   "id": "69a7319f",
   "metadata": {},
   "outputs": [],
   "source": [
    "g_string2= f\"happy birthday {hr} {mi}\" # f for string formatting"
   ]
  },
  {
   "cell_type": "code",
   "execution_count": 39,
   "id": "688a4a6a",
   "metadata": {},
   "outputs": [
    {
     "name": "stdout",
     "output_type": "stream",
     "text": [
      "happy birthday 10 30\n"
     ]
    }
   ],
   "source": [
    "print(g_string2)"
   ]
  },
  {
   "cell_type": "code",
   "execution_count": 40,
   "id": "33832388",
   "metadata": {},
   "outputs": [],
   "source": [
    "#3. Accept first_name, Last_name, class, Section, marks(english, maths, science) print report card of student\n"
   ]
  },
  {
   "cell_type": "code",
   "execution_count": 44,
   "id": "d5d77f93",
   "metadata": {},
   "outputs": [
    {
     "name": "stdout",
     "output_type": "stream",
     "text": [
      "enter first name Laxmi\n",
      "enter last nameKumari\n",
      "enter class 9th\n",
      "enter section C\n",
      "enter english marks 89\n",
      " enter maths marks 98\n",
      " enter science marks92\n"
     ]
    }
   ],
   "source": [
    "f_name = input(\"enter first name \")\n",
    "l_name = input(\"enter last name\")\n",
    "cl = input(\"enter class \")\n",
    "se = input(\"enter section \")\n",
    "e_marks = input(\"enter english marks \")\n",
    "m_marks = input(\" enter maths marks \")\n",
    "s_marks = input(\" enter science marks\")\n",
    "total_marks = int(e_marks) + int(m_marks) + int(s_marks)\n",
    "percentage = (float(total_marks)/300.0)*100.0"
   ]
  },
  {
   "cell_type": "code",
   "execution_count": 49,
   "id": "8e9b27af",
   "metadata": {},
   "outputs": [],
   "source": [
    "report_card_string=f\"\"\"\n",
    "***************************** Report card ******************\\n\n",
    "Name: {f_name} {l_name}  Class: {cl}  Section {se}\\n\n",
    "Subject wise marks: \\n\n",
    "English : {e_marks}\\n\n",
    "Maths : {m_marks}\\n\n",
    "Science: {s_marks}\\n\n",
    "Total : {total_marks}\\n\n",
    "Percentage: {percentage}\\n\n",
    "************************ Congratulations *******************\\n\n",
    "\"\"\""
   ]
  },
  {
   "cell_type": "code",
   "execution_count": 50,
   "id": "6339ed89",
   "metadata": {},
   "outputs": [
    {
     "name": "stdout",
     "output_type": "stream",
     "text": [
      "\n",
      "***************************** Report card ******************\n",
      "\n",
      "Name: Laxmi Kumari  Class: 9th  Section C\n",
      "\n",
      "Subject wise marks: \n",
      "\n",
      "English : 89\n",
      "\n",
      "Maths : 98\n",
      "\n",
      "Science: 92\n",
      "\n",
      "Total : 279\n",
      "\n",
      "Percentage: 93.0\n",
      "\n",
      "************************ Congratulations *******************\n",
      "\n",
      "\n"
     ]
    }
   ],
   "source": [
    "print(report_card_string)"
   ]
  },
  {
   "cell_type": "code",
   "execution_count": 51,
   "id": "26cc3ada",
   "metadata": {},
   "outputs": [],
   "source": [
    "#4. Accept first_name, Last_name, DOB, location, Time of birth print birth certificate\n",
    "#5. Accept first_name, Lastname, PAN Number, Account Balance, Date, print bank statement\n",
    "#6. Accpet first_name, last_name, department, date of joining, print Service letter\n",
    "#7. Accept first_name, last_name, class, section, Date of joining, date of releiving, school name print study certificate"
   ]
  },
  {
   "cell_type": "code",
   "execution_count": null,
   "id": "28806b1f",
   "metadata": {},
   "outputs": [],
   "source": []
  }
 ],
 "metadata": {
  "kernelspec": {
   "display_name": "Python 3 (ipykernel)",
   "language": "python",
   "name": "python3"
  },
  "language_info": {
   "codemirror_mode": {
    "name": "ipython",
    "version": 3
   },
   "file_extension": ".py",
   "mimetype": "text/x-python",
   "name": "python",
   "nbconvert_exporter": "python",
   "pygments_lexer": "ipython3",
   "version": "3.9.12"
  }
 },
 "nbformat": 4,
 "nbformat_minor": 5
}
