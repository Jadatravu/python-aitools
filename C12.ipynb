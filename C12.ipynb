{
 "cells": [
  {
   "cell_type": "code",
   "execution_count": null,
   "id": "d6c8efc5",
   "metadata": {},
   "outputs": [],
   "source": [
    "#Exceptions"
   ]
  },
  {
   "cell_type": "code",
   "execution_count": 1,
   "id": "d201e6be",
   "metadata": {},
   "outputs": [],
   "source": [
    "def cal_process(n1,n2):\n",
    "    result =n1/n2\n",
    "    return result\n",
    "    "
   ]
  },
  {
   "cell_type": "code",
   "execution_count": 2,
   "id": "45037e5e",
   "metadata": {},
   "outputs": [
    {
     "data": {
      "text/plain": [
       "5.0"
      ]
     },
     "execution_count": 2,
     "metadata": {},
     "output_type": "execute_result"
    }
   ],
   "source": [
    "cal_process(10,2)"
   ]
  },
  {
   "cell_type": "code",
   "execution_count": 3,
   "id": "6799bce6",
   "metadata": {},
   "outputs": [
    {
     "data": {
      "text/plain": [
       "10.0"
      ]
     },
     "execution_count": 3,
     "metadata": {},
     "output_type": "execute_result"
    }
   ],
   "source": [
    "cal_process(100,10)"
   ]
  },
  {
   "cell_type": "code",
   "execution_count": 4,
   "id": "aaa85b01",
   "metadata": {},
   "outputs": [
    {
     "ename": "ZeroDivisionError",
     "evalue": "division by zero",
     "output_type": "error",
     "traceback": [
      "\u001b[1;31m---------------------------------------------------------------------------\u001b[0m",
      "\u001b[1;31mZeroDivisionError\u001b[0m                         Traceback (most recent call last)",
      "Input \u001b[1;32mIn [4]\u001b[0m, in \u001b[0;36m<cell line: 1>\u001b[1;34m()\u001b[0m\n\u001b[1;32m----> 1\u001b[0m \u001b[43mcal_process\u001b[49m\u001b[43m(\u001b[49m\u001b[38;5;241;43m20\u001b[39;49m\u001b[43m,\u001b[49m\u001b[38;5;241;43m0\u001b[39;49m\u001b[43m)\u001b[49m\n",
      "Input \u001b[1;32mIn [1]\u001b[0m, in \u001b[0;36mcal_process\u001b[1;34m(n1, n2)\u001b[0m\n\u001b[0;32m      1\u001b[0m \u001b[38;5;28;01mdef\u001b[39;00m \u001b[38;5;21mcal_process\u001b[39m(n1,n2):\n\u001b[1;32m----> 2\u001b[0m     result \u001b[38;5;241m=\u001b[39m\u001b[43mn1\u001b[49m\u001b[38;5;241;43m/\u001b[39;49m\u001b[43mn2\u001b[49m\n\u001b[0;32m      3\u001b[0m     \u001b[38;5;28;01mreturn\u001b[39;00m result\n",
      "\u001b[1;31mZeroDivisionError\u001b[0m: division by zero"
     ]
    }
   ],
   "source": [
    "cal_process(20,0)"
   ]
  },
  {
   "cell_type": "code",
   "execution_count": 5,
   "id": "5e088fec",
   "metadata": {},
   "outputs": [],
   "source": [
    "list1=[10,20,30,50,76,98]"
   ]
  },
  {
   "cell_type": "code",
   "execution_count": 6,
   "id": "58a803c8",
   "metadata": {},
   "outputs": [
    {
     "ename": "IndexError",
     "evalue": "list index out of range",
     "output_type": "error",
     "traceback": [
      "\u001b[1;31m---------------------------------------------------------------------------\u001b[0m",
      "\u001b[1;31mIndexError\u001b[0m                                Traceback (most recent call last)",
      "Input \u001b[1;32mIn [6]\u001b[0m, in \u001b[0;36m<cell line: 1>\u001b[1;34m()\u001b[0m\n\u001b[1;32m----> 1\u001b[0m \u001b[43mlist1\u001b[49m\u001b[43m[\u001b[49m\u001b[38;5;241;43m100\u001b[39;49m\u001b[43m]\u001b[49m\n",
      "\u001b[1;31mIndexError\u001b[0m: list index out of range"
     ]
    }
   ],
   "source": [
    "list1[100]"
   ]
  },
  {
   "cell_type": "code",
   "execution_count": 7,
   "id": "5e81f8b3",
   "metadata": {},
   "outputs": [],
   "source": [
    "d1={10:\"ten\",20:\"twenty\"}"
   ]
  },
  {
   "cell_type": "code",
   "execution_count": 8,
   "id": "91f97486",
   "metadata": {},
   "outputs": [
    {
     "ename": "KeyError",
     "evalue": "40",
     "output_type": "error",
     "traceback": [
      "\u001b[1;31m---------------------------------------------------------------------------\u001b[0m",
      "\u001b[1;31mKeyError\u001b[0m                                  Traceback (most recent call last)",
      "Input \u001b[1;32mIn [8]\u001b[0m, in \u001b[0;36m<cell line: 1>\u001b[1;34m()\u001b[0m\n\u001b[1;32m----> 1\u001b[0m \u001b[43md1\u001b[49m\u001b[43m[\u001b[49m\u001b[38;5;241;43m40\u001b[39;49m\u001b[43m]\u001b[49m\n",
      "\u001b[1;31mKeyError\u001b[0m: 40"
     ]
    }
   ],
   "source": [
    "d1[40]"
   ]
  },
  {
   "cell_type": "code",
   "execution_count": 15,
   "id": "234d877f",
   "metadata": {},
   "outputs": [
    {
     "name": "stdout",
     "output_type": "stream",
     "text": [
      " Exception occured : division by zero\n"
     ]
    }
   ],
   "source": [
    "try:\n",
    "    print(cal_process(100,0))\n",
    "except Exception as e1:\n",
    "     print(f\" Exception occured : {e1}\")"
   ]
  },
  {
   "cell_type": "code",
   "execution_count": 13,
   "id": "d9b5fc09",
   "metadata": {},
   "outputs": [
    {
     "name": "stdout",
     "output_type": "stream",
     "text": [
      " Exception occured : list index out of range\n"
     ]
    }
   ],
   "source": [
    "try:\n",
    "    print(list1[100])\n",
    "except Exception as e2:\n",
    "    print(f\" Exception occured : {e2}\")"
   ]
  },
  {
   "cell_type": "code",
   "execution_count": 14,
   "id": "f0c7c546",
   "metadata": {},
   "outputs": [
    {
     "name": "stdout",
     "output_type": "stream",
     "text": [
      "excecption occured :40\n"
     ]
    }
   ],
   "source": [
    "try:\n",
    "    print(d1[40])\n",
    "except Exception as e3:\n",
    "    print(f\"excecption occured :{e3}\")"
   ]
  },
  {
   "cell_type": "code",
   "execution_count": 19,
   "id": "d433bc1a",
   "metadata": {},
   "outputs": [
    {
     "name": "stdout",
     "output_type": "stream",
     "text": [
      "exception occured :list index out of range\n"
     ]
    }
   ],
   "source": [
    "try:\n",
    "    print(list1[100])\n",
    "    print(cal_process(100,0)) \n",
    "    print(d1[40])\n",
    "    #print(list1[100])\n",
    "    #print(cal_process(100,0))    \n",
    "except Exception as e4:\n",
    "    print(f\"exception occured :{e4}\")"
   ]
  },
  {
   "cell_type": "code",
   "execution_count": 23,
   "id": "4b5bd431",
   "metadata": {},
   "outputs": [
    {
     "name": "stdout",
     "output_type": "stream",
     "text": [
      "20\n",
      "exception not occured :30\n",
      " final statment of the code block : 6\n"
     ]
    }
   ],
   "source": [
    "try:\n",
    "    print(list1[1])    \n",
    "except Exception as e4:\n",
    "    print(f\"exception occured :{e4}\")\n",
    "else:\n",
    "    print(f\"exception not occured :{list1[2]}\")\n",
    "finally:\n",
    "    print(f\" final statment of the code block : {len(list1)}\")\n",
    "    "
   ]
  },
  {
   "cell_type": "code",
   "execution_count": 24,
   "id": "f970338e",
   "metadata": {},
   "outputs": [],
   "source": [
    "# count how many even numbers in the list\n",
    "def count_even_in_list(list_1):\n",
    "    c1 = 0\n",
    "    for i1 in list_1:\n",
    "        if i1%2 == 0:\n",
    "            c1 = c1+1\n",
    "    return c1\n",
    "def count_negative_odd(list_2):\n",
    "    c2 = 0\n",
    "    for i2 in list_2:\n",
    "        if i2 < 0 and i2%2 == 1:\n",
    "            c2 = c2+1\n",
    "    return c2\n",
    "#count negative even numbers\n",
    "def count_negative_even(list_2):\n",
    "    c2 = 0\n",
    "    for i2 in list_2:\n",
    "        if i2 < 0 and i2%2 == 0:\n",
    "            c2 = c2+1\n",
    "    return c2\n",
    "\n",
    "def count_above_100(list_3):\n",
    "    try:\n",
    "        c3 = 0\n",
    "    except Exception as e5:\n",
    "        print(f\"exception occured : {e5}\")\n",
    "    \n",
    "    try:\n",
    "        for i3 in list_3:\n",
    "            if i3 >= 100:\n",
    "                c3 = c3+1\n",
    "        return c3\n",
    "    except Exception a e6:\n",
    "        print(f\"exception occured : {e6}\")\n",
    "        return -1\n",
    "    \n",
    "def count_below_100(list_3):\n",
    "    try:\n",
    "        c3 = 0\n",
    "        for i3 in list_3:\n",
    "            if i3 < 100:\n",
    "                c3 = c3+1\n",
    "        return c3\n",
    "    except Exception as e1:\n",
    "        print(f\"Exception occured :{e1}\")\n",
    "        return -1\n",
    "        "
   ]
  },
  {
   "cell_type": "code",
   "execution_count": 27,
   "id": "85cbcd2f",
   "metadata": {},
   "outputs": [
    {
     "name": "stdout",
     "output_type": "stream",
     "text": [
      "12\n",
      "2\n",
      "2\n",
      "2\n",
      "7\n",
      " Exception not occured \n",
      "this is a final statement of the code block \n",
      " this is bascially to release resources\n",
      "\n"
     ]
    }
   ],
   "source": [
    "try:\n",
    "    list4 =[2,5,15,30,45,67,89,100,120, -123,-45,-66,88,-890]\n",
    "    print(count_below_100(list4))\n",
    "    print(count_above_100(list4))\n",
    "    print(count_negative_even(list4))\n",
    "    print(count_negative_odd(list4))\n",
    "    print(count_even_in_list(list4))\n",
    "except Exception as e5:\n",
    "    print(f\"Exception occured : {e5}\")\n",
    "else:\n",
    "    print(f\" Exception not occured \")\n",
    "finally:\n",
    "    print(f\"this is a final statement of the code block \\n this is bascially to release resources\\n\")"
   ]
  },
  {
   "cell_type": "code",
   "execution_count": 28,
   "id": "85293bee",
   "metadata": {},
   "outputs": [
    {
     "name": "stdout",
     "output_type": "stream",
     "text": [
      "12\n"
     ]
    }
   ],
   "source": [
    "result = count_below_100(list4)\n",
    "if result > 0:\n",
    "    print(result)\n",
    "else:\n",
    "    print(\"some error occured\")"
   ]
  },
  {
   "cell_type": "code",
   "execution_count": null,
   "id": "850f7732",
   "metadata": {},
   "outputs": [],
   "source": [
    "# Generate numbers between 13 to 23, add 5 to each number and prepare a new list\n",
    "# generate numbers between 99 to 119 multiply 7 to each number and prepare a new list\n",
    "# take inputs of above two lists and print sum of even numbers among them\n",
    "# count odd numbers in the above two lists"
   ]
  }
 ],
 "metadata": {
  "kernelspec": {
   "display_name": "Python 3 (ipykernel)",
   "language": "python",
   "name": "python3"
  },
  "language_info": {
   "codemirror_mode": {
    "name": "ipython",
    "version": 3
   },
   "file_extension": ".py",
   "mimetype": "text/x-python",
   "name": "python",
   "nbconvert_exporter": "python",
   "pygments_lexer": "ipython3",
   "version": "3.9.12"
  }
 },
 "nbformat": 4,
 "nbformat_minor": 5
}
