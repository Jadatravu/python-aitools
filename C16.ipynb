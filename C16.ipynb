{
 "cells": [
  {
   "cell_type": "code",
   "execution_count": null,
   "id": "d6d89bcf",
   "metadata": {},
   "outputs": [],
   "source": [
    "# append operation in files => adds content at the end, prior content remains un altered\n",
    "# application is basically in log files"
   ]
  },
  {
   "cell_type": "code",
   "execution_count": 1,
   "id": "16ebfe09",
   "metadata": {},
   "outputs": [
    {
     "data": {
      "text/plain": [
       "'\\nread contents(numbers) from the files, sort them and print at the end of the existing file\\n\\n'"
      ]
     },
     "execution_count": 1,
     "metadata": {},
     "output_type": "execute_result"
    }
   ],
   "source": [
    "\"\"\"\n",
    "read contents(numbers) from the files, sort them and print at the end of the existing file\n",
    "\n",
    "\"\"\""
   ]
  },
  {
   "cell_type": "code",
   "execution_count": 5,
   "id": "b3023ec1",
   "metadata": {},
   "outputs": [],
   "source": [
    "fp1 = open(\"simple_numbers_file.txt\",'r')\n",
    "l1 = fp1.readlines()\n",
    "fp1.close()"
   ]
  },
  {
   "cell_type": "code",
   "execution_count": 6,
   "id": "c396397f",
   "metadata": {},
   "outputs": [
    {
     "data": {
      "text/plain": [
       "['123\\n',\n",
       " '456\\n',\n",
       " '-123\\n',\n",
       " '-987\\n',\n",
       " '1234\\n',\n",
       " '987\\n',\n",
       " '-876\\n',\n",
       " '-64\\n',\n",
       " '345\\n',\n",
       " '-765\\n',\n",
       " '23456\\n',\n",
       " '-987']"
      ]
     },
     "execution_count": 6,
     "metadata": {},
     "output_type": "execute_result"
    }
   ],
   "source": [
    "l1"
   ]
  },
  {
   "cell_type": "code",
   "execution_count": 7,
   "id": "696269d5",
   "metadata": {},
   "outputs": [],
   "source": [
    "l1_int=[]\n",
    "for i1 in l1:\n",
    "    e1=int(i1.strip('\\n'))\n",
    "    l1_int.append(e1)"
   ]
  },
  {
   "cell_type": "code",
   "execution_count": 8,
   "id": "3930b98e",
   "metadata": {},
   "outputs": [
    {
     "data": {
      "text/plain": [
       "[123, 456, -123, -987, 1234, 987, -876, -64, 345, -765, 23456, -987]"
      ]
     },
     "execution_count": 8,
     "metadata": {},
     "output_type": "execute_result"
    }
   ],
   "source": [
    "l1_int"
   ]
  },
  {
   "cell_type": "code",
   "execution_count": 9,
   "id": "17716572",
   "metadata": {},
   "outputs": [],
   "source": [
    "l1_int.sort()"
   ]
  },
  {
   "cell_type": "code",
   "execution_count": 10,
   "id": "e5acee15",
   "metadata": {},
   "outputs": [
    {
     "data": {
      "text/plain": [
       "[-987, -987, -876, -765, -123, -64, 123, 345, 456, 987, 1234, 23456]"
      ]
     },
     "execution_count": 10,
     "metadata": {},
     "output_type": "execute_result"
    }
   ],
   "source": [
    "l1_int"
   ]
  },
  {
   "cell_type": "code",
   "execution_count": 25,
   "id": "23dd16a5",
   "metadata": {},
   "outputs": [
    {
     "name": "stdout",
     "output_type": "stream",
     "text": [
      "Exception occured :list index out of range\n"
     ]
    }
   ],
   "source": [
    "\n",
    "try:\n",
    "    l1=[123]\n",
    "    print(l1[10])\n",
    "    fp2 = open(\"numbers12312345.txt\",'r')\n",
    "    \"\"\"\n",
    "    for i2 in l1_int:\n",
    "        fp2.write(str(i2))\n",
    "        fp2.write('\\n')\n",
    "    \"\"\"\n",
    "    fp2.close()\n",
    "    \n",
    "\n",
    "except FileNotFoundError as e1:\n",
    "    print(f\"Exception occured :{e1}\")\n",
    "except Exception as e2:\n",
    "    print(f\"Exception occured :{e2}\")\n",
    "    \n",
    "    "
   ]
  },
  {
   "cell_type": "code",
   "execution_count": 22,
   "id": "63a1c53c",
   "metadata": {},
   "outputs": [
    {
     "ename": "FileNotFoundError",
     "evalue": "[Errno 2] No such file or directory: 'numbers12312345.txt'",
     "output_type": "error",
     "traceback": [
      "\u001b[1;31m---------------------------------------------------------------------------\u001b[0m",
      "\u001b[1;31mFileNotFoundError\u001b[0m                         Traceback (most recent call last)",
      "Input \u001b[1;32mIn [22]\u001b[0m, in \u001b[0;36m<cell line: 1>\u001b[1;34m()\u001b[0m\n\u001b[1;32m----> 1\u001b[0m fp2 \u001b[38;5;241m=\u001b[39m \u001b[38;5;28;43mopen\u001b[39;49m\u001b[43m(\u001b[49m\u001b[38;5;124;43m\"\u001b[39;49m\u001b[38;5;124;43mnumbers12312345.txt\u001b[39;49m\u001b[38;5;124;43m\"\u001b[39;49m\u001b[43m,\u001b[49m\u001b[38;5;124;43m'\u001b[39;49m\u001b[38;5;124;43mr\u001b[39;49m\u001b[38;5;124;43m'\u001b[39;49m\u001b[43m)\u001b[49m\n\u001b[0;32m      2\u001b[0m fp2\u001b[38;5;241m.\u001b[39mclose()\n",
      "\u001b[1;31mFileNotFoundError\u001b[0m: [Errno 2] No such file or directory: 'numbers12312345.txt'"
     ]
    }
   ],
   "source": [
    "fp2 = open(\"numbers12312345.txt\",'r')\n",
    "fp2.close()"
   ]
  },
  {
   "cell_type": "code",
   "execution_count": 26,
   "id": "b4dda072",
   "metadata": {},
   "outputs": [],
   "source": [
    "#os,sys,datetime"
   ]
  },
  {
   "cell_type": "code",
   "execution_count": 27,
   "id": "7040b208",
   "metadata": {},
   "outputs": [],
   "source": [
    "import datetime"
   ]
  },
  {
   "cell_type": "code",
   "execution_count": 28,
   "id": "39bfc93d",
   "metadata": {},
   "outputs": [
    {
     "data": {
      "text/plain": [
       "datetime.datetime(2024, 5, 11, 21, 50, 5, 104296)"
      ]
     },
     "execution_count": 28,
     "metadata": {},
     "output_type": "execute_result"
    }
   ],
   "source": [
    "datetime.datetime.now()"
   ]
  },
  {
   "cell_type": "code",
   "execution_count": null,
   "id": "14217126",
   "metadata": {},
   "outputs": [],
   "source": [
    "#langchain"
   ]
  }
 ],
 "metadata": {
  "kernelspec": {
   "display_name": "Python 3 (ipykernel)",
   "language": "python",
   "name": "python3"
  },
  "language_info": {
   "codemirror_mode": {
    "name": "ipython",
    "version": 3
   },
   "file_extension": ".py",
   "mimetype": "text/x-python",
   "name": "python",
   "nbconvert_exporter": "python",
   "pygments_lexer": "ipython3",
   "version": "3.9.12"
  }
 },
 "nbformat": 4,
 "nbformat_minor": 5
}
