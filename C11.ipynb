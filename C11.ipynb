{
 "cells": [
  {
   "cell_type": "code",
   "execution_count": null,
   "id": "26fa0bc7",
   "metadata": {},
   "outputs": [],
   "source": [
    "# list4 =[2,5,15,30,45,67,89,100,120, -123,-45,-66,88,-890]\n",
    "1. get the count of even numbers,(How many even numbers in the above list4)\n",
    "2. get the count of positive numbers\n",
    "3. get the sum of positive even number\n",
    "4. get the sum of negative odd number\n",
    "5. get the product of negative numbers\n",
    "1. product of odd numbers under 5000\n",
    "2. sum of nmbers divisible by 5 under 2000\n",
    "3. sum of number [0,25,50,75,100,125,150,....975,1000]\n",
    "4. sum of numbers[-90,-80,-70,... -10,0]\n",
    "5. product numbers [-9,-8,-7,-6,-5....-1,0]"
   ]
  },
  {
   "cell_type": "code",
   "execution_count": 1,
   "id": "e4c68fff",
   "metadata": {},
   "outputs": [],
   "source": [
    "list4 =[2,5,15,30,45,67,89,100,120, -123,-45,-66,88,-890]"
   ]
  },
  {
   "cell_type": "code",
   "execution_count": 2,
   "id": "18fcf44f",
   "metadata": {},
   "outputs": [],
   "source": [
    "# count how many even numbers in the list\n",
    "def count_even_in_list(list_1):\n",
    "    c1 = 0\n",
    "    for i1 in list_1:\n",
    "        if i1%2 == 0:\n",
    "            c1 = c1+1\n",
    "    return c1"
   ]
  },
  {
   "cell_type": "code",
   "execution_count": 3,
   "id": "7e6ea460",
   "metadata": {},
   "outputs": [
    {
     "data": {
      "text/plain": [
       "7"
      ]
     },
     "execution_count": 3,
     "metadata": {},
     "output_type": "execute_result"
    }
   ],
   "source": [
    "count_even_in_list(list4)"
   ]
  },
  {
   "cell_type": "code",
   "execution_count": 4,
   "id": "b2ae911e",
   "metadata": {},
   "outputs": [],
   "source": [
    "#count negative odd numbers\n",
    "def count_negative_odd(list_2):\n",
    "    c2 = 0\n",
    "    for i2 in list_2:\n",
    "        if i2 < 0 and i2%2 == 1:\n",
    "            c2 = c2+1\n",
    "    return c2\n",
    "        "
   ]
  },
  {
   "cell_type": "code",
   "execution_count": 6,
   "id": "15e1eeb3",
   "metadata": {},
   "outputs": [
    {
     "data": {
      "text/plain": [
       "2"
      ]
     },
     "execution_count": 6,
     "metadata": {},
     "output_type": "execute_result"
    }
   ],
   "source": [
    "count_negative_odd(list4)"
   ]
  },
  {
   "cell_type": "code",
   "execution_count": 7,
   "id": "3108e0c8",
   "metadata": {},
   "outputs": [],
   "source": [
    "#count negative even numbers\n",
    "def count_negative_even(list_2):\n",
    "    c2 = 0\n",
    "    for i2 in list_2:\n",
    "        if i2 < 0 and i2%2 == 0:\n",
    "            c2 = c2+1\n",
    "    return c2"
   ]
  },
  {
   "cell_type": "code",
   "execution_count": 8,
   "id": "2ec48572",
   "metadata": {},
   "outputs": [
    {
     "data": {
      "text/plain": [
       "2"
      ]
     },
     "execution_count": 8,
     "metadata": {},
     "output_type": "execute_result"
    }
   ],
   "source": [
    "count_negative_even(list4)"
   ]
  },
  {
   "cell_type": "code",
   "execution_count": 12,
   "id": "e5fab879",
   "metadata": {},
   "outputs": [],
   "source": [
    "#count how any numbers above 100 in the list\n",
    "def count_above_100(list_3):\n",
    "    c3 = 0\n",
    "    for i3 in list_3:\n",
    "        if i3 >= 100:\n",
    "            c3 = c3+1\n",
    "    return c3"
   ]
  },
  {
   "cell_type": "code",
   "execution_count": 13,
   "id": "651a1780",
   "metadata": {},
   "outputs": [
    {
     "data": {
      "text/plain": [
       "2"
      ]
     },
     "execution_count": 13,
     "metadata": {},
     "output_type": "execute_result"
    }
   ],
   "source": [
    "count_above_100(list4)"
   ]
  },
  {
   "cell_type": "code",
   "execution_count": 14,
   "id": "f81e0f39",
   "metadata": {},
   "outputs": [],
   "source": [
    "def count_below_100(list_3):\n",
    "    c3 = 0\n",
    "    for i3 in list_3:\n",
    "        if i3 < 100:\n",
    "            c3 = c3+1\n",
    "    return c3"
   ]
  },
  {
   "cell_type": "code",
   "execution_count": 16,
   "id": "e13299d6",
   "metadata": {},
   "outputs": [],
   "source": [
    "#c3 =99"
   ]
  },
  {
   "cell_type": "code",
   "execution_count": 17,
   "id": "2f4add8c",
   "metadata": {},
   "outputs": [],
   "source": [
    "#product of odd numbers under 5000"
   ]
  },
  {
   "cell_type": "code",
   "execution_count": 21,
   "id": "152c47ca",
   "metadata": {},
   "outputs": [],
   "source": [
    "def pro_odd_5000():\n",
    "    pro=1\n",
    "    for i1 in range(1,500):\n",
    "        if i1 % 2 ==1:\n",
    "            pro = pro*i1\n",
    "    return pro"
   ]
  },
  {
   "cell_type": "code",
   "execution_count": 22,
   "id": "b6761069",
   "metadata": {},
   "outputs": [
    {
     "data": {
      "text/plain": [
       "208604284293399085604137531380642264845696522995883280260208890335592434187334787184129783035459017003115722423575460202397878351209550826620861120481661278169994723444541531600253338916086085445932955967253886218686660370194805132303474892329460161542480661453908252918841644289966800318085417013762040809292199040682511297867003034588151158639970310749844326987774114622947970567074041240505009220166328193278271918274409909332869012688977854597684895841115753307907281275691434551575334662681182212858372658799006398379935305065213668740398134104907512664794921875"
      ]
     },
     "execution_count": 22,
     "metadata": {},
     "output_type": "execute_result"
    }
   ],
   "source": [
    "pro_odd_5000()"
   ]
  },
  {
   "cell_type": "code",
   "execution_count": 23,
   "id": "bcfbdb54",
   "metadata": {},
   "outputs": [],
   "source": [
    "#count total items ina list with out using len function"
   ]
  },
  {
   "cell_type": "code",
   "execution_count": 24,
   "id": "c86dac73",
   "metadata": {},
   "outputs": [
    {
     "data": {
      "text/plain": [
       "14"
      ]
     },
     "execution_count": 24,
     "metadata": {},
     "output_type": "execute_result"
    }
   ],
   "source": [
    "len(list4)"
   ]
  },
  {
   "cell_type": "code",
   "execution_count": 25,
   "id": "50ae4d8a",
   "metadata": {},
   "outputs": [],
   "source": [
    "def count_list(list_1):\n",
    "    c1=0\n",
    "    for i1 in list_1:\n",
    "        c1 = c1+1\n",
    "    return c1"
   ]
  },
  {
   "cell_type": "code",
   "execution_count": 26,
   "id": "5ffc9d9d",
   "metadata": {},
   "outputs": [
    {
     "data": {
      "text/plain": [
       "14"
      ]
     },
     "execution_count": 26,
     "metadata": {},
     "output_type": "execute_result"
    }
   ],
   "source": [
    "count_list(list4)"
   ]
  },
  {
   "cell_type": "code",
   "execution_count": 27,
   "id": "97d4deda",
   "metadata": {},
   "outputs": [],
   "source": [
    "#get the index of item 100 with out using index function"
   ]
  },
  {
   "cell_type": "code",
   "execution_count": 28,
   "id": "b6068b27",
   "metadata": {},
   "outputs": [
    {
     "data": {
      "text/plain": [
       "7"
      ]
     },
     "execution_count": 28,
     "metadata": {},
     "output_type": "execute_result"
    }
   ],
   "source": [
    "list4.index(100)"
   ]
  },
  {
   "cell_type": "code",
   "execution_count": 29,
   "id": "9618adc5",
   "metadata": {},
   "outputs": [],
   "source": [
    "def get_index_100(list_2):\n",
    "    for i1 in range(0,len(list_2)):\n",
    "        if list_2[i1]==100:\n",
    "            return i1"
   ]
  },
  {
   "cell_type": "code",
   "execution_count": 30,
   "id": "f8f37bc4",
   "metadata": {},
   "outputs": [
    {
     "data": {
      "text/plain": [
       "7"
      ]
     },
     "execution_count": 30,
     "metadata": {},
     "output_type": "execute_result"
    }
   ],
   "source": [
    "get_index_100(list4)"
   ]
  },
  {
   "cell_type": "code",
   "execution_count": 31,
   "id": "5a37503a",
   "metadata": {},
   "outputs": [],
   "source": [
    "#count how many times 100 repeated in the list with out using count function"
   ]
  },
  {
   "cell_type": "code",
   "execution_count": 32,
   "id": "b96fd7a3",
   "metadata": {},
   "outputs": [
    {
     "data": {
      "text/plain": [
       "1"
      ]
     },
     "execution_count": 32,
     "metadata": {},
     "output_type": "execute_result"
    }
   ],
   "source": [
    "list4.count(100)"
   ]
  },
  {
   "cell_type": "code",
   "execution_count": 33,
   "id": "e61dac15",
   "metadata": {},
   "outputs": [],
   "source": [
    "def count_100_list(list_3):\n",
    "    c1 = 0\n",
    "    for i3 in list_3:\n",
    "        if i3 == 100:\n",
    "            c1 = c1 +1\n",
    "    return c1\n",
    "            "
   ]
  },
  {
   "cell_type": "code",
   "execution_count": 34,
   "id": "20b0fcef",
   "metadata": {},
   "outputs": [
    {
     "data": {
      "text/plain": [
       "1"
      ]
     },
     "execution_count": 34,
     "metadata": {},
     "output_type": "execute_result"
    }
   ],
   "source": [
    "count_100_list(list4)"
   ]
  },
  {
   "cell_type": "code",
   "execution_count": 35,
   "id": "a6fac551",
   "metadata": {},
   "outputs": [],
   "source": [
    "# write a function to convert centigrade temp to farenhiet temp\n",
    "# write a function takes storage in MB converts it to GB and TB\n",
    "# write a function takes distance in Meters and converts it to cm and KM\n",
    "# write a function takes currency in dollors and converts it to Pounds, Rupees, Euros"
   ]
  },
  {
   "cell_type": "code",
   "execution_count": 36,
   "id": "0ba8f11b",
   "metadata": {},
   "outputs": [
    {
     "data": {
      "text/plain": [
       "[2, 5, 15, 30, 45, 67, 89, 100, 120, -123, -45, -66, 88, -890]"
      ]
     },
     "execution_count": 36,
     "metadata": {},
     "output_type": "execute_result"
    }
   ],
   "source": [
    "list4"
   ]
  },
  {
   "cell_type": "code",
   "execution_count": 37,
   "id": "67960236",
   "metadata": {},
   "outputs": [],
   "source": [
    "# get count of even and odd numbers int he list\n",
    "def count_even_odd(list_4):\n",
    "    c_even=0\n",
    "    c_odd=0\n",
    "    for i1 in list_4:\n",
    "        if i1%2 ==0:\n",
    "            c_even =c_even +1\n",
    "        elif i1%2==1:\n",
    "            c_odd = c_odd+1\n",
    "    return c_even,c_odd"
   ]
  },
  {
   "cell_type": "code",
   "execution_count": 38,
   "id": "1369dac2",
   "metadata": {},
   "outputs": [],
   "source": [
    "ce,co = count_even_odd(list4)"
   ]
  },
  {
   "cell_type": "code",
   "execution_count": 39,
   "id": "91782e64",
   "metadata": {},
   "outputs": [
    {
     "name": "stdout",
     "output_type": "stream",
     "text": [
      "7 7\n"
     ]
    }
   ],
   "source": [
    "print(ce,co)"
   ]
  },
  {
   "cell_type": "code",
   "execution_count": null,
   "id": "a9a7845d",
   "metadata": {},
   "outputs": [],
   "source": []
  }
 ],
 "metadata": {
  "kernelspec": {
   "display_name": "Python 3 (ipykernel)",
   "language": "python",
   "name": "python3"
  },
  "language_info": {
   "codemirror_mode": {
    "name": "ipython",
    "version": 3
   },
   "file_extension": ".py",
   "mimetype": "text/x-python",
   "name": "python",
   "nbconvert_exporter": "python",
   "pygments_lexer": "ipython3",
   "version": "3.9.12"
  }
 },
 "nbformat": 4,
 "nbformat_minor": 5
}
