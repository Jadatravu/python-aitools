{
 "cells": [
  {
   "cell_type": "code",
   "execution_count": 3,
   "id": "9724e4b2",
   "metadata": {},
   "outputs": [],
   "source": [
    "# this is user defined python module\n",
    "\n",
    "d1={100:\"apple\",200:\"banana\",300:\"google\",400:\"chrome\"}\n",
    "l1 = [ 12,45,67,89,90]\n",
    "\n",
    "str1 = \"Today is sunday we are learning python modules\"\n",
    "\n",
    "def count_the_length_of_the_string(str2):\n",
    "    l2=list(str2)\n",
    "    result= len(l2)\n",
    "    return result\n",
    "\n"
   ]
  },
  {
   "cell_type": "code",
   "execution_count": null,
   "id": "aaf560d7",
   "metadata": {},
   "outputs": [],
   "source": []
  }
 ],
 "metadata": {
  "kernelspec": {
   "display_name": "Python 3 (ipykernel)",
   "language": "python",
   "name": "python3"
  },
  "language_info": {
   "codemirror_mode": {
    "name": "ipython",
    "version": 3
   },
   "file_extension": ".py",
   "mimetype": "text/x-python",
   "name": "python",
   "nbconvert_exporter": "python",
   "pygments_lexer": "ipython3",
   "version": "3.9.12"
  }
 },
 "nbformat": 4,
 "nbformat_minor": 5
}
