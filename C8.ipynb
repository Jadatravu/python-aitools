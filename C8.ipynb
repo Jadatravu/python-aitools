{
 "cells": [
  {
   "cell_type": "code",
   "execution_count": 1,
   "id": "afa79c96",
   "metadata": {},
   "outputs": [
    {
     "data": {
      "text/plain": [
       "'\\nFor loop Practice\\n----------------------------------------------------\\n1. take a list list1=[10,20,30,40,55,50,60,77,70,80,90,100]\\n   a. add number 3 for each item and print\\n   b. substract number 5 for each item and print\\n   c. compute sum of number in the list\\n   d. compute product of number in the list\\n   e. print odd numbers in the list\\n2. Take a list list2=[-5,-20,90,88,66,99,111,34,234]\\n   a. compute maximum number in the list\\n   b. compute minimum number in the list\\n   c. print positive numbers in the list\\n   d. print negative numbers in the list\\n   e. print even numbers in the list\\n'"
      ]
     },
     "execution_count": 1,
     "metadata": {},
     "output_type": "execute_result"
    }
   ],
   "source": [
    "\"\"\"\n",
    "For loop Practice\n",
    "----------------------------------------------------\n",
    "1. take a list list1=[10,20,30,40,55,50,60,77,70,80,90,100]\n",
    "   a. add number 3 for each item and print\n",
    "   b. substract number 5 for each item and print\n",
    "   c. compute sum of number in the list\n",
    "   d. compute product of number in the list\n",
    "   e. print odd numbers in the list\n",
    "2. Take a list list2=[-5,-20,90,88,66,99,111,34,234]\n",
    "   a. compute maximum number in the list\n",
    "   b. compute minimum number in the list\n",
    "   c. print positive numbers in the list\n",
    "   d. print negative numbers in the list\n",
    "   e. print even numbers in the list\n",
    "\"\"\""
   ]
  },
  {
   "cell_type": "code",
   "execution_count": 5,
   "id": "b7025d77",
   "metadata": {},
   "outputs": [],
   "source": [
    "list1=[10,20,30,40,55,50,60,77,70,80,90,100]"
   ]
  },
  {
   "cell_type": "code",
   "execution_count": null,
   "id": "5a62f2e1",
   "metadata": {},
   "outputs": [],
   "source": [
    "# add 3 to every item in the list"
   ]
  },
  {
   "cell_type": "code",
   "execution_count": 7,
   "id": "18fd8ce2",
   "metadata": {},
   "outputs": [
    {
     "data": {
      "text/plain": [
       "10"
      ]
     },
     "execution_count": 7,
     "metadata": {},
     "output_type": "execute_result"
    }
   ],
   "source": [
    "list1[0]"
   ]
  },
  {
   "cell_type": "code",
   "execution_count": 8,
   "id": "4b6d6053",
   "metadata": {},
   "outputs": [
    {
     "data": {
      "text/plain": [
       "12"
      ]
     },
     "execution_count": 8,
     "metadata": {},
     "output_type": "execute_result"
    }
   ],
   "source": [
    "len(list1)"
   ]
  },
  {
   "cell_type": "code",
   "execution_count": 12,
   "id": "da9b0cf4",
   "metadata": {},
   "outputs": [],
   "source": [
    "for i2 in range(0,len(list1),1):\n",
    "    list1[i2] = list1[i2]+3\n"
   ]
  },
  {
   "cell_type": "code",
   "execution_count": 13,
   "id": "441fa9d4",
   "metadata": {},
   "outputs": [
    {
     "name": "stdout",
     "output_type": "stream",
     "text": [
      "[13, 23, 33, 43, 58, 53, 63, 80, 73, 83, 93, 103]\n"
     ]
    }
   ],
   "source": [
    "print(list1)"
   ]
  },
  {
   "cell_type": "code",
   "execution_count": 14,
   "id": "cc3f4b0f",
   "metadata": {},
   "outputs": [],
   "source": [
    "for i2 in range(0,len(list1),1):\n",
    "    list1[i2] = float(list1[i2])/10.0"
   ]
  },
  {
   "cell_type": "code",
   "execution_count": 15,
   "id": "17afcfb5",
   "metadata": {},
   "outputs": [
    {
     "name": "stdout",
     "output_type": "stream",
     "text": [
      "[1.3, 2.3, 3.3, 4.3, 5.8, 5.3, 6.3, 8.0, 7.3, 8.3, 9.3, 10.3]\n"
     ]
    }
   ],
   "source": [
    "print(list1)"
   ]
  },
  {
   "cell_type": "code",
   "execution_count": 16,
   "id": "1f06dbb2",
   "metadata": {},
   "outputs": [],
   "source": [
    "list1=[10,20,30,40,55,50,60,77,70,80,90,100]"
   ]
  },
  {
   "cell_type": "code",
   "execution_count": 17,
   "id": "abdda9be",
   "metadata": {},
   "outputs": [],
   "source": [
    "for i2 in range(0,len(list1),1):\n",
    "    list1[i2] = list1[i2]-5"
   ]
  },
  {
   "cell_type": "code",
   "execution_count": 18,
   "id": "839fe818",
   "metadata": {},
   "outputs": [
    {
     "name": "stdout",
     "output_type": "stream",
     "text": [
      "[5, 15, 25, 35, 50, 45, 55, 72, 65, 75, 85, 95]\n"
     ]
    }
   ],
   "source": [
    "print(list1)"
   ]
  },
  {
   "cell_type": "code",
   "execution_count": 19,
   "id": "6c707e57",
   "metadata": {},
   "outputs": [],
   "source": [
    "sum1=0\n",
    "for i2 in range(0,len(list1),1):\n",
    "    sum1=sum1 +list1[i2]\n",
    "    "
   ]
  },
  {
   "cell_type": "code",
   "execution_count": 20,
   "id": "b7670d3f",
   "metadata": {},
   "outputs": [],
   "source": [
    "sum2 = 0\n",
    "for i3 in list1:\n",
    "    sum2=sum2+i3"
   ]
  },
  {
   "cell_type": "code",
   "execution_count": 21,
   "id": "0dd780c7",
   "metadata": {},
   "outputs": [
    {
     "data": {
      "text/plain": [
       "622"
      ]
     },
     "execution_count": 21,
     "metadata": {},
     "output_type": "execute_result"
    }
   ],
   "source": [
    "sum1"
   ]
  },
  {
   "cell_type": "code",
   "execution_count": 22,
   "id": "283fed0f",
   "metadata": {},
   "outputs": [
    {
     "data": {
      "text/plain": [
       "622"
      ]
     },
     "execution_count": 22,
     "metadata": {},
     "output_type": "execute_result"
    }
   ],
   "source": [
    "sum2"
   ]
  },
  {
   "cell_type": "code",
   "execution_count": 24,
   "id": "0dd5bd6d",
   "metadata": {},
   "outputs": [
    {
     "data": {
      "text/plain": [
       "[5, 15, 25, 35, 50, 45, 55, 72, 65, 75, 85, 95]"
      ]
     },
     "execution_count": 24,
     "metadata": {},
     "output_type": "execute_result"
    }
   ],
   "source": [
    "list1"
   ]
  },
  {
   "cell_type": "code",
   "execution_count": 25,
   "id": "36af90fc",
   "metadata": {},
   "outputs": [],
   "source": [
    "odd_list = []\n",
    "for i2 in range(0,len(list1),1): #0,1,2,3,4....11 #list1[0]\n",
    "    if list1[i2] % 2 ==1:\n",
    "        odd_list.append(list1[i2])\n",
    "    "
   ]
  },
  {
   "cell_type": "code",
   "execution_count": 26,
   "id": "6dbcc473",
   "metadata": {},
   "outputs": [
    {
     "name": "stdout",
     "output_type": "stream",
     "text": [
      "[5, 15, 25, 35, 45, 55, 65, 75, 85, 95]\n"
     ]
    }
   ],
   "source": [
    "print(odd_list)"
   ]
  },
  {
   "cell_type": "code",
   "execution_count": null,
   "id": "6c16dadb",
   "metadata": {},
   "outputs": [],
   "source": []
  },
  {
   "cell_type": "code",
   "execution_count": null,
   "id": "60076a02",
   "metadata": {},
   "outputs": [],
   "source": []
  },
  {
   "cell_type": "code",
   "execution_count": null,
   "id": "bea27fc8",
   "metadata": {},
   "outputs": [],
   "source": []
  },
  {
   "cell_type": "code",
   "execution_count": null,
   "id": "cf31b49a",
   "metadata": {},
   "outputs": [],
   "source": []
  },
  {
   "cell_type": "code",
   "execution_count": null,
   "id": "97f10082",
   "metadata": {},
   "outputs": [],
   "source": []
  },
  {
   "cell_type": "code",
   "execution_count": null,
   "id": "743f7f50",
   "metadata": {},
   "outputs": [],
   "source": []
  },
  {
   "cell_type": "code",
   "execution_count": 6,
   "id": "11b1e071",
   "metadata": {},
   "outputs": [
    {
     "name": "stdout",
     "output_type": "stream",
     "text": [
      "10\n",
      "20\n",
      "30\n",
      "40\n",
      "55\n",
      "50\n",
      "60\n",
      "77\n",
      "70\n",
      "80\n",
      "90\n",
      "100\n"
     ]
    }
   ],
   "source": [
    "for i1 in list1:\n",
    "    print(i1)"
   ]
  },
  {
   "cell_type": "code",
   "execution_count": null,
   "id": "b8667748",
   "metadata": {},
   "outputs": [],
   "source": []
  },
  {
   "cell_type": "code",
   "execution_count": null,
   "id": "7fe074ae",
   "metadata": {},
   "outputs": [],
   "source": []
  },
  {
   "cell_type": "code",
   "execution_count": 2,
   "id": "4543f10b",
   "metadata": {},
   "outputs": [],
   "source": [
    "first_name = \"Hari\"\n",
    "last_name = \"Kumar\""
   ]
  },
  {
   "cell_type": "code",
   "execution_count": 3,
   "id": "10248f76",
   "metadata": {},
   "outputs": [],
   "source": [
    "str1 = f\"Good morning {first_name} {last_name}\""
   ]
  },
  {
   "cell_type": "code",
   "execution_count": 4,
   "id": "0757460e",
   "metadata": {},
   "outputs": [
    {
     "name": "stdout",
     "output_type": "stream",
     "text": [
      "Good morning Hari Kumar\n"
     ]
    }
   ],
   "source": [
    "print(str1)"
   ]
  },
  {
   "cell_type": "code",
   "execution_count": 27,
   "id": "ef693317",
   "metadata": {},
   "outputs": [],
   "source": [
    "list2=[-5,-20,90,88,66,99,111,34,234]"
   ]
  },
  {
   "cell_type": "code",
   "execution_count": 28,
   "id": "39e8db3e",
   "metadata": {},
   "outputs": [],
   "source": [
    "max1 = list2[0]"
   ]
  },
  {
   "cell_type": "code",
   "execution_count": 29,
   "id": "0385dd01",
   "metadata": {},
   "outputs": [],
   "source": [
    "for i4 in list2:\n",
    "    if max1 < i4:\n",
    "        max1 = i4"
   ]
  },
  {
   "cell_type": "code",
   "execution_count": 30,
   "id": "58ac9137",
   "metadata": {},
   "outputs": [
    {
     "name": "stdout",
     "output_type": "stream",
     "text": [
      "234\n"
     ]
    }
   ],
   "source": [
    "print(max1)"
   ]
  },
  {
   "cell_type": "code",
   "execution_count": 31,
   "id": "7b582c16",
   "metadata": {},
   "outputs": [],
   "source": [
    "min1 = list2[0]"
   ]
  },
  {
   "cell_type": "code",
   "execution_count": 32,
   "id": "3b5aca50",
   "metadata": {},
   "outputs": [],
   "source": [
    "for i5 in list2:\n",
    "    if min1 > i5:\n",
    "        min1 = i5"
   ]
  },
  {
   "cell_type": "code",
   "execution_count": 33,
   "id": "ae555b50",
   "metadata": {},
   "outputs": [
    {
     "name": "stdout",
     "output_type": "stream",
     "text": [
      "-20\n"
     ]
    }
   ],
   "source": [
    "print(min1)"
   ]
  },
  {
   "cell_type": "code",
   "execution_count": 34,
   "id": "1bb83e96",
   "metadata": {},
   "outputs": [
    {
     "data": {
      "text/plain": [
       "-20"
      ]
     },
     "execution_count": 34,
     "metadata": {},
     "output_type": "execute_result"
    }
   ],
   "source": [
    "min(list2)"
   ]
  },
  {
   "cell_type": "code",
   "execution_count": 35,
   "id": "bc88ef9f",
   "metadata": {},
   "outputs": [
    {
     "data": {
      "text/plain": [
       "234"
      ]
     },
     "execution_count": 35,
     "metadata": {},
     "output_type": "execute_result"
    }
   ],
   "source": [
    "max(list2)"
   ]
  },
  {
   "cell_type": "code",
   "execution_count": null,
   "id": "00f91d17",
   "metadata": {},
   "outputs": [],
   "source": [
    "1. Accept temperature value in centigrade and convert it to fahrenheit\n",
    " F = (C × 9/5) + 32\n",
    "2. Accept temperature value in fahrenheit and convert it to centigrade\n",
    "C = (F − 32) x 5/9\n",
    "3. Accept a number in Dollors and convert it to Pounds, Euros, Rupees\n",
    "1Dollor = 80 Rupees\n",
    "1Pounds = 90 Rupees\n",
    "1 Euro = 85 Rupees\n",
    "4. Accept a number in Rupees and convert it to Dollors, Pounds, Euros"
   ]
  },
  {
   "cell_type": "code",
   "execution_count": 36,
   "id": "06616d0b",
   "metadata": {},
   "outputs": [
    {
     "name": "stdout",
     "output_type": "stream",
     "text": [
      "enter temp in centigrade: 38.3\n"
     ]
    }
   ],
   "source": [
    "cent_temp= float(input(\"enter temp in centigrade: \"))"
   ]
  },
  {
   "cell_type": "code",
   "execution_count": 38,
   "id": "f50283e3",
   "metadata": {},
   "outputs": [],
   "source": [
    "far_temp=(cent_temp * 9.0/5.0) + 32.0"
   ]
  },
  {
   "cell_type": "code",
   "execution_count": 40,
   "id": "af62bd34",
   "metadata": {},
   "outputs": [
    {
     "name": "stdout",
     "output_type": "stream",
     "text": [
      "fahrenheit temperature : 100.94\n"
     ]
    }
   ],
   "source": [
    "print(f\"fahrenheit temperature : {far_temp}\")"
   ]
  },
  {
   "cell_type": "code",
   "execution_count": 41,
   "id": "8dfcea2b",
   "metadata": {},
   "outputs": [
    {
     "name": "stdout",
     "output_type": "stream",
     "text": [
      "enter curreny value in dollors :10\n"
     ]
    }
   ],
   "source": [
    "cur_dollor = float(input(\"enter curreny value in dollors :\"))"
   ]
  },
  {
   "cell_type": "code",
   "execution_count": 42,
   "id": "07ba3691",
   "metadata": {},
   "outputs": [],
   "source": [
    "cur_rupees = float(cur_dollor)*83.2"
   ]
  },
  {
   "cell_type": "code",
   "execution_count": 43,
   "id": "3bf1b564",
   "metadata": {},
   "outputs": [
    {
     "name": "stdout",
     "output_type": "stream",
     "text": [
      "currency in rupees : 832.0\n"
     ]
    }
   ],
   "source": [
    "print(f\"currency in rupees : {cur_rupees}\")"
   ]
  },
  {
   "cell_type": "code",
   "execution_count": 44,
   "id": "ce5090fc",
   "metadata": {},
   "outputs": [],
   "source": [
    "cur_pounds = cur_rupees/102.0"
   ]
  },
  {
   "cell_type": "code",
   "execution_count": 45,
   "id": "7ae2e8e2",
   "metadata": {},
   "outputs": [
    {
     "name": "stdout",
     "output_type": "stream",
     "text": [
      "curreny in pounds : 8.156862745098039\n"
     ]
    }
   ],
   "source": [
    "print(f\"curreny in pounds : {cur_pounds}\")"
   ]
  },
  {
   "cell_type": "code",
   "execution_count": 46,
   "id": "e62c513f",
   "metadata": {},
   "outputs": [],
   "source": [
    "cur_euros = cur_rupees/89.0"
   ]
  },
  {
   "cell_type": "code",
   "execution_count": 47,
   "id": "c7fadeaa",
   "metadata": {},
   "outputs": [
    {
     "name": "stdout",
     "output_type": "stream",
     "text": [
      "currency in euros : 9.348314606741573\n"
     ]
    }
   ],
   "source": [
    "print(f\"currency in euros : {cur_euros}\")"
   ]
  },
  {
   "cell_type": "code",
   "execution_count": 48,
   "id": "4c41ba0a",
   "metadata": {},
   "outputs": [],
   "source": [
    "result_statement =f\"\"\"\n",
    "*********************** currency statement **********************\\n\n",
    "Dollors :{cur_dollor}\\n\n",
    "Euros   :{cur_euros}\\n\n",
    "Rupees  :{cur_rupees}\\n\n",
    "Pounds  :{cur_pounds}\\n\n",
    "******************************************************************\n",
    "\"\"\""
   ]
  },
  {
   "cell_type": "code",
   "execution_count": 49,
   "id": "1f430493",
   "metadata": {},
   "outputs": [
    {
     "name": "stdout",
     "output_type": "stream",
     "text": [
      "\n",
      "*********************** currency statement **********************\n",
      "\n",
      "Dollors :10.0\n",
      "\n",
      "Euros   :9.348314606741573\n",
      "\n",
      "Rupees  :832.0\n",
      "\n",
      "Pounds  :8.156862745098039\n",
      "\n",
      "******************************************************************\n",
      "\n"
     ]
    }
   ],
   "source": [
    "print(result_statement)"
   ]
  },
  {
   "cell_type": "code",
   "execution_count": null,
   "id": "f7767660",
   "metadata": {},
   "outputs": [],
   "source": [
    "Tue 6.30am,Thur 6.30am,Sat=>Sunday 9pm IST"
   ]
  }
 ],
 "metadata": {
  "kernelspec": {
   "display_name": "Python 3 (ipykernel)",
   "language": "python",
   "name": "python3"
  },
  "language_info": {
   "codemirror_mode": {
    "name": "ipython",
    "version": 3
   },
   "file_extension": ".py",
   "mimetype": "text/x-python",
   "name": "python",
   "nbconvert_exporter": "python",
   "pygments_lexer": "ipython3",
   "version": "3.9.12"
  }
 },
 "nbformat": 4,
 "nbformat_minor": 5
}
