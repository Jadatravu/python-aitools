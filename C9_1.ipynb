{
 "cells": [
  {
   "cell_type": "code",
   "execution_count": null,
   "id": "9566bd04",
   "metadata": {},
   "outputs": [],
   "source": [
    "\"\"\"\n",
    "Tuple is a special case of list, Where all items are immutable(items are not alterable)\n",
    "Tuple items are enclosed by ( )\n",
    "index => returns the index of a particular item\n",
    "count => returns the number of times a particular item is present inth tuple\n",
    "\"\"\""
   ]
  },
  {
   "cell_type": "code",
   "execution_count": 1,
   "id": "25d6b03e",
   "metadata": {},
   "outputs": [],
   "source": [
    "t1 = ( 10,20,33,77,'c',\"hello\",12.09)"
   ]
  },
  {
   "cell_type": "code",
   "execution_count": 2,
   "id": "350797f4",
   "metadata": {},
   "outputs": [
    {
     "data": {
      "text/plain": [
       "7"
      ]
     },
     "execution_count": 2,
     "metadata": {},
     "output_type": "execute_result"
    }
   ],
   "source": [
    "len(t1)"
   ]
  },
  {
   "cell_type": "code",
   "execution_count": 3,
   "id": "48b9c8bd",
   "metadata": {},
   "outputs": [
    {
     "data": {
      "text/plain": [
       "3"
      ]
     },
     "execution_count": 3,
     "metadata": {},
     "output_type": "execute_result"
    }
   ],
   "source": [
    "t1.index(77) #=> returns the postion or the index of item 77"
   ]
  },
  {
   "cell_type": "code",
   "execution_count": 4,
   "id": "7e775d8b",
   "metadata": {},
   "outputs": [
    {
     "data": {
      "text/plain": [
       "6"
      ]
     },
     "execution_count": 4,
     "metadata": {},
     "output_type": "execute_result"
    }
   ],
   "source": [
    "t1.index(12.09) # => returns the position or the index of item 12.09"
   ]
  },
  {
   "cell_type": "code",
   "execution_count": 5,
   "id": "a7762f30",
   "metadata": {},
   "outputs": [
    {
     "data": {
      "text/plain": [
       "1"
      ]
     },
     "execution_count": 5,
     "metadata": {},
     "output_type": "execute_result"
    }
   ],
   "source": [
    "t1.count('c') # => how many time item 'c' has been present in the tuple"
   ]
  },
  {
   "cell_type": "code",
   "execution_count": 6,
   "id": "9a4d973b",
   "metadata": {},
   "outputs": [
    {
     "data": {
      "text/plain": [
       "1"
      ]
     },
     "execution_count": 6,
     "metadata": {},
     "output_type": "execute_result"
    }
   ],
   "source": [
    "t1.count(12.09)# => how many time item 12.09 has been present in the tuple"
   ]
  },
  {
   "cell_type": "code",
   "execution_count": 7,
   "id": "45e7957d",
   "metadata": {},
   "outputs": [
    {
     "data": {
      "text/plain": [
       "'hello'"
      ]
     },
     "execution_count": 7,
     "metadata": {},
     "output_type": "execute_result"
    }
   ],
   "source": [
    "t1[5]"
   ]
  },
  {
   "cell_type": "code",
   "execution_count": 8,
   "id": "8087ae26",
   "metadata": {},
   "outputs": [
    {
     "data": {
      "text/plain": [
       "77"
      ]
     },
     "execution_count": 8,
     "metadata": {},
     "output_type": "execute_result"
    }
   ],
   "source": [
    "t1[3]"
   ]
  },
  {
   "cell_type": "code",
   "execution_count": 9,
   "id": "1f2ffa7d",
   "metadata": {},
   "outputs": [
    {
     "ename": "TypeError",
     "evalue": "'tuple' object does not support item assignment",
     "output_type": "error",
     "traceback": [
      "\u001b[1;31m---------------------------------------------------------------------------\u001b[0m",
      "\u001b[1;31mTypeError\u001b[0m                                 Traceback (most recent call last)",
      "Input \u001b[1;32mIn [9]\u001b[0m, in \u001b[0;36m<cell line: 1>\u001b[1;34m()\u001b[0m\n\u001b[1;32m----> 1\u001b[0m t1[\u001b[38;5;241m1\u001b[39m]\u001b[38;5;241m=\u001b[39m\u001b[38;5;241m123\u001b[39m\n",
      "\u001b[1;31mTypeError\u001b[0m: 'tuple' object does not support item assignment"
     ]
    }
   ],
   "source": [
    "t1[1]=123 # => throws an error"
   ]
  },
  {
   "cell_type": "code",
   "execution_count": 10,
   "id": "d7fea817",
   "metadata": {},
   "outputs": [],
   "source": [
    "t2 = (\"ramu_user\",\"qwery123\")"
   ]
  },
  {
   "cell_type": "code",
   "execution_count": 11,
   "id": "27d6645f",
   "metadata": {},
   "outputs": [],
   "source": [
    "l1=list(t2)"
   ]
  },
  {
   "cell_type": "code",
   "execution_count": 12,
   "id": "ec93c13b",
   "metadata": {},
   "outputs": [],
   "source": [
    "l1[1]=\"Qwerty@123\""
   ]
  },
  {
   "cell_type": "code",
   "execution_count": 13,
   "id": "18b5b033",
   "metadata": {},
   "outputs": [],
   "source": [
    "t2=tuple(l1)"
   ]
  },
  {
   "cell_type": "code",
   "execution_count": 14,
   "id": "d6f82e22",
   "metadata": {},
   "outputs": [
    {
     "data": {
      "text/plain": [
       "('ramu_user', 'Qwerty@123')"
      ]
     },
     "execution_count": 14,
     "metadata": {},
     "output_type": "execute_result"
    }
   ],
   "source": [
    "t2\n"
   ]
  },
  {
   "cell_type": "code",
   "execution_count": null,
   "id": "89565d0d",
   "metadata": {},
   "outputs": [],
   "source": []
  }
 ],
 "metadata": {
  "kernelspec": {
   "display_name": "Python 3 (ipykernel)",
   "language": "python",
   "name": "python3"
  },
  "language_info": {
   "codemirror_mode": {
    "name": "ipython",
    "version": 3
   },
   "file_extension": ".py",
   "mimetype": "text/x-python",
   "name": "python",
   "nbconvert_exporter": "python",
   "pygments_lexer": "ipython3",
   "version": "3.9.12"
  }
 },
 "nbformat": 4,
 "nbformat_minor": 5
}
