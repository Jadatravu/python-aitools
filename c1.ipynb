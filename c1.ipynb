{
 "cells": [
  {
   "cell_type": "code",
   "execution_count": null,
   "id": "6eaf7075",
   "metadata": {},
   "outputs": [],
   "source": [
    "x*x + 2*x +1"
   ]
  },
  {
   "cell_type": "code",
   "execution_count": null,
   "id": "22932c4e",
   "metadata": {},
   "outputs": [],
   "source": [
    "x=2=>9"
   ]
  },
  {
   "cell_type": "code",
   "execution_count": null,
   "id": "9be6cb53",
   "metadata": {},
   "outputs": [],
   "source": [
    "x=3 => 16"
   ]
  },
  {
   "cell_type": "code",
   "execution_count": null,
   "id": "18e4c135",
   "metadata": {},
   "outputs": [],
   "source": [
    "Integer => 10,56,45\n",
    "float  =>12.9,67.45,34.90\n",
    "string => \"good morning\", \"we are learning python\", \"100 mangoes\"\n",
    "Character => 'c','a','w'"
   ]
  },
  {
   "cell_type": "code",
   "execution_count": 1,
   "id": "d9738b96",
   "metadata": {},
   "outputs": [],
   "source": [
    "x=2.2 "
   ]
  },
  {
   "cell_type": "code",
   "execution_count": 2,
   "id": "24405cf8",
   "metadata": {},
   "outputs": [
    {
     "data": {
      "text/plain": [
       "10.240000000000002"
      ]
     },
     "execution_count": 2,
     "metadata": {},
     "output_type": "execute_result"
    }
   ],
   "source": [
    "x*x + 2*x +1"
   ]
  },
  {
   "cell_type": "code",
   "execution_count": 3,
   "id": "15f46e1b",
   "metadata": {},
   "outputs": [],
   "source": [
    "x=99"
   ]
  },
  {
   "cell_type": "code",
   "execution_count": 4,
   "id": "63a9c9f6",
   "metadata": {},
   "outputs": [
    {
     "data": {
      "text/plain": [
       "10000"
      ]
     },
     "execution_count": 4,
     "metadata": {},
     "output_type": "execute_result"
    }
   ],
   "source": [
    "x*x + 2*x +1"
   ]
  },
  {
   "cell_type": "code",
   "execution_count": 5,
   "id": "28288b6f",
   "metadata": {},
   "outputs": [],
   "source": [
    "x=67\n",
    "y=56\n",
    "z=7.8"
   ]
  },
  {
   "cell_type": "code",
   "execution_count": 6,
   "id": "0890ae64",
   "metadata": {},
   "outputs": [
    {
     "data": {
      "text/plain": [
       "37629.6"
      ]
     },
     "execution_count": 6,
     "metadata": {},
     "output_type": "execute_result"
    }
   ],
   "source": [
    "x*y+x*x+x*y*z+123"
   ]
  },
  {
   "cell_type": "code",
   "execution_count": null,
   "id": "94e9ec6c",
   "metadata": {},
   "outputs": [],
   "source": [
    "loops\n",
    "conditonals"
   ]
  },
  {
   "cell_type": "code",
   "execution_count": null,
   "id": "084b70fb",
   "metadata": {},
   "outputs": [],
   "source": [
    "python data types\n",
    "1.list = it is a collection of items any types any number of repeatations\n",
    "[10,50,78,78.76,12.09,\"qwerty\",'c',10,50,'c',78]\n",
    "2.dictionary = it is a collection of key value pairs {}\n",
    "3.tuple => it is collection of items which are not modifiable, mutable ()\n",
    "4.set => it is a collection of items which are not repeatable {}"
   ]
  },
  {
   "cell_type": "code",
   "execution_count": 7,
   "id": "420eb6ad",
   "metadata": {},
   "outputs": [],
   "source": [
    "x=100 #asignment operation"
   ]
  },
  {
   "cell_type": "code",
   "execution_count": 8,
   "id": "ef983e9f",
   "metadata": {},
   "outputs": [
    {
     "name": "stdout",
     "output_type": "stream",
     "text": [
      "x value is hundred\n"
     ]
    }
   ],
   "source": [
    "if x == 100: #conditions\n",
    "    print(\"x value is hundred\")\n",
    "else:\n",
    "    print(\"x value is not hundred\")"
   ]
  },
  {
   "cell_type": "code",
   "execution_count": 9,
   "id": "01c0dfd3",
   "metadata": {},
   "outputs": [
    {
     "name": "stdout",
     "output_type": "stream",
     "text": [
      "x is hundered\n"
     ]
    }
   ],
   "source": [
    "if x==100:\n",
    "    print(\"x is hundered\")\n",
    "elif x > 100:\n",
    "    print(\"x is greater than 100\")\n",
    "else:\n",
    "    print(\"x is lesser than 100\")"
   ]
  },
  {
   "cell_type": "code",
   "execution_count": 10,
   "id": "9cd270ce",
   "metadata": {},
   "outputs": [],
   "source": [
    "list_1=[10,20,56,89,34,27,74]"
   ]
  },
  {
   "cell_type": "code",
   "execution_count": 11,
   "id": "0cbfed10",
   "metadata": {},
   "outputs": [
    {
     "name": "stdout",
     "output_type": "stream",
     "text": [
      "10\n",
      "20\n",
      "56\n",
      "89\n",
      "34\n",
      "27\n",
      "74\n"
     ]
    }
   ],
   "source": [
    "for i1 in list_1: #i1 is a temprary loop variable\n",
    "    print(i1)"
   ]
  },
  {
   "cell_type": "code",
   "execution_count": 12,
   "id": "9bee253e",
   "metadata": {},
   "outputs": [],
   "source": [
    "list_2=[\"morning\",\"afternoon\",\"evening\"]"
   ]
  },
  {
   "cell_type": "code",
   "execution_count": 13,
   "id": "164ef092",
   "metadata": {},
   "outputs": [
    {
     "name": "stdout",
     "output_type": "stream",
     "text": [
      "morning\n",
      "afternoon\n",
      "evening\n"
     ]
    }
   ],
   "source": [
    "for i2 in list_2:\n",
    "    print(i2)"
   ]
  },
  {
   "cell_type": "code",
   "execution_count": 14,
   "id": "937d2252",
   "metadata": {},
   "outputs": [],
   "source": [
    "list_1=[10,20,56,89,34,27,74]"
   ]
  },
  {
   "cell_type": "code",
   "execution_count": 15,
   "id": "727dab6b",
   "metadata": {},
   "outputs": [
    {
     "name": "stdout",
     "output_type": "stream",
     "text": [
      "219\n",
      "539\n",
      "3347\n",
      "8198\n",
      "1323\n",
      "882\n",
      "5723\n"
     ]
    }
   ],
   "source": [
    "for i3 in list_1:\n",
    "    result = i3*i3+2*i3+99\n",
    "    print(result)"
   ]
  },
  {
   "cell_type": "code",
   "execution_count": 16,
   "id": "161420af",
   "metadata": {},
   "outputs": [],
   "source": [
    "i4=56"
   ]
  },
  {
   "cell_type": "code",
   "execution_count": 17,
   "id": "261482fd",
   "metadata": {},
   "outputs": [],
   "source": [
    "result = i4*i4+2*i4+99"
   ]
  },
  {
   "cell_type": "code",
   "execution_count": 18,
   "id": "fd17e547",
   "metadata": {},
   "outputs": [
    {
     "data": {
      "text/plain": [
       "56"
      ]
     },
     "execution_count": 18,
     "metadata": {},
     "output_type": "execute_result"
    }
   ],
   "source": [
    "list_1[2] #56"
   ]
  },
  {
   "cell_type": "code",
   "execution_count": 19,
   "id": "4dd0ed04",
   "metadata": {},
   "outputs": [],
   "source": [
    "x=list_1[2]"
   ]
  },
  {
   "cell_type": "code",
   "execution_count": 20,
   "id": "b45f963c",
   "metadata": {},
   "outputs": [
    {
     "data": {
      "text/plain": [
       "3347"
      ]
     },
     "execution_count": 20,
     "metadata": {},
     "output_type": "execute_result"
    }
   ],
   "source": [
    "x*x+2*x+99"
   ]
  },
  {
   "cell_type": "code",
   "execution_count": 21,
   "id": "71902bd9",
   "metadata": {},
   "outputs": [
    {
     "name": "stdout",
     "output_type": "stream",
     "text": [
      "3347\n"
     ]
    }
   ],
   "source": [
    "for i3 in list_1:\n",
    "    if i3 == 56:\n",
    "        result = i3*i3+2*i3+99\n",
    "        print(result)"
   ]
  },
  {
   "cell_type": "code",
   "execution_count": null,
   "id": "56621771",
   "metadata": {},
   "outputs": [],
   "source": [
    "if x==10{\n",
    "printf(\"x is 10\")\n",
    "} else{\n",
    "printf(\"x is not 10\")\n",
    "}"
   ]
  }
 ],
 "metadata": {
  "kernelspec": {
   "display_name": "Python 3 (ipykernel)",
   "language": "python",
   "name": "python3"
  },
  "language_info": {
   "codemirror_mode": {
    "name": "ipython",
    "version": 3
   },
   "file_extension": ".py",
   "mimetype": "text/x-python",
   "name": "python",
   "nbconvert_exporter": "python",
   "pygments_lexer": "ipython3",
   "version": "3.11.4"
  }
 },
 "nbformat": 4,
 "nbformat_minor": 5
}
