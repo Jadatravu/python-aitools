{
 "cells": [
  {
   "cell_type": "code",
   "execution_count": null,
   "id": "c8602ce2",
   "metadata": {},
   "outputs": [],
   "source": [
    "#input = takes the input from the command line and stores in a variable in string format\n",
    "#range = returns a list\n",
    "range(0,100,10) #=[0,10,20,30,40,50,60,70,80,90]\n",
    "range(0,10,2)#[0,2,4,6,8]\n",
    "range(0,100,20)#[0,20,40,60,80]\n",
    "range(0,25,5)#[0,5,10,15,20]\n",
    "range(0,1000,100)#[0,100,200,300,400,500,600,700,800,900]\n",
    "range(500,20000,500)#[500,1000,1500,2000,2500,3000,3500,....19500]\n",
    "range(0,-10,-2)#[0,-2,-4,-6,-8]\n",
    "#range is only fors integer not for float values\n",
    "range(0,100)#increment is taken as 1\n",
    "#[0,1,2,3,4,5,6,7,8,9...99]\n",
    "range(10,15)\n",
    "#[10,11,12,13,14]\n",
    "range(50,60)\n",
    "#[50,51,52,53,54,55,56,57,58,59]\n",
    "range(10) # initial value is taken as 0, incrment is taken as 1\n",
    "#[0,1,2,3,4,5,6,7,8,9]\n",
    "range(200)\n",
    "#[0,1,2,3,4,5...199]"
   ]
  },
  {
   "cell_type": "code",
   "execution_count": 1,
   "id": "2db540e5",
   "metadata": {},
   "outputs": [
    {
     "name": "stdout",
     "output_type": "stream",
     "text": [
      "100\n",
      "200\n"
     ]
    }
   ],
   "source": [
    "x1=input()\n",
    "x2=input()"
   ]
  },
  {
   "cell_type": "code",
   "execution_count": 2,
   "id": "6dae3556",
   "metadata": {},
   "outputs": [
    {
     "name": "stdout",
     "output_type": "stream",
     "text": [
      "100\n",
      "200\n"
     ]
    }
   ],
   "source": [
    "print(x1)\n",
    "print(x2)"
   ]
  },
  {
   "cell_type": "code",
   "execution_count": 3,
   "id": "3f7d4dd7",
   "metadata": {},
   "outputs": [
    {
     "data": {
      "text/plain": [
       "'100200'"
      ]
     },
     "execution_count": 3,
     "metadata": {},
     "output_type": "execute_result"
    }
   ],
   "source": [
    "x1+x2"
   ]
  },
  {
   "cell_type": "code",
   "execution_count": 4,
   "id": "e83eae8c",
   "metadata": {},
   "outputs": [],
   "source": [
    "i1=int(x1)\n",
    "i2=int(x2)"
   ]
  },
  {
   "cell_type": "code",
   "execution_count": 5,
   "id": "b282c361",
   "metadata": {},
   "outputs": [
    {
     "data": {
      "text/plain": [
       "300"
      ]
     },
     "execution_count": 5,
     "metadata": {},
     "output_type": "execute_result"
    }
   ],
   "source": [
    "i1+i2"
   ]
  },
  {
   "cell_type": "code",
   "execution_count": 6,
   "id": "dc796d68",
   "metadata": {},
   "outputs": [],
   "source": [
    "#take a number as an input, compute sum of the numbers till that point"
   ]
  },
  {
   "cell_type": "code",
   "execution_count": 9,
   "id": "35d1ca4f",
   "metadata": {},
   "outputs": [
    {
     "name": "stdout",
     "output_type": "stream",
     "text": [
      "100\n"
     ]
    }
   ],
   "source": [
    "i3 = int(input())"
   ]
  },
  {
   "cell_type": "code",
   "execution_count": 10,
   "id": "02fe121c",
   "metadata": {},
   "outputs": [
    {
     "name": "stdout",
     "output_type": "stream",
     "text": [
      "4950\n"
     ]
    }
   ],
   "source": [
    "sum1=0\n",
    "for i1 in range(i3):\n",
    "    sum1= sum1+i1\n",
    "print(sum1)"
   ]
  },
  {
   "cell_type": "code",
   "execution_count": 11,
   "id": "22d6dea5",
   "metadata": {},
   "outputs": [],
   "source": [
    "#take a number as input, compute sum of the even numbers till that point"
   ]
  },
  {
   "cell_type": "code",
   "execution_count": 12,
   "id": "19bc6d85",
   "metadata": {},
   "outputs": [
    {
     "name": "stdout",
     "output_type": "stream",
     "text": [
      "10\n"
     ]
    }
   ],
   "source": [
    "i4=int(input())\n"
   ]
  },
  {
   "cell_type": "code",
   "execution_count": 13,
   "id": "337d4d21",
   "metadata": {},
   "outputs": [
    {
     "name": "stdout",
     "output_type": "stream",
     "text": [
      "20\n"
     ]
    }
   ],
   "source": [
    "sum2=0\n",
    "for i2 in range(0,i4,2):\n",
    "    sum2=sum2+i2\n",
    "print(sum2)"
   ]
  },
  {
   "cell_type": "code",
   "execution_count": 14,
   "id": "c50590c1",
   "metadata": {},
   "outputs": [],
   "source": [
    "#take an number as input, compute the sum of the odd numbers till that point"
   ]
  },
  {
   "cell_type": "code",
   "execution_count": 15,
   "id": "535417f0",
   "metadata": {},
   "outputs": [
    {
     "name": "stdout",
     "output_type": "stream",
     "text": [
      "9\n"
     ]
    }
   ],
   "source": [
    "i5=int(input())"
   ]
  },
  {
   "cell_type": "code",
   "execution_count": 16,
   "id": "d0ac18a6",
   "metadata": {},
   "outputs": [
    {
     "name": "stdout",
     "output_type": "stream",
     "text": [
      "16\n"
     ]
    }
   ],
   "source": [
    "sum3=0\n",
    "for i3 in range(1,i5,2):\n",
    "    sum3=sum3+i3\n",
    "print(sum3)"
   ]
  },
  {
   "cell_type": "code",
   "execution_count": 17,
   "id": "e985baac",
   "metadata": {},
   "outputs": [],
   "source": [
    "#take a number as an input, compute product of the numbers till that point\n",
    "#take a number as input, compute product of the even numbers till that point\n",
    "#take an number as input, compute the product of the odd numbers till that point\n",
    "\n",
    "#take a number as input, compute product of the numbers which are multiples 3 till that point\n",
    "#take an number as input, compute the product of the numbers which are multiples 3 till that point\n",
    "\n",
    "#take a number as input, compute product of the numbers which are multiples 5 till that point\n",
    "#take an number as input, compute the product of the numbers which are multiples 5 till that point\n",
    "\n",
    "#take a number as input, compute product of the numbers which are multiples 7 till that point\n",
    "#take an number as input, compute the product of the numbers which are multiples 7 till that point"
   ]
  },
  {
   "cell_type": "code",
   "execution_count": 18,
   "id": "6f37b9ff",
   "metadata": {},
   "outputs": [
    {
     "name": "stdout",
     "output_type": "stream",
     "text": [
      "100\n"
     ]
    }
   ],
   "source": [
    "i6=int(input())"
   ]
  },
  {
   "cell_type": "code",
   "execution_count": 19,
   "id": "035e2c7b",
   "metadata": {},
   "outputs": [
    {
     "name": "stdout",
     "output_type": "stream",
     "text": [
      "48271088561613960642858365853327381832862269440000000\n"
     ]
    }
   ],
   "source": [
    "pro1=1\n",
    "for x1 in range(3,i6,3):\n",
    "    pro1=pro1*x1\n",
    "print(pro1)"
   ]
  },
  {
   "cell_type": "code",
   "execution_count": 20,
   "id": "41b12296",
   "metadata": {},
   "outputs": [],
   "source": [
    "#string concatanation\n",
    "# \"Hello \" + \"Good \" + \"evening\" => \"Hello Good evening\""
   ]
  },
  {
   "cell_type": "code",
   "execution_count": 21,
   "id": "eaa04da7",
   "metadata": {},
   "outputs": [],
   "source": [
    "# take three inputs from the command line, concatenate and print the final string"
   ]
  },
  {
   "cell_type": "code",
   "execution_count": 22,
   "id": "0706c2d2",
   "metadata": {},
   "outputs": [
    {
     "name": "stdout",
     "output_type": "stream",
     "text": [
      "today\n",
      "is\n",
      "wednesday\n"
     ]
    }
   ],
   "source": [
    "s1=input()\n",
    "s2=input()\n",
    "s3=input()"
   ]
  },
  {
   "cell_type": "code",
   "execution_count": 25,
   "id": "725c68aa",
   "metadata": {},
   "outputs": [],
   "source": [
    "result = s1+' '+s2+' '+s3"
   ]
  },
  {
   "cell_type": "code",
   "execution_count": 26,
   "id": "6e736389",
   "metadata": {},
   "outputs": [
    {
     "name": "stdout",
     "output_type": "stream",
     "text": [
      "today is wednesday\n"
     ]
    }
   ],
   "source": [
    "print(result)"
   ]
  },
  {
   "cell_type": "code",
   "execution_count": 27,
   "id": "eb5b59e3",
   "metadata": {},
   "outputs": [],
   "source": [
    "#upper() => converts the string into uppercase\n",
    "#lower() => converts the string into the lowercase if the original string is in uppercase or title case\n",
    "#title() => converts the string into the title case \"Today Is Wednesday\"\n",
    "#isalpha() # checks the given string is a word not a number"
   ]
  },
  {
   "cell_type": "code",
   "execution_count": 28,
   "id": "1c41feb3",
   "metadata": {},
   "outputs": [],
   "source": [
    "#take a sentence fromt he input and convert into the upper case"
   ]
  },
  {
   "cell_type": "code",
   "execution_count": 29,
   "id": "be9de01b",
   "metadata": {},
   "outputs": [
    {
     "name": "stdout",
     "output_type": "stream",
     "text": [
      "we are learning python basics\n"
     ]
    }
   ],
   "source": [
    "s4=input()"
   ]
  },
  {
   "cell_type": "code",
   "execution_count": 30,
   "id": "d677be4f",
   "metadata": {},
   "outputs": [
    {
     "data": {
      "text/plain": [
       "'WE ARE LEARNING PYTHON BASICS'"
      ]
     },
     "execution_count": 30,
     "metadata": {},
     "output_type": "execute_result"
    }
   ],
   "source": [
    "s4.upper()"
   ]
  },
  {
   "cell_type": "code",
   "execution_count": 31,
   "id": "7302a74d",
   "metadata": {},
   "outputs": [
    {
     "name": "stdout",
     "output_type": "stream",
     "text": [
      "thursday\n"
     ]
    }
   ],
   "source": [
    "s5=input()"
   ]
  },
  {
   "cell_type": "code",
   "execution_count": 32,
   "id": "fc5575c8",
   "metadata": {},
   "outputs": [
    {
     "data": {
      "text/plain": [
       "'THURSDAY'"
      ]
     },
     "execution_count": 32,
     "metadata": {},
     "output_type": "execute_result"
    }
   ],
   "source": [
    "s5.upper()"
   ]
  },
  {
   "cell_type": "code",
   "execution_count": 33,
   "id": "f1898d07",
   "metadata": {},
   "outputs": [],
   "source": [
    "s4_upper=s4.upper()"
   ]
  },
  {
   "cell_type": "code",
   "execution_count": 34,
   "id": "4c3e62fb",
   "metadata": {},
   "outputs": [
    {
     "data": {
      "text/plain": [
       "'WE ARE LEARNING PYTHON BASICS'"
      ]
     },
     "execution_count": 34,
     "metadata": {},
     "output_type": "execute_result"
    }
   ],
   "source": [
    "s4_upper\n"
   ]
  },
  {
   "cell_type": "code",
   "execution_count": 35,
   "id": "2efd65d4",
   "metadata": {},
   "outputs": [
    {
     "data": {
      "text/plain": [
       "['WE', 'ARE', 'LEARNING', 'PYTHON', 'BASICS']"
      ]
     },
     "execution_count": 35,
     "metadata": {},
     "output_type": "execute_result"
    }
   ],
   "source": [
    "s4_upper.split(' ')"
   ]
  },
  {
   "cell_type": "code",
   "execution_count": 36,
   "id": "e7e09b55",
   "metadata": {},
   "outputs": [],
   "source": [
    "s4_upper_list = s4_upper.split(' ')"
   ]
  },
  {
   "cell_type": "code",
   "execution_count": 37,
   "id": "3981c481",
   "metadata": {},
   "outputs": [
    {
     "data": {
      "text/plain": [
       "'WE'"
      ]
     },
     "execution_count": 37,
     "metadata": {},
     "output_type": "execute_result"
    }
   ],
   "source": [
    "s4_upper_list[0]"
   ]
  },
  {
   "cell_type": "code",
   "execution_count": 38,
   "id": "e837dab6",
   "metadata": {},
   "outputs": [],
   "source": [
    "n1=s4_upper_list[0]"
   ]
  },
  {
   "cell_type": "code",
   "execution_count": 39,
   "id": "29fab25d",
   "metadata": {},
   "outputs": [
    {
     "data": {
      "text/plain": [
       "'W'"
      ]
     },
     "execution_count": 39,
     "metadata": {},
     "output_type": "execute_result"
    }
   ],
   "source": [
    "list(n1)[0]"
   ]
  },
  {
   "cell_type": "code",
   "execution_count": 40,
   "id": "3d372e57",
   "metadata": {},
   "outputs": [
    {
     "name": "stdout",
     "output_type": "stream",
     "text": [
      "today is thursday\n"
     ]
    }
   ],
   "source": [
    "s7=input()\n"
   ]
  },
  {
   "cell_type": "code",
   "execution_count": 41,
   "id": "7856b07c",
   "metadata": {},
   "outputs": [],
   "source": [
    "s7list=s7.split(' ')"
   ]
  },
  {
   "cell_type": "code",
   "execution_count": 44,
   "id": "964c556f",
   "metadata": {},
   "outputs": [
    {
     "data": {
      "text/plain": [
       "'Today is THURSDAY'"
      ]
     },
     "execution_count": 44,
     "metadata": {},
     "output_type": "execute_result"
    }
   ],
   "source": [
    "s7list[0].title() + ' '+ s7list[1] + ' '+s7list[2].upper()"
   ]
  },
  {
   "cell_type": "code",
   "execution_count": null,
   "id": "aed34b80",
   "metadata": {},
   "outputs": [],
   "source": []
  }
 ],
 "metadata": {
  "kernelspec": {
   "display_name": "Python 3 (ipykernel)",
   "language": "python",
   "name": "python3"
  },
  "language_info": {
   "codemirror_mode": {
    "name": "ipython",
    "version": 3
   },
   "file_extension": ".py",
   "mimetype": "text/x-python",
   "name": "python",
   "nbconvert_exporter": "python",
   "pygments_lexer": "ipython3",
   "version": "3.11.4"
  }
 },
 "nbformat": 4,
 "nbformat_minor": 5
}
