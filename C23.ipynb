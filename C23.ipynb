{
 "cells": [
  {
   "cell_type": "code",
   "execution_count": 2,
   "id": "c2cf9bf8",
   "metadata": {},
   "outputs": [
    {
     "data": {
      "text/plain": [
       "'\\nGP\\n|\\nP\\n|\\nC\\n|\\nGC\\n\\n'"
      ]
     },
     "execution_count": 2,
     "metadata": {},
     "output_type": "execute_result"
    }
   ],
   "source": [
    "\"\"\"\n",
    "GP\n",
    "|\n",
    "P\n",
    "|\n",
    "C\n",
    "|\n",
    "GC\n",
    "\n",
    "\"\"\""
   ]
  },
  {
   "cell_type": "code",
   "execution_count": 11,
   "id": "994b8aca",
   "metadata": {},
   "outputs": [],
   "source": [
    "class gp_class():\n",
    "    gp_a1=100\n",
    "    gp_b1=111\n",
    "    def gp_function(self):\n",
    "        print(f\"gp function :{self.gp_a1} , {self.gp_b1}\")\n",
    "              \n",
    "class p_class(gp_class):\n",
    "    p_a1=200\n",
    "    p_b1=222\n",
    "    def p_function(self):\n",
    "        print(f\"p function :{self.p_a1} , {self.p_b1}\")\n",
    "              \n",
    "class c_class(p_class):\n",
    "    c_a1=300\n",
    "    c_b1=333\n",
    "    def c_function(self):\n",
    "        print(f\"c function :{self.c_a1} , {self.c_b1}\")\n",
    "              \n",
    "class gc_class(c_class):\n",
    "    gc_a1=400\n",
    "    gc_b1=444\n",
    "    def gc_function(self):\n",
    "        print(f\"gc function :{self.gc_a1} , {self.gc_b1}\")"
   ]
  },
  {
   "cell_type": "code",
   "execution_count": 12,
   "id": "ae9178b2",
   "metadata": {},
   "outputs": [],
   "source": [
    "gc_1=gc_class()"
   ]
  },
  {
   "cell_type": "code",
   "execution_count": 13,
   "id": "3d7fe49c",
   "metadata": {},
   "outputs": [
    {
     "data": {
      "text/plain": [
       "['__class__',\n",
       " '__delattr__',\n",
       " '__dict__',\n",
       " '__dir__',\n",
       " '__doc__',\n",
       " '__eq__',\n",
       " '__format__',\n",
       " '__ge__',\n",
       " '__getattribute__',\n",
       " '__gt__',\n",
       " '__hash__',\n",
       " '__init__',\n",
       " '__init_subclass__',\n",
       " '__le__',\n",
       " '__lt__',\n",
       " '__module__',\n",
       " '__ne__',\n",
       " '__new__',\n",
       " '__reduce__',\n",
       " '__reduce_ex__',\n",
       " '__repr__',\n",
       " '__setattr__',\n",
       " '__sizeof__',\n",
       " '__str__',\n",
       " '__subclasshook__',\n",
       " '__weakref__',\n",
       " 'c_a1',\n",
       " 'c_b1',\n",
       " 'c_function',\n",
       " 'gc_a1',\n",
       " 'gc_b1',\n",
       " 'gc_function',\n",
       " 'gp_a1',\n",
       " 'gp_b1',\n",
       " 'gp_function',\n",
       " 'p_a1',\n",
       " 'p_b1',\n",
       " 'p_function']"
      ]
     },
     "execution_count": 13,
     "metadata": {},
     "output_type": "execute_result"
    }
   ],
   "source": [
    "dir(gc_1)"
   ]
  },
  {
   "cell_type": "code",
   "execution_count": 14,
   "id": "20a161df",
   "metadata": {},
   "outputs": [
    {
     "name": "stdout",
     "output_type": "stream",
     "text": [
      "gc function :400 , 444\n"
     ]
    }
   ],
   "source": [
    "gc_1.gc_function()"
   ]
  },
  {
   "cell_type": "code",
   "execution_count": 15,
   "id": "3c72512d",
   "metadata": {},
   "outputs": [
    {
     "name": "stdout",
     "output_type": "stream",
     "text": [
      "c function :300 , 333\n"
     ]
    }
   ],
   "source": [
    "gc_1.c_function()"
   ]
  },
  {
   "cell_type": "code",
   "execution_count": 16,
   "id": "5b5d97a8",
   "metadata": {},
   "outputs": [
    {
     "name": "stdout",
     "output_type": "stream",
     "text": [
      "p function :200 , 222\n"
     ]
    }
   ],
   "source": [
    "gc_1.p_function()"
   ]
  },
  {
   "cell_type": "code",
   "execution_count": 17,
   "id": "33bd2754",
   "metadata": {},
   "outputs": [
    {
     "name": "stdout",
     "output_type": "stream",
     "text": [
      "gp function :100 , 111\n"
     ]
    }
   ],
   "source": [
    "gc_1.gp_function()"
   ]
  },
  {
   "cell_type": "code",
   "execution_count": 18,
   "id": "8c6aeafb",
   "metadata": {},
   "outputs": [
    {
     "data": {
      "text/plain": [
       "100"
      ]
     },
     "execution_count": 18,
     "metadata": {},
     "output_type": "execute_result"
    }
   ],
   "source": [
    "gc_1.gp_a1"
   ]
  },
  {
   "cell_type": "code",
   "execution_count": 19,
   "id": "357eb31f",
   "metadata": {},
   "outputs": [
    {
     "data": {
      "text/plain": [
       "200"
      ]
     },
     "execution_count": 19,
     "metadata": {},
     "output_type": "execute_result"
    }
   ],
   "source": [
    "gc_1.p_a1"
   ]
  },
  {
   "cell_type": "code",
   "execution_count": 20,
   "id": "e91250df",
   "metadata": {},
   "outputs": [
    {
     "data": {
      "text/plain": [
       "300"
      ]
     },
     "execution_count": 20,
     "metadata": {},
     "output_type": "execute_result"
    }
   ],
   "source": [
    "gc_1.c_a1"
   ]
  },
  {
   "cell_type": "code",
   "execution_count": 21,
   "id": "c3c10a69",
   "metadata": {},
   "outputs": [
    {
     "data": {
      "text/plain": [
       "400"
      ]
     },
     "execution_count": 21,
     "metadata": {},
     "output_type": "execute_result"
    }
   ],
   "source": [
    "gc_1.gc_a1"
   ]
  },
  {
   "cell_type": "code",
   "execution_count": 22,
   "id": "e5e9baf8",
   "metadata": {},
   "outputs": [],
   "source": [
    "c_1=c_class()"
   ]
  },
  {
   "cell_type": "code",
   "execution_count": 23,
   "id": "0d78db1a",
   "metadata": {},
   "outputs": [
    {
     "data": {
      "text/plain": [
       "['__class__',\n",
       " '__delattr__',\n",
       " '__dict__',\n",
       " '__dir__',\n",
       " '__doc__',\n",
       " '__eq__',\n",
       " '__format__',\n",
       " '__ge__',\n",
       " '__getattribute__',\n",
       " '__gt__',\n",
       " '__hash__',\n",
       " '__init__',\n",
       " '__init_subclass__',\n",
       " '__le__',\n",
       " '__lt__',\n",
       " '__module__',\n",
       " '__ne__',\n",
       " '__new__',\n",
       " '__reduce__',\n",
       " '__reduce_ex__',\n",
       " '__repr__',\n",
       " '__setattr__',\n",
       " '__sizeof__',\n",
       " '__str__',\n",
       " '__subclasshook__',\n",
       " '__weakref__',\n",
       " 'c_a1',\n",
       " 'c_b1',\n",
       " 'c_function',\n",
       " 'gp_a1',\n",
       " 'gp_b1',\n",
       " 'gp_function',\n",
       " 'p_a1',\n",
       " 'p_b1',\n",
       " 'p_function']"
      ]
     },
     "execution_count": 23,
     "metadata": {},
     "output_type": "execute_result"
    }
   ],
   "source": [
    "dir(c_1)"
   ]
  },
  {
   "cell_type": "code",
   "execution_count": 24,
   "id": "ca843270",
   "metadata": {},
   "outputs": [],
   "source": [
    "p_1=p_class()"
   ]
  },
  {
   "cell_type": "code",
   "execution_count": 25,
   "id": "f01859f9",
   "metadata": {},
   "outputs": [
    {
     "data": {
      "text/plain": [
       "['__class__',\n",
       " '__delattr__',\n",
       " '__dict__',\n",
       " '__dir__',\n",
       " '__doc__',\n",
       " '__eq__',\n",
       " '__format__',\n",
       " '__ge__',\n",
       " '__getattribute__',\n",
       " '__gt__',\n",
       " '__hash__',\n",
       " '__init__',\n",
       " '__init_subclass__',\n",
       " '__le__',\n",
       " '__lt__',\n",
       " '__module__',\n",
       " '__ne__',\n",
       " '__new__',\n",
       " '__reduce__',\n",
       " '__reduce_ex__',\n",
       " '__repr__',\n",
       " '__setattr__',\n",
       " '__sizeof__',\n",
       " '__str__',\n",
       " '__subclasshook__',\n",
       " '__weakref__',\n",
       " 'gp_a1',\n",
       " 'gp_b1',\n",
       " 'gp_function',\n",
       " 'p_a1',\n",
       " 'p_b1',\n",
       " 'p_function']"
      ]
     },
     "execution_count": 25,
     "metadata": {},
     "output_type": "execute_result"
    }
   ],
   "source": [
    "dir(p_1)"
   ]
  },
  {
   "cell_type": "code",
   "execution_count": null,
   "id": "291dfbb5",
   "metadata": {},
   "outputs": [],
   "source": []
  }
 ],
 "metadata": {
  "kernelspec": {
   "display_name": "Python 3 (ipykernel)",
   "language": "python",
   "name": "python3"
  },
  "language_info": {
   "codemirror_mode": {
    "name": "ipython",
    "version": 3
   },
   "file_extension": ".py",
   "mimetype": "text/x-python",
   "name": "python",
   "nbconvert_exporter": "python",
   "pygments_lexer": "ipython3",
   "version": "3.9.12"
  }
 },
 "nbformat": 4,
 "nbformat_minor": 5
}
