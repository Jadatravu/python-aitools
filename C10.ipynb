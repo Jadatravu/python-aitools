{
 "cells": [
  {
   "cell_type": "code",
   "execution_count": null,
   "id": "1f25fdef",
   "metadata": {},
   "outputs": [],
   "source": [
    "# function is a reusable code. which can be written once, called multiple number of times\n",
    "\n",
    "\"\"\" fun      input     ouput\n",
    "            y        n\n",
    "            n        y\n",
    "            n        n\n",
    "            y        y\"\"\""
   ]
  },
  {
   "cell_type": "code",
   "execution_count": null,
   "id": "98f488d7",
   "metadata": {},
   "outputs": [],
   "source": [
    "#1. take a list c\n",
    "#   a. add number 3 for each item and print"
   ]
  },
  {
   "cell_type": "code",
   "execution_count": 1,
   "id": "115f4ae7",
   "metadata": {},
   "outputs": [],
   "source": [
    "def change_list(list_a):\n",
    "    for i1 in range(len(list_a)):\n",
    "        list_a[i1]= list_a[i1]+3\n",
    "    return list_a    "
   ]
  },
  {
   "cell_type": "code",
   "execution_count": 2,
   "id": "f57315ce",
   "metadata": {},
   "outputs": [],
   "source": [
    "list1=[10,20,30,40,55,50,60,77,70,80,90,100]"
   ]
  },
  {
   "cell_type": "code",
   "execution_count": 3,
   "id": "72786d8e",
   "metadata": {},
   "outputs": [],
   "source": [
    "list2=change_list(list1)"
   ]
  },
  {
   "cell_type": "code",
   "execution_count": 4,
   "id": "b7c82293",
   "metadata": {},
   "outputs": [
    {
     "name": "stdout",
     "output_type": "stream",
     "text": [
      "[13, 23, 33, 43, 58, 53, 63, 80, 73, 83, 93, 103]\n"
     ]
    }
   ],
   "source": [
    "print(list2)"
   ]
  },
  {
   "cell_type": "code",
   "execution_count": null,
   "id": "c04037f8",
   "metadata": {},
   "outputs": [],
   "source": [
    "#1. take a list list1=[10,20,30,40,55,50,60,77,70,80,90,100]\n",
    "#   b. substract number 5 for each item and print"
   ]
  },
  {
   "cell_type": "code",
   "execution_count": 8,
   "id": "bcc38d69",
   "metadata": {},
   "outputs": [],
   "source": [
    "def change_list_sub(list_c):\n",
    "    for i2 in range(len(list_c)):\n",
    "        list_c[i2]=list_c[i2]-5\n",
    "    print(list_c)\n",
    "    return list_c"
   ]
  },
  {
   "cell_type": "code",
   "execution_count": 6,
   "id": "507717b1",
   "metadata": {},
   "outputs": [],
   "source": [
    "list3=change_list_sub(list1)"
   ]
  },
  {
   "cell_type": "code",
   "execution_count": 7,
   "id": "5168f983",
   "metadata": {},
   "outputs": [
    {
     "name": "stdout",
     "output_type": "stream",
     "text": [
      "[8, 18, 28, 38, 53, 48, 58, 75, 68, 78, 88, 98]\n"
     ]
    }
   ],
   "source": [
    "print(list3)"
   ]
  },
  {
   "cell_type": "code",
   "execution_count": 9,
   "id": "a4415e97",
   "metadata": {},
   "outputs": [],
   "source": [
    "#1. take a list list1=[10,20,30,40,55,50,60,77,70,80,90,100]\n",
    "#      c. compute sum of number in the list"
   ]
  },
  {
   "cell_type": "code",
   "execution_count": 10,
   "id": "9930d843",
   "metadata": {},
   "outputs": [],
   "source": [
    "def compute_sum(list_d):\n",
    "    sum1 = 0.0\n",
    "    for i4 in range(len(list_d)):\n",
    "        sum1 = sum1 + list_d[i4]\n",
    "    print(f\"sum of the list is : {sum1}\")\n"
   ]
  },
  {
   "cell_type": "code",
   "execution_count": 11,
   "id": "407602db",
   "metadata": {},
   "outputs": [
    {
     "name": "stdout",
     "output_type": "stream",
     "text": [
      "sum of the list is : 658.0\n"
     ]
    }
   ],
   "source": [
    "compute_sum(list1)"
   ]
  },
  {
   "cell_type": "code",
   "execution_count": 27,
   "id": "4b356bf7",
   "metadata": {},
   "outputs": [],
   "source": [
    "def compute_pro_sum(list_d):\n",
    "    sum1 = 0.0\n",
    "    pro1= 1.0\n",
    "    rs=[]\n",
    "    for i4 in range(len(list_d)):\n",
    "        sum1 = sum1 + list_d[i4]\n",
    "        pro1 = pro1 * list_d[i4]\n",
    "    print(f\"sum of the list is : {sum1}\")\n",
    "    print(f\"pro of the list is : {pro1}\")\n",
    "    rs.append(sum1)\n",
    "    rs.append(pro1)\n",
    "    return rs\n"
   ]
  },
  {
   "cell_type": "code",
   "execution_count": 28,
   "id": "352afe78",
   "metadata": {},
   "outputs": [
    {
     "name": "stdout",
     "output_type": "stream",
     "text": [
      "sum of the list is : 658.0\n",
      "pro of the list is : 7.755731172139991e+19\n"
     ]
    }
   ],
   "source": [
    "s1=compute_pro_sum(list1)"
   ]
  },
  {
   "cell_type": "code",
   "execution_count": 29,
   "id": "503fc59a",
   "metadata": {},
   "outputs": [
    {
     "data": {
      "text/plain": [
       "[658.0, 7.755731172139991e+19]"
      ]
     },
     "execution_count": 29,
     "metadata": {},
     "output_type": "execute_result"
    }
   ],
   "source": [
    "s1"
   ]
  },
  {
   "cell_type": "code",
   "execution_count": 24,
   "id": "5c0755f2",
   "metadata": {},
   "outputs": [
    {
     "data": {
      "text/plain": [
       "7.755731172139991e+19"
      ]
     },
     "execution_count": 24,
     "metadata": {},
     "output_type": "execute_result"
    }
   ],
   "source": [
    "p1"
   ]
  },
  {
   "cell_type": "code",
   "execution_count": 30,
   "id": "5790dbe0",
   "metadata": {},
   "outputs": [
    {
     "data": {
      "text/plain": [
       "'2. Take a list list2=[-5,-20,90,88,66,99,111,34,234]\\n   a. compute maximum number in the list\\n   b. compute minimum number in the list'"
      ]
     },
     "execution_count": 30,
     "metadata": {},
     "output_type": "execute_result"
    }
   ],
   "source": [
    "\"\"\"2. Take a list list2=[-5,-20,90,88,66,99,111,34,234]\n",
    "   a. compute maximum number in the list\n",
    "   b. compute minimum number in the list\"\"\""
   ]
  },
  {
   "cell_type": "code",
   "execution_count": 31,
   "id": "4b43d222",
   "metadata": {},
   "outputs": [],
   "source": [
    "def compute_min_max(list_e):\n",
    "    min1 = list_e[0]\n",
    "    max1 = list_e[0]\n",
    "    for i1 in list_e:\n",
    "        if min1 > i1:\n",
    "            min1 = i1\n",
    "        if max1 < i1:\n",
    "            max1 = i1\n",
    "    return min1,max1"
   ]
  },
  {
   "cell_type": "code",
   "execution_count": 32,
   "id": "db8d719a",
   "metadata": {},
   "outputs": [],
   "source": [
    "list2=[-5,-20,90,88,66,99,111,34,234]\n",
    "mi,ma = compute_min_max(list2)"
   ]
  },
  {
   "cell_type": "code",
   "execution_count": 35,
   "id": "47d784ad",
   "metadata": {},
   "outputs": [
    {
     "name": "stdout",
     "output_type": "stream",
     "text": [
      "minumin of the list : -20\n",
      "maximum of the list : 234\n"
     ]
    }
   ],
   "source": [
    "print(f\"minumin of the list : {mi}\\nmaximum of the list : {ma}\")"
   ]
  },
  {
   "cell_type": "code",
   "execution_count": null,
   "id": "f00993a2",
   "metadata": {},
   "outputs": [],
   "source": [
    "2. Take a list list2=[-5,-20,90,88,66,99,111,34,234]\n",
    "   c. print positive numbers in the list\n",
    "   d. print negative numbers in the list"
   ]
  },
  {
   "cell_type": "code",
   "execution_count": 36,
   "id": "69365589",
   "metadata": {},
   "outputs": [],
   "source": [
    "def get_positive_numbers(list_f):\n",
    "    result_list = []\n",
    "    for i5 in list_f:\n",
    "        if i5 > 0:\n",
    "            result_list.append(i5)\n",
    "    return result_list"
   ]
  },
  {
   "cell_type": "code",
   "execution_count": 37,
   "id": "ceca63ae",
   "metadata": {},
   "outputs": [],
   "source": [
    "r1 = get_positive_numbers(list2)"
   ]
  },
  {
   "cell_type": "code",
   "execution_count": 38,
   "id": "24f962bd",
   "metadata": {},
   "outputs": [
    {
     "name": "stdout",
     "output_type": "stream",
     "text": [
      "[90, 88, 66, 99, 111, 34, 234]\n"
     ]
    }
   ],
   "source": [
    "print(r1)"
   ]
  },
  {
   "cell_type": "code",
   "execution_count": 39,
   "id": "936f8004",
   "metadata": {},
   "outputs": [],
   "source": [
    "def get_negative_numbers(list_g):\n",
    "    res_list =[]\n",
    "    for i7 in list_g:\n",
    "        if i7 < 0:\n",
    "            res_list.append(i7)\n",
    "    return res_list"
   ]
  },
  {
   "cell_type": "code",
   "execution_count": 40,
   "id": "b30bff9b",
   "metadata": {},
   "outputs": [],
   "source": [
    "r2 = get_negative_numbers(list2)"
   ]
  },
  {
   "cell_type": "code",
   "execution_count": 41,
   "id": "aa78a302",
   "metadata": {},
   "outputs": [
    {
     "name": "stdout",
     "output_type": "stream",
     "text": [
      "[-5, -20]\n"
     ]
    }
   ],
   "source": [
    "print(r2)"
   ]
  },
  {
   "cell_type": "code",
   "execution_count": null,
   "id": "45c40855",
   "metadata": {},
   "outputs": [],
   "source": [
    "#calculate sum of number divisible by 5 between 78 and 199\n",
    "# write a function takes two numbers and calculate sum of numbers divisible by 5\n",
    "\n",
    "#calculae sum of numbers divisible by 7 between 45 and 78\n",
    "# write a function takes two numbers and calculate sum of numbers divisible by 7\n",
    "\n"
   ]
  },
  {
   "cell_type": "code",
   "execution_count": 42,
   "id": "dcb9d795",
   "metadata": {},
   "outputs": [],
   "source": [
    "def get_sum_between_numbers(n1,n2):\n",
    "    sum1 = 0.0\n",
    "    for i1 in range(n1,n2,1):\n",
    "        sum1 = sum1 +i1\n",
    "    return sum1"
   ]
  },
  {
   "cell_type": "code",
   "execution_count": null,
   "id": "a708688a",
   "metadata": {},
   "outputs": [],
   "source": [
    "#calculate sum of number divisible by 5 between 78 and 199\n",
    "#calculae sum of numbers divisible by 7 between 45 and 78\n",
    "# calculate sum of numbers divisbile by 9 between 67 and 199\n",
    "# accept two numbers find sum of even numbers between them\n",
    "# accept two numbers find product of odd numbers between them\n",
    "# accept two numbers find largest of two numbers"
   ]
  }
 ],
 "metadata": {
  "kernelspec": {
   "display_name": "Python 3 (ipykernel)",
   "language": "python",
   "name": "python3"
  },
  "language_info": {
   "codemirror_mode": {
    "name": "ipython",
    "version": 3
   },
   "file_extension": ".py",
   "mimetype": "text/x-python",
   "name": "python",
   "nbconvert_exporter": "python",
   "pygments_lexer": "ipython3",
   "version": "3.9.12"
  }
 },
 "nbformat": 4,
 "nbformat_minor": 5
}
