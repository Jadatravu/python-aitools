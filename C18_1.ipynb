{
 "cells": [
  {
   "cell_type": "code",
   "execution_count": 2,
   "id": "7d04fb34",
   "metadata": {},
   "outputs": [
    {
     "name": "stdout",
     "output_type": "stream",
     "text": [
      "2024-05-21 06:59:10.880543+05:30\n",
      "2024-05-20 21:29:10.880543-04:00\n"
     ]
    }
   ],
   "source": [
    "import datetime\n",
    "import pytz\n",
    "\n",
    "obj = datetime.datetime.now()\n",
    "tz = pytz.timezone('Asia/Kolkata')\n",
    "obj = tz.localize(obj)\n",
    "print(obj)\n",
    "new_tz = pytz.timezone('America/New_York')\n",
    "new_tz_time = obj.astimezone(new_tz)\n",
    "print(new_tz_time)"
   ]
  },
  {
   "cell_type": "code",
   "execution_count": null,
   "id": "e76a78ed",
   "metadata": {},
   "outputs": [],
   "source": []
  }
 ],
 "metadata": {
  "kernelspec": {
   "display_name": "Python 3 (ipykernel)",
   "language": "python",
   "name": "python3"
  },
  "language_info": {
   "codemirror_mode": {
    "name": "ipython",
    "version": 3
   },
   "file_extension": ".py",
   "mimetype": "text/x-python",
   "name": "python",
   "nbconvert_exporter": "python",
   "pygments_lexer": "ipython3",
   "version": "3.9.12"
  }
 },
 "nbformat": 4,
 "nbformat_minor": 5
}
