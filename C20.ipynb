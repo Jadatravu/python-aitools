{
 "cells": [
  {
   "cell_type": "code",
   "execution_count": 1,
   "id": "c17b9263",
   "metadata": {},
   "outputs": [
    {
     "data": {
      "text/plain": [
       "''"
      ]
     },
     "execution_count": 1,
     "metadata": {},
     "output_type": "execute_result"
    }
   ],
   "source": [
    "\n",
    "\"\"\"classes and objects\"\"\"\n",
    "\n",
    "\n",
    "\"\"\"\n",
    "car is having\n",
    "\n",
    "parameters\n",
    "Wheels = 4\n",
    "Doors = 4\n",
    "Windows = 4\n",
    "AC = 1\n",
    "engine = 1\n",
    "Steering = 1\n",
    "\n",
    "Functionalities\n",
    "Travel\n",
    "AC\n",
    "Placetosit\n",
    "\n",
    "\"\"\"\n",
    "\n",
    "\"\"\"\n",
    "Design : Maruthi Swift   => class\n",
    "instance: serial/registration number => object\n",
    "\"\"\"\n"
   ]
  },
  {
   "cell_type": "code",
   "execution_count": 11,
   "id": "64e1e247",
   "metadata": {},
   "outputs": [],
   "source": [
    "class my_class():\n",
    "    a1 = 100\n",
    "    b1 = 200\n",
    "    \n",
    "    def get_result(self):\n",
    "        result = self.a1+self.b1\n",
    "        return result\n",
    "    \n",
    "    def process_data(self,c1):\n",
    "        result = self.a1+self.b1+c1\n",
    "        return result"
   ]
  },
  {
   "cell_type": "code",
   "execution_count": 12,
   "id": "1a95108d",
   "metadata": {},
   "outputs": [],
   "source": [
    "m1=my_class()"
   ]
  },
  {
   "cell_type": "code",
   "execution_count": 8,
   "id": "95f09d86",
   "metadata": {},
   "outputs": [
    {
     "data": {
      "text/plain": [
       "300"
      ]
     },
     "execution_count": 8,
     "metadata": {},
     "output_type": "execute_result"
    }
   ],
   "source": [
    "m1.get_result()"
   ]
  },
  {
   "cell_type": "code",
   "execution_count": 9,
   "id": "b9d848d7",
   "metadata": {},
   "outputs": [
    {
     "data": {
      "text/plain": [
       "100"
      ]
     },
     "execution_count": 9,
     "metadata": {},
     "output_type": "execute_result"
    }
   ],
   "source": [
    "m1.a1"
   ]
  },
  {
   "cell_type": "code",
   "execution_count": 10,
   "id": "44d69d60",
   "metadata": {},
   "outputs": [
    {
     "data": {
      "text/plain": [
       "200"
      ]
     },
     "execution_count": 10,
     "metadata": {},
     "output_type": "execute_result"
    }
   ],
   "source": [
    "m1.b1"
   ]
  },
  {
   "cell_type": "code",
   "execution_count": 13,
   "id": "355fb22a",
   "metadata": {},
   "outputs": [
    {
     "data": {
      "text/plain": [
       "800"
      ]
     },
     "execution_count": 13,
     "metadata": {},
     "output_type": "execute_result"
    }
   ],
   "source": [
    "m1.process_data(500)"
   ]
  },
  {
   "cell_type": "code",
   "execution_count": 14,
   "id": "7dbffdc2",
   "metadata": {},
   "outputs": [
    {
     "data": {
      "text/plain": [
       "'\\nconstructor is nothing but a function which willbe executed when the object is created\\ndestructor is nothing but a function which will be executed when object is ending its life\\n'"
      ]
     },
     "execution_count": 14,
     "metadata": {},
     "output_type": "execute_result"
    }
   ],
   "source": [
    "\"\"\"\n",
    "constructor is nothing but a function which willbe executed when the object is created\n",
    "destructor is nothing but a function which will be executed when object is ending its life\n",
    "\"\"\""
   ]
  },
  {
   "cell_type": "code",
   "execution_count": 15,
   "id": "5dae85ae",
   "metadata": {},
   "outputs": [
    {
     "data": {
      "text/plain": [
       "'\\nconstructor function name is always __init__\\n\\n'"
      ]
     },
     "execution_count": 15,
     "metadata": {},
     "output_type": "execute_result"
    }
   ],
   "source": [
    "\"\"\"\n",
    "constructor function name is always __init__\n",
    "\n",
    "\"\"\""
   ]
  },
  {
   "cell_type": "code",
   "execution_count": 16,
   "id": "54167787",
   "metadata": {},
   "outputs": [],
   "source": [
    "class m_class1():\n",
    "    \"\"\"\n",
    "       This is m_class1, takes three parameters l1,m1,n1 integers and are having 4 functions\n",
    "    \"\"\"\n",
    "    def __init__(self,l1,m1,n1):\n",
    "        self.a1=l1\n",
    "        self.b1=m1\n",
    "        self.c1=n1\n",
    "        \n",
    "    def print_data(self):\n",
    "        result_str = f\"parameters are a1: {self.a1}, b1: {self.b1}, c1: {self.c1}\"\n",
    "        print(result_str)\n",
    "        \n",
    "    def sum_data(self):\n",
    "        sum1 = self.a1+self.b1+self.c1\n",
    "        return sum1\n",
    "    \n",
    "    def pro_data(self):\n",
    "        pro1 = self.a1*self.b1*self.c1\n",
    "        return pro1\n",
    "    \n",
    "    def process_data(self,d1):\n",
    "        result = self.a1*d1 + self.b1*d1 + self.c1\n",
    "        return result"
   ]
  },
  {
   "cell_type": "code",
   "execution_count": 23,
   "id": "189b63e5",
   "metadata": {},
   "outputs": [],
   "source": [
    "mc1 = m_class1(10,20,30)"
   ]
  },
  {
   "cell_type": "code",
   "execution_count": 18,
   "id": "b1224581",
   "metadata": {},
   "outputs": [
    {
     "data": {
      "text/plain": [
       "6000"
      ]
     },
     "execution_count": 18,
     "metadata": {},
     "output_type": "execute_result"
    }
   ],
   "source": [
    "mc1.pro_data()"
   ]
  },
  {
   "cell_type": "code",
   "execution_count": 24,
   "id": "50224889",
   "metadata": {},
   "outputs": [],
   "source": [
    "mc1.__doc__"
   ]
  },
  {
   "cell_type": "code",
   "execution_count": 20,
   "id": "cba1c8c6",
   "metadata": {},
   "outputs": [
    {
     "data": {
      "text/plain": [
       "60"
      ]
     },
     "execution_count": 20,
     "metadata": {},
     "output_type": "execute_result"
    }
   ],
   "source": [
    "mc1.sum_data()"
   ]
  },
  {
   "cell_type": "code",
   "execution_count": 21,
   "id": "df0364df",
   "metadata": {},
   "outputs": [
    {
     "data": {
      "text/plain": [
       "1530"
      ]
     },
     "execution_count": 21,
     "metadata": {},
     "output_type": "execute_result"
    }
   ],
   "source": [
    "mc1.process_data(50)"
   ]
  },
  {
   "cell_type": "code",
   "execution_count": 22,
   "id": "a764aabe",
   "metadata": {},
   "outputs": [
    {
     "data": {
      "text/plain": [
       "['__class__',\n",
       " '__delattr__',\n",
       " '__dict__',\n",
       " '__dir__',\n",
       " '__doc__',\n",
       " '__eq__',\n",
       " '__format__',\n",
       " '__ge__',\n",
       " '__getattribute__',\n",
       " '__gt__',\n",
       " '__hash__',\n",
       " '__init__',\n",
       " '__init_subclass__',\n",
       " '__le__',\n",
       " '__lt__',\n",
       " '__module__',\n",
       " '__ne__',\n",
       " '__new__',\n",
       " '__reduce__',\n",
       " '__reduce_ex__',\n",
       " '__repr__',\n",
       " '__setattr__',\n",
       " '__sizeof__',\n",
       " '__str__',\n",
       " '__subclasshook__',\n",
       " '__weakref__',\n",
       " 'a1',\n",
       " 'b1',\n",
       " 'get_result',\n",
       " 'process_data']"
      ]
     },
     "execution_count": 22,
     "metadata": {},
     "output_type": "execute_result"
    }
   ],
   "source": [
    "dir(m1)"
   ]
  },
  {
   "cell_type": "code",
   "execution_count": 25,
   "id": "b30cf6db",
   "metadata": {},
   "outputs": [],
   "source": [
    "import sys"
   ]
  },
  {
   "cell_type": "code",
   "execution_count": 26,
   "id": "bd758595",
   "metadata": {},
   "outputs": [
    {
     "data": {
      "text/plain": [
       "\"This module provides access to some objects used or maintained by the\\ninterpreter and to functions that interact strongly with the interpreter.\\n\\nDynamic objects:\\n\\nargv -- command line arguments; argv[0] is the script pathname if known\\npath -- module search path; path[0] is the script directory, else ''\\nmodules -- dictionary of loaded modules\\n\\ndisplayhook -- called to show results in an interactive session\\nexcepthook -- called to handle any uncaught exception other than SystemExit\\n  To customize printing in an interactive session or to install a custom\\n  top-level exception handler, assign other functions to replace these.\\n\\nstdin -- standard input file object; used by input()\\nstdout -- standard output file object; used by print()\\nstderr -- standard error object; used for error messages\\n  By assigning other file objects (or objects that behave like files)\\n  to these, it is possible to redirect all of the interpreter's I/O.\\n\\nlast_type -- type of last uncaught exception\\nlast_value -- value of last uncaught exception\\nlast_traceback -- traceback of last uncaught exception\\n  These three are only available in an interactive session after a\\n  traceback has been printed.\\n\\nStatic objects:\\n\\nbuiltin_module_names -- tuple of module names built into this interpreter\\ncopyright -- copyright notice pertaining to this interpreter\\nexec_prefix -- prefix used to find the machine-specific Python library\\nexecutable -- absolute path of the executable binary of the Python interpreter\\nfloat_info -- a named tuple with information about the float implementation.\\nfloat_repr_style -- string indicating the style of repr() output for floats\\nhash_info -- a named tuple with information about the hash algorithm.\\nhexversion -- version information encoded as a single integer\\nimplementation -- Python implementation information.\\nint_info -- a named tuple with information about the int implementation.\\nmaxsize -- the largest supported length of containers.\\nmaxunicode -- the value of the largest Unicode code point\\nplatform -- platform identifier\\nprefix -- prefix used to find the Python library\\nthread_info -- a named tuple with information about the thread implementation.\\nversion -- the version of this interpreter as a string\\nversion_info -- version information as a named tuple\\ndllhandle -- [Windows only] integer handle of the Python DLL\\nwinver -- [Windows only] version number of the Python DLL\\n_enablelegacywindowsfsencoding -- [Windows only]\\n__stdin__ -- the original stdin; don't touch!\\n__stdout__ -- the original stdout; don't touch!\\n__stderr__ -- the original stderr; don't touch!\\n__displayhook__ -- the original displayhook; don't touch!\\n__excepthook__ -- the original excepthook; don't touch!\\n\\nFunctions:\\n\\ndisplayhook() -- print an object to the screen, and save it in builtins._\\nexcepthook() -- print an exception and its traceback to sys.stderr\\nexc_info() -- return thread-safe information about the current exception\\nexit() -- exit the interpreter by raising SystemExit\\ngetdlopenflags() -- returns flags to be used for dlopen() calls\\ngetprofile() -- get the global profiling function\\ngetrefcount() -- return the reference count for an object (plus one :-)\\ngetrecursionlimit() -- return the max recursion depth for the interpreter\\ngetsizeof() -- return the size of an object in bytes\\ngettrace() -- get the global debug tracing function\\nsetdlopenflags() -- set the flags to be used for dlopen() calls\\nsetprofile() -- set the global profiling function\\nsetrecursionlimit() -- set the max recursion depth for the interpreter\\nsettrace() -- set the global debug tracing function\\n\""
      ]
     },
     "execution_count": 26,
     "metadata": {},
     "output_type": "execute_result"
    }
   ],
   "source": [
    "sys.__doc__"
   ]
  },
  {
   "cell_type": "code",
   "execution_count": null,
   "id": "b06d2406",
   "metadata": {},
   "outputs": [],
   "source": []
  }
 ],
 "metadata": {
  "kernelspec": {
   "display_name": "Python 3 (ipykernel)",
   "language": "python",
   "name": "python3"
  },
  "language_info": {
   "codemirror_mode": {
    "name": "ipython",
    "version": 3
   },
   "file_extension": ".py",
   "mimetype": "text/x-python",
   "name": "python",
   "nbconvert_exporter": "python",
   "pygments_lexer": "ipython3",
   "version": "3.9.12"
  }
 },
 "nbformat": 4,
 "nbformat_minor": 5
}
