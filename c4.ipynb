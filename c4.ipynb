{
 "cells": [
  {
   "cell_type": "code",
   "execution_count": null,
   "id": "1f63c90a",
   "metadata": {},
   "outputs": [],
   "source": [
    "1. append => adds a new item at the end of the list\n",
    "2. count => counts the number of times a particular item is repeated\n",
    "3. index => return the index or position -1 of a particular item\n",
    "4. extend => extend the current list with the new list\n",
    "5. insert => inserts an item at a position we specify\n",
    "6. pop => it removes the last items and returns\n",
    "7. sort => sorts the items in a list\n",
    "8. remove => removes a particular item"
   ]
  },
  {
   "cell_type": "code",
   "execution_count": 2,
   "id": "35b922ba",
   "metadata": {},
   "outputs": [],
   "source": [
    "list1=[10,11,23,44,35,56,12,45,67,89]\n",
    "#      0   1  2  3  4 5  6  7  8  9"
   ]
  },
  {
   "cell_type": "code",
   "execution_count": 3,
   "id": "9f630582",
   "metadata": {},
   "outputs": [
    {
     "data": {
      "text/plain": [
       "44"
      ]
     },
     "execution_count": 3,
     "metadata": {},
     "output_type": "execute_result"
    }
   ],
   "source": [
    "list1[3] # read access of an item"
   ]
  },
  {
   "cell_type": "code",
   "execution_count": 4,
   "id": "5ee69dc7",
   "metadata": {},
   "outputs": [],
   "source": [
    "list1[5]=99 # writing/updating a particular item"
   ]
  },
  {
   "cell_type": "code",
   "execution_count": 5,
   "id": "97960fe5",
   "metadata": {},
   "outputs": [
    {
     "data": {
      "text/plain": [
       "[10, 11, 23, 44, 35, 99, 12, 45, 67, 89]"
      ]
     },
     "execution_count": 5,
     "metadata": {},
     "output_type": "execute_result"
    }
   ],
   "source": [
    "list1"
   ]
  },
  {
   "cell_type": "code",
   "execution_count": 6,
   "id": "51d51d75",
   "metadata": {},
   "outputs": [
    {
     "data": {
      "text/plain": [
       "10"
      ]
     },
     "execution_count": 6,
     "metadata": {},
     "output_type": "execute_result"
    }
   ],
   "source": [
    "len(list1)"
   ]
  },
  {
   "cell_type": "code",
   "execution_count": 7,
   "id": "f4a34c77",
   "metadata": {},
   "outputs": [],
   "source": [
    "list1.append(777) # adding 777 at the end of the list"
   ]
  },
  {
   "cell_type": "code",
   "execution_count": 8,
   "id": "8dce3622",
   "metadata": {},
   "outputs": [
    {
     "data": {
      "text/plain": [
       "[10, 11, 23, 44, 35, 99, 12, 45, 67, 89, 777]"
      ]
     },
     "execution_count": 8,
     "metadata": {},
     "output_type": "execute_result"
    }
   ],
   "source": [
    "list1"
   ]
  },
  {
   "cell_type": "code",
   "execution_count": 9,
   "id": "afded3c8",
   "metadata": {},
   "outputs": [],
   "source": [
    "list1.append('a')"
   ]
  },
  {
   "cell_type": "code",
   "execution_count": 10,
   "id": "75134a3f",
   "metadata": {},
   "outputs": [
    {
     "data": {
      "text/plain": [
       "[10, 11, 23, 44, 35, 99, 12, 45, 67, 89, 777, 'a']"
      ]
     },
     "execution_count": 10,
     "metadata": {},
     "output_type": "execute_result"
    }
   ],
   "source": [
    "list1"
   ]
  },
  {
   "cell_type": "code",
   "execution_count": 11,
   "id": "cf2866e4",
   "metadata": {},
   "outputs": [],
   "source": [
    "list1.insert(2,\"hello\") #inserting an item \"hello\" at an index of 2 "
   ]
  },
  {
   "cell_type": "code",
   "execution_count": 12,
   "id": "6685cdfd",
   "metadata": {},
   "outputs": [
    {
     "data": {
      "text/plain": [
       "[10, 11, 'hello', 23, 44, 35, 99, 12, 45, 67, 89, 777, 'a']"
      ]
     },
     "execution_count": 12,
     "metadata": {},
     "output_type": "execute_result"
    }
   ],
   "source": [
    "list1"
   ]
  },
  {
   "cell_type": "code",
   "execution_count": 13,
   "id": "92d2ba3f",
   "metadata": {},
   "outputs": [],
   "source": [
    "list1.insert(5,\"good evening\")"
   ]
  },
  {
   "cell_type": "code",
   "execution_count": 14,
   "id": "e12d1a4e",
   "metadata": {},
   "outputs": [
    {
     "data": {
      "text/plain": [
       "[10, 11, 'hello', 23, 44, 'good evening', 35, 99, 12, 45, 67, 89, 777, 'a']"
      ]
     },
     "execution_count": 14,
     "metadata": {},
     "output_type": "execute_result"
    }
   ],
   "source": [
    "list1"
   ]
  },
  {
   "cell_type": "code",
   "execution_count": 15,
   "id": "00a302cd",
   "metadata": {},
   "outputs": [
    {
     "data": {
      "text/plain": [
       "1"
      ]
     },
     "execution_count": 15,
     "metadata": {},
     "output_type": "execute_result"
    }
   ],
   "source": [
    "list1.count(44) #how many time that a particular item repeats in a list"
   ]
  },
  {
   "cell_type": "code",
   "execution_count": 16,
   "id": "263a2415",
   "metadata": {},
   "outputs": [],
   "source": [
    "list2=[11,44,11,55,66,78,11,44]"
   ]
  },
  {
   "cell_type": "code",
   "execution_count": 17,
   "id": "3b4277e3",
   "metadata": {},
   "outputs": [
    {
     "data": {
      "text/plain": [
       "2"
      ]
     },
     "execution_count": 17,
     "metadata": {},
     "output_type": "execute_result"
    }
   ],
   "source": [
    "list2.count(44) #returns how many times 44 repeated in the list list2"
   ]
  },
  {
   "cell_type": "code",
   "execution_count": 18,
   "id": "3eb1c42f",
   "metadata": {},
   "outputs": [
    {
     "data": {
      "text/plain": [
       "3"
      ]
     },
     "execution_count": 18,
     "metadata": {},
     "output_type": "execute_result"
    }
   ],
   "source": [
    "list2.count(11) #returns how many times 11 repeated in the list list2"
   ]
  },
  {
   "cell_type": "code",
   "execution_count": 19,
   "id": "6a4e0aca",
   "metadata": {},
   "outputs": [
    {
     "data": {
      "text/plain": [
       "44"
      ]
     },
     "execution_count": 19,
     "metadata": {},
     "output_type": "execute_result"
    }
   ],
   "source": [
    "list2.pop() # removes the last item from the list and returns"
   ]
  },
  {
   "cell_type": "code",
   "execution_count": 20,
   "id": "cf4ced11",
   "metadata": {},
   "outputs": [
    {
     "data": {
      "text/plain": [
       "[11, 44, 11, 55, 66, 78, 11]"
      ]
     },
     "execution_count": 20,
     "metadata": {},
     "output_type": "execute_result"
    }
   ],
   "source": [
    "list2"
   ]
  },
  {
   "cell_type": "code",
   "execution_count": 21,
   "id": "1a3f8b1e",
   "metadata": {},
   "outputs": [],
   "source": [
    "list2.remove(66) # removes item 66 from the list2"
   ]
  },
  {
   "cell_type": "code",
   "execution_count": 22,
   "id": "02b25beb",
   "metadata": {},
   "outputs": [
    {
     "data": {
      "text/plain": [
       "[11, 44, 11, 55, 78, 11]"
      ]
     },
     "execution_count": 22,
     "metadata": {},
     "output_type": "execute_result"
    }
   ],
   "source": [
    "list2"
   ]
  },
  {
   "cell_type": "code",
   "execution_count": 23,
   "id": "108f6e0e",
   "metadata": {},
   "outputs": [
    {
     "data": {
      "text/plain": [
       "[10, 11, 'hello', 23, 44, 'good evening', 35, 99, 12, 45, 67, 89, 777, 'a']"
      ]
     },
     "execution_count": 23,
     "metadata": {},
     "output_type": "execute_result"
    }
   ],
   "source": [
    "list1"
   ]
  },
  {
   "cell_type": "code",
   "execution_count": 24,
   "id": "402e666c",
   "metadata": {},
   "outputs": [],
   "source": [
    "list1.remove(99)"
   ]
  },
  {
   "cell_type": "code",
   "execution_count": 25,
   "id": "b5567ff5",
   "metadata": {},
   "outputs": [
    {
     "data": {
      "text/plain": [
       "[10, 11, 'hello', 23, 44, 'good evening', 35, 12, 45, 67, 89, 777, 'a']"
      ]
     },
     "execution_count": 25,
     "metadata": {},
     "output_type": "execute_result"
    }
   ],
   "source": [
    "list1"
   ]
  },
  {
   "cell_type": "code",
   "execution_count": 26,
   "id": "ed635322",
   "metadata": {},
   "outputs": [
    {
     "data": {
      "text/plain": [
       "23"
      ]
     },
     "execution_count": 26,
     "metadata": {},
     "output_type": "execute_result"
    }
   ],
   "source": [
    "list1.pop(3)"
   ]
  },
  {
   "cell_type": "code",
   "execution_count": 27,
   "id": "5cddf94b",
   "metadata": {},
   "outputs": [
    {
     "data": {
      "text/plain": [
       "[10, 11, 'hello', 44, 'good evening', 35, 12, 45, 67, 89, 777, 'a']"
      ]
     },
     "execution_count": 27,
     "metadata": {},
     "output_type": "execute_result"
    }
   ],
   "source": [
    "list1"
   ]
  },
  {
   "cell_type": "code",
   "execution_count": 28,
   "id": "81c4e9ae",
   "metadata": {},
   "outputs": [
    {
     "data": {
      "text/plain": [
       "[11, 44, 11, 55, 78, 11]"
      ]
     },
     "execution_count": 28,
     "metadata": {},
     "output_type": "execute_result"
    }
   ],
   "source": [
    "list2"
   ]
  },
  {
   "cell_type": "code",
   "execution_count": 29,
   "id": "64db42d8",
   "metadata": {},
   "outputs": [],
   "source": [
    "list2.remove(11)"
   ]
  },
  {
   "cell_type": "code",
   "execution_count": 30,
   "id": "001c2caf",
   "metadata": {},
   "outputs": [
    {
     "data": {
      "text/plain": [
       "[44, 11, 55, 78, 11]"
      ]
     },
     "execution_count": 30,
     "metadata": {},
     "output_type": "execute_result"
    }
   ],
   "source": [
    "list2"
   ]
  },
  {
   "cell_type": "code",
   "execution_count": 31,
   "id": "75fc349c",
   "metadata": {},
   "outputs": [
    {
     "data": {
      "text/plain": [
       "[44, 11, 55, 78, 11]"
      ]
     },
     "execution_count": 31,
     "metadata": {},
     "output_type": "execute_result"
    }
   ],
   "source": [
    "list2"
   ]
  },
  {
   "cell_type": "code",
   "execution_count": 32,
   "id": "069f1010",
   "metadata": {},
   "outputs": [
    {
     "data": {
      "text/plain": [
       "2"
      ]
     },
     "execution_count": 32,
     "metadata": {},
     "output_type": "execute_result"
    }
   ],
   "source": [
    "list2.count(11)"
   ]
  },
  {
   "cell_type": "code",
   "execution_count": 33,
   "id": "6acec9fd",
   "metadata": {},
   "outputs": [
    {
     "data": {
      "text/plain": [
       "1"
      ]
     },
     "execution_count": 33,
     "metadata": {},
     "output_type": "execute_result"
    }
   ],
   "source": [
    "list2.index(11) # returns the index of the item 11 in the list list2"
   ]
  },
  {
   "cell_type": "code",
   "execution_count": 34,
   "id": "2bab0c1a",
   "metadata": {},
   "outputs": [],
   "source": [
    "list2.remove(11)"
   ]
  },
  {
   "cell_type": "code",
   "execution_count": 35,
   "id": "cfad3eee",
   "metadata": {},
   "outputs": [
    {
     "data": {
      "text/plain": [
       "[44, 55, 78, 11]"
      ]
     },
     "execution_count": 35,
     "metadata": {},
     "output_type": "execute_result"
    }
   ],
   "source": [
    "list2"
   ]
  },
  {
   "cell_type": "code",
   "execution_count": 36,
   "id": "adc3e97f",
   "metadata": {},
   "outputs": [
    {
     "data": {
      "text/plain": [
       "3"
      ]
     },
     "execution_count": 36,
     "metadata": {},
     "output_type": "execute_result"
    }
   ],
   "source": [
    "list2.index(11)"
   ]
  },
  {
   "cell_type": "code",
   "execution_count": 37,
   "id": "64871e9d",
   "metadata": {},
   "outputs": [
    {
     "data": {
      "text/plain": [
       "[44, 55, 78, 11]"
      ]
     },
     "execution_count": 37,
     "metadata": {},
     "output_type": "execute_result"
    }
   ],
   "source": [
    "list2"
   ]
  },
  {
   "cell_type": "code",
   "execution_count": 39,
   "id": "67ceac28",
   "metadata": {},
   "outputs": [
    {
     "data": {
      "text/plain": [
       "[10, 11, 'hello', 44, 'good evening', 35, 12, 45, 67, 89, 777, 'a']"
      ]
     },
     "execution_count": 39,
     "metadata": {},
     "output_type": "execute_result"
    }
   ],
   "source": [
    "list1\n"
   ]
  },
  {
   "cell_type": "code",
   "execution_count": 40,
   "id": "99d660aa",
   "metadata": {},
   "outputs": [],
   "source": [
    "list1.extend(list2) # extends the list list1 with the items of list 2 at the end of the list1"
   ]
  },
  {
   "cell_type": "code",
   "execution_count": 42,
   "id": "bf9d272a",
   "metadata": {},
   "outputs": [
    {
     "name": "stdout",
     "output_type": "stream",
     "text": [
      "[10, 11, 'hello', 44, 'good evening', 35, 12, 45, 67, 89, 777, 'a', 44, 55, 78, 11]\n"
     ]
    }
   ],
   "source": [
    "print(list1)"
   ]
  },
  {
   "cell_type": "code",
   "execution_count": 43,
   "id": "5ab3041a",
   "metadata": {},
   "outputs": [],
   "source": [
    "list4=[11,44,22,10,20,40]"
   ]
  },
  {
   "cell_type": "code",
   "execution_count": 45,
   "id": "7d4ab944",
   "metadata": {},
   "outputs": [],
   "source": [
    "list4.sort()"
   ]
  },
  {
   "cell_type": "code",
   "execution_count": 46,
   "id": "c77a521d",
   "metadata": {},
   "outputs": [
    {
     "data": {
      "text/plain": [
       "[10, 11, 20, 22, 40, 44]"
      ]
     },
     "execution_count": 46,
     "metadata": {},
     "output_type": "execute_result"
    }
   ],
   "source": [
    "list4"
   ]
  },
  {
   "cell_type": "code",
   "execution_count": 50,
   "id": "12523ca1",
   "metadata": {},
   "outputs": [
    {
     "data": {
      "text/plain": [
       "'Sort the list in ascending order and return None.\\n\\nThe sort is in-place (i.e. the list itself is modified) and stable (i.e. the\\norder of two equal elements is maintained).\\n\\nIf a key function is given, apply it once to each list item and sort them,\\nascending or descending, according to their function values.\\n\\nThe reverse flag can be set to sort in descending order.'"
      ]
     },
     "execution_count": 50,
     "metadata": {},
     "output_type": "execute_result"
    }
   ],
   "source": [
    "list4.sort.__doc__"
   ]
  },
  {
   "cell_type": "code",
   "execution_count": 57,
   "id": "f4ed02be",
   "metadata": {},
   "outputs": [],
   "source": [
    "list5=[10,34,56,77,89,111]"
   ]
  },
  {
   "cell_type": "code",
   "execution_count": 58,
   "id": "85da5619",
   "metadata": {},
   "outputs": [],
   "source": [
    "list5.sort()"
   ]
  },
  {
   "cell_type": "code",
   "execution_count": 76,
   "id": "83ec5efe",
   "metadata": {},
   "outputs": [],
   "source": [
    "list5.sort(reverse=True)"
   ]
  },
  {
   "cell_type": "code",
   "execution_count": 77,
   "id": "f9507521",
   "metadata": {},
   "outputs": [
    {
     "data": {
      "text/plain": [
       "[111, 89, 77, 56, 34, 10]"
      ]
     },
     "execution_count": 77,
     "metadata": {},
     "output_type": "execute_result"
    }
   ],
   "source": [
    "list5"
   ]
  },
  {
   "cell_type": "code",
   "execution_count": 59,
   "id": "156acfdf",
   "metadata": {},
   "outputs": [
    {
     "data": {
      "text/plain": [
       "[10, 34, 56, 77, 89, 111]"
      ]
     },
     "execution_count": 59,
     "metadata": {},
     "output_type": "execute_result"
    }
   ],
   "source": [
    "list5"
   ]
  },
  {
   "cell_type": "code",
   "execution_count": 60,
   "id": "dcccfb68",
   "metadata": {},
   "outputs": [],
   "source": [
    "list6=[11,14,44,23,56,78,23.45,67,89,98,76,89,23,11,44]"
   ]
  },
  {
   "cell_type": "code",
   "execution_count": 61,
   "id": "485a677e",
   "metadata": {},
   "outputs": [
    {
     "data": {
      "text/plain": [
       "2"
      ]
     },
     "execution_count": 61,
     "metadata": {},
     "output_type": "execute_result"
    }
   ],
   "source": [
    "#how many times 44 appeared in the list\n",
    "list6.count(44)"
   ]
  },
  {
   "cell_type": "code",
   "execution_count": 62,
   "id": "7559d42e",
   "metadata": {},
   "outputs": [
    {
     "data": {
      "text/plain": [
       "5"
      ]
     },
     "execution_count": 62,
     "metadata": {},
     "output_type": "execute_result"
    }
   ],
   "source": [
    "#getting the occurance position of 78\n",
    "list6.index(78)"
   ]
  },
  {
   "cell_type": "code",
   "execution_count": 63,
   "id": "78c29e3c",
   "metadata": {},
   "outputs": [
    {
     "data": {
      "text/plain": [
       "44"
      ]
     },
     "execution_count": 63,
     "metadata": {},
     "output_type": "execute_result"
    }
   ],
   "source": [
    "#to remove an item at the end\n",
    "list6.pop()"
   ]
  },
  {
   "cell_type": "code",
   "execution_count": 64,
   "id": "d4052b2a",
   "metadata": {},
   "outputs": [
    {
     "data": {
      "text/plain": [
       "[11, 14, 44, 23, 56, 78, 23.45, 67, 89, 98, 76, 89, 23, 11]"
      ]
     },
     "execution_count": 64,
     "metadata": {},
     "output_type": "execute_result"
    }
   ],
   "source": [
    "list6"
   ]
  },
  {
   "cell_type": "code",
   "execution_count": 65,
   "id": "213443f3",
   "metadata": {},
   "outputs": [],
   "source": [
    "# to remove at item 78\n",
    "list6.remove(78)"
   ]
  },
  {
   "cell_type": "code",
   "execution_count": 66,
   "id": "75aa094f",
   "metadata": {},
   "outputs": [],
   "source": [
    "# to add an item 555 at the end\n",
    "list6.append(555)"
   ]
  },
  {
   "cell_type": "code",
   "execution_count": 67,
   "id": "7141399e",
   "metadata": {},
   "outputs": [
    {
     "data": {
      "text/plain": [
       "[11, 14, 44, 23, 56, 23.45, 67, 89, 98, 76, 89, 23, 11, 555]"
      ]
     },
     "execution_count": 67,
     "metadata": {},
     "output_type": "execute_result"
    }
   ],
   "source": [
    "list6"
   ]
  },
  {
   "cell_type": "code",
   "execution_count": 68,
   "id": "e4acbef8",
   "metadata": {},
   "outputs": [
    {
     "data": {
      "text/plain": [
       "89"
      ]
     },
     "execution_count": 68,
     "metadata": {},
     "output_type": "execute_result"
    }
   ],
   "source": [
    "#remove an item at an index 7\n",
    "list6.pop(7)"
   ]
  },
  {
   "cell_type": "code",
   "execution_count": 69,
   "id": "cde6b13c",
   "metadata": {},
   "outputs": [
    {
     "data": {
      "text/plain": [
       "[11, 14, 44, 23, 56, 23.45, 67, 98, 76, 89, 23, 11, 555]"
      ]
     },
     "execution_count": 69,
     "metadata": {},
     "output_type": "execute_result"
    }
   ],
   "source": [
    "list6"
   ]
  },
  {
   "cell_type": "code",
   "execution_count": 70,
   "id": "132c13c8",
   "metadata": {},
   "outputs": [
    {
     "data": {
      "text/plain": [
       "4"
      ]
     },
     "execution_count": 70,
     "metadata": {},
     "output_type": "execute_result"
    }
   ],
   "source": [
    "# getting an index of item 56\n",
    "list6.index(56)"
   ]
  },
  {
   "cell_type": "code",
   "execution_count": 71,
   "id": "84f8a87d",
   "metadata": {},
   "outputs": [],
   "source": [
    "list7=[\"sunday\",\"monday\",\"wednesday\",\"friday\",\"saturday\"]"
   ]
  },
  {
   "cell_type": "code",
   "execution_count": 72,
   "id": "233af887",
   "metadata": {},
   "outputs": [],
   "source": [
    "#make the weekdays in proper way by adding missing days"
   ]
  },
  {
   "cell_type": "code",
   "execution_count": 73,
   "id": "b71057a0",
   "metadata": {},
   "outputs": [],
   "source": [
    "list8=[10,20,10,20,45,67,78,34]\n",
    "# remove duplicate items in this list"
   ]
  },
  {
   "cell_type": "code",
   "execution_count": 74,
   "id": "0fae1a78",
   "metadata": {},
   "outputs": [],
   "source": [
    "list9=[10,20,30,40,50]\n",
    "list10=[60,70,80,90,100]\n",
    "#make an list which completes order 10,20,..90,100"
   ]
  },
  {
   "cell_type": "code",
   "execution_count": 75,
   "id": "91d9d2ed",
   "metadata": {},
   "outputs": [],
   "source": [
    "list11=[10,20,40,50,80,80]\n",
    "#make a list with and order 10,20,...100 by using list functions"
   ]
  },
  {
   "cell_type": "code",
   "execution_count": null,
   "id": "001713db",
   "metadata": {},
   "outputs": [],
   "source": []
  }
 ],
 "metadata": {
  "kernelspec": {
   "display_name": "Python 3 (ipykernel)",
   "language": "python",
   "name": "python3"
  },
  "language_info": {
   "codemirror_mode": {
    "name": "ipython",
    "version": 3
   },
   "file_extension": ".py",
   "mimetype": "text/x-python",
   "name": "python",
   "nbconvert_exporter": "python",
   "pygments_lexer": "ipython3",
   "version": "3.11.4"
  }
 },
 "nbformat": 4,
 "nbformat_minor": 5
}
