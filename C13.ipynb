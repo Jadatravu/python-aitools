{
 "cells": [
  {
   "cell_type": "code",
   "execution_count": 2,
   "id": "5ad7081d",
   "metadata": {},
   "outputs": [],
   "source": [
    "location_info={\\\n",
    "    \"madhapur\":{\"sqfeet\":10000,\"amenities\":1000000},\\\n",
    "    \"gachibowli\":{\"sqfeet\":12000,\"amenities\":1200000},\\\n",
    "    \"kphb\":{\"sqfeet\":8000,\"amenities\":800000}\\\n",
    "              }"
   ]
  },
  {
   "cell_type": "code",
   "execution_count": 14,
   "id": "92af94f0",
   "metadata": {},
   "outputs": [
    {
     "name": "stdout",
     "output_type": "stream",
     "text": [
      "Please provide location :madhapur\n"
     ]
    }
   ],
   "source": [
    "location = input(\"Please provide location :\")"
   ]
  },
  {
   "cell_type": "code",
   "execution_count": 8,
   "id": "73380cdb",
   "metadata": {},
   "outputs": [],
   "source": [
    "def convert_rupees_to_dollors(rupees):\n",
    "    cur_dollor = float(rupees)/83.0\n",
    "    return cur_dollor"
   ]
  },
  {
   "cell_type": "code",
   "execution_count": 9,
   "id": "41a12644",
   "metadata": {},
   "outputs": [],
   "source": [
    "def convert_rupees_to_euros(rupees):\n",
    "    cur_euro = float(rupees)/92.0\n",
    "    return cur_euro"
   ]
  },
  {
   "cell_type": "code",
   "execution_count": 10,
   "id": "9a72c194",
   "metadata": {},
   "outputs": [],
   "source": [
    "def convert_rupees_to_pounds(rupees):\n",
    "    cur_pounds = float(rupees)/110.0\n",
    "    return cur_pounds"
   ]
  },
  {
   "cell_type": "code",
   "execution_count": 15,
   "id": "fbd38a5e",
   "metadata": {},
   "outputs": [
    {
     "name": "stdout",
     "output_type": "stream",
     "text": [
      "How much square feet flat needed: 1600\n",
      "total cost  : 17000000.0\n",
      " including amenities cost: 1000000\n",
      "\n",
      "    ************************* Flat cost report in Hyderabad *********************************\n",
      "\n",
      "    Square Feet :1600\n",
      "\n",
      "    location :madhapur\n",
      " \n",
      "    Total cost of the flat in rupees : 17000000.0\n",
      "\n",
      "    Total cost of the flat in pounds : 154545.45454545456\n",
      "\n",
      "    Total cost of the flat in dollors: 204819.27710843374\n",
      "\n",
      "    Total cost of the flat in euros  : 184782.60869565216\n",
      "\n",
      "    ****************************************************************************************\n",
      "    \n"
     ]
    }
   ],
   "source": [
    "try:\n",
    "    d1 = location_info[location]\n",
    "    sqf = int(input(\"How much square feet flat needed: \"))\n",
    "    #total_cost = sqf+amenities\n",
    "    total_cost = float(sqf)*float(d1[\"sqfeet\"]) + float(d1[\"amenities\"])\n",
    "    x1=d1[\"amenities\"]\n",
    "    print(f\"total cost  : {total_cost}\\n including amenities cost: {x1}\")  \n",
    "    output_string=f\"\"\"\n",
    "    ************************* Flat cost report in Hyderabad *********************************\\n\n",
    "    Square Feet :{sqf}\\n\n",
    "    location :{location}\\n \n",
    "    Total cost of the flat in rupees : {total_cost}\\n\n",
    "    Total cost of the flat in pounds : {convert_rupees_to_pounds(total_cost)}\\n\n",
    "    Total cost of the flat in dollors: {convert_rupees_to_dollors(total_cost)}\\n\n",
    "    Total cost of the flat in euros  : {convert_rupees_to_euros(total_cost)}\\n\n",
    "    ****************************************************************************************\n",
    "    \"\"\"\n",
    "    print(output_string)\n",
    "except KeyError as e1:\n",
    "    print(\"For this location we dont have data\")"
   ]
  },
  {
   "cell_type": "code",
   "execution_count": null,
   "id": "473b2b6c",
   "metadata": {},
   "outputs": [],
   "source": [
    "\"\"\"\n",
    "Trip planner task\n",
    "Base location: Bangalore\n",
    "Accomodation per person per day\n",
    "ticket per person to and fro\n",
    "place_info={\"Kerala\":{\"ticket\":4500,\"acco\":3500},\"Delhi\":{\"ticket\":8000,\"acco\":5000},\n",
    "\"Pune\":{\"ticket\":6000,\"acco\":5000},\"Hyderabad\":{\"ticket\":4000,\"acco\":4000}}\n",
    "\n",
    "Destination\n",
    "No of Travellers\n",
    "No of days\n",
    "\n",
    "Total cost report for the trip\n",
    "\n",
    "use function, exceptions wherever needed and possible\n",
    "\"\"\""
   ]
  }
 ],
 "metadata": {
  "kernelspec": {
   "display_name": "Python 3 (ipykernel)",
   "language": "python",
   "name": "python3"
  },
  "language_info": {
   "codemirror_mode": {
    "name": "ipython",
    "version": 3
   },
   "file_extension": ".py",
   "mimetype": "text/x-python",
   "name": "python",
   "nbconvert_exporter": "python",
   "pygments_lexer": "ipython3",
   "version": "3.9.12"
  }
 },
 "nbformat": 4,
 "nbformat_minor": 5
}
