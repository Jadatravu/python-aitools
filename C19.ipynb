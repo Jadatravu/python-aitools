{
 "cells": [
  {
   "cell_type": "code",
   "execution_count": 3,
   "id": "c685e5c7",
   "metadata": {},
   "outputs": [
    {
     "name": "stdout",
     "output_type": "stream",
     "text": [
      "0\n",
      "1\n",
      "2\n",
      "3\n",
      "4\n",
      "5\n"
     ]
    }
   ],
   "source": [
    "\"\"\"\n",
    "for loop => when we know definate number of iterations or loop it is going to\n",
    "while loop => when we dont know how many number of times it is going to loop\n",
    "\n",
    "break, in while loop or in for loop when we want to come out of the loop\n",
    "\"\"\"\n",
    "\n",
    "for i1 in range(0,10,1):\n",
    "    print(i1)\n",
    "    if i1 == 5:\n",
    "        break"
   ]
  },
  {
   "cell_type": "code",
   "execution_count": 4,
   "id": "5c4183c6",
   "metadata": {},
   "outputs": [
    {
     "name": "stdout",
     "output_type": "stream",
     "text": [
      " i am in a while loop\n",
      "enter y to continue..y\n",
      " i am in a while loop\n",
      "enter y to continue..y\n",
      " i am in a while loop\n",
      "enter y to continue..y\n",
      " i am in a while loop\n",
      "enter y to continue..n\n"
     ]
    }
   ],
   "source": [
    "c='y'\n",
    "while c == 'y':\n",
    "    print(\" i am in a while loop\")\n",
    "    c=input(\"enter y to continue..\")"
   ]
  },
  {
   "cell_type": "code",
   "execution_count": 5,
   "id": "4d0d4b84",
   "metadata": {},
   "outputs": [
    {
     "name": "stdout",
     "output_type": "stream",
     "text": [
      " i am in while loop\n",
      "enter y to continuey\n",
      " i am in while loop\n",
      "enter y to continuey\n",
      " i am in while loop\n",
      "enter y to continuey\n",
      " i am in while loop\n",
      "enter y to continuey\n",
      " i am in while loop\n",
      "enter y to continuey\n",
      " i am in while loop\n",
      "enter y to continuey\n",
      " i am in while loop\n",
      "enter y to continuen\n",
      "7\n"
     ]
    }
   ],
   "source": [
    "c='y'\n",
    "sum1 = 0\n",
    "while c =='y':\n",
    "    sum1 = sum1 +1\n",
    "    print(\" i am in while loop\")\n",
    "    c=input(\"enter y to continue\")\n",
    "print(sum1)\n"
   ]
  },
  {
   "cell_type": "code",
   "execution_count": 6,
   "id": "b6c9ffea",
   "metadata": {},
   "outputs": [
    {
     "name": "stdout",
     "output_type": "stream",
     "text": [
      " i am in while loop\n",
      "enter y to continuey\n",
      " i am in while loop\n",
      "enter y to continuey\n",
      " i am in while loop\n",
      "enter y to continuey\n",
      " i am in while loop\n",
      "enter y to continuey\n",
      " i am in while loop\n",
      "enter y to continuey\n",
      " i am in while loop\n",
      " condition satisfied.. comming out of the loop\n",
      "6\n"
     ]
    }
   ],
   "source": [
    "c='y'\n",
    "sum1 = 0\n",
    "while c =='y':\n",
    "    sum1 = sum1 +1\n",
    "    print(\" i am in while loop\")\n",
    "    if sum1 > 5:\n",
    "        print(\" condition satisfied.. comming out of the loop\")   \n",
    "        break\n",
    "    c=input(\"enter y to continue\")\n",
    "print(sum1)"
   ]
  },
  {
   "cell_type": "code",
   "execution_count": 7,
   "id": "8354097e",
   "metadata": {},
   "outputs": [
    {
     "name": "stdout",
     "output_type": "stream",
     "text": [
      "0\n",
      "2\n",
      "4\n",
      "6\n",
      "8\n",
      "20\n"
     ]
    }
   ],
   "source": [
    "sum1 = 0 #1\n",
    "for i1 in range(0,10,1): #2\n",
    "    if i1%2 == 1: #odd number #3 # if it is odd number it will continue\n",
    "        continue #4\n",
    "    sum1 = sum1 +i1 #5\n",
    "    print(i1) #6\n",
    "print(sum1)    #7\n",
    "\n",
    "#2,3,4,5\n",
    "\n",
    "# it is if odd number  #2,3,4\n",
    "# it is if even number #2,3,4,5,6\n",
    "#0,1,2,3,4,5,6,7,8,9\n"
   ]
  },
  {
   "cell_type": "code",
   "execution_count": 8,
   "id": "cd01b3c4",
   "metadata": {},
   "outputs": [
    {
     "name": "stdout",
     "output_type": "stream",
     "text": [
      "2\n",
      "4\n",
      "6\n",
      "8\n",
      "10\n",
      "10\n"
     ]
    }
   ],
   "source": [
    "pro1=1 #1\n",
    "for i1 in range(1,11,1): #2\n",
    "    if i1%2 ==1: #3 #odd\n",
    "        continue #4\n",
    "    pro1 = pro1*i1 #5\n",
    "    print(i1)#6\n",
    "print(i1)#7\n",
    "# i1 even  #1,#2,3,5,6,7\n",
    "# i1 odd #1,2,3,4,7"
   ]
  },
  {
   "cell_type": "code",
   "execution_count": 9,
   "id": "dd866562",
   "metadata": {},
   "outputs": [
    {
     "name": "stdout",
     "output_type": "stream",
     "text": [
      "110\n"
     ]
    }
   ],
   "source": [
    "# sum of even number lesser than 20 using while loop\n",
    "sum1 = 0 #1 \n",
    "i1 = 0 #2\n",
    "while i1 < 20: #3\n",
    "    i1 = i1 +1 #4\n",
    "    if i1%2 == 1: #5\n",
    "        continue #6\n",
    "    sum1 = sum1+i1 #7\n",
    "print(sum1) #8\n",
    "# even  1,2,3,4,5,7,8\n",
    "#odd 1,2,3,4,5,6,8"
   ]
  },
  {
   "cell_type": "code",
   "execution_count": 10,
   "id": "c481e626",
   "metadata": {},
   "outputs": [
    {
     "name": "stdout",
     "output_type": "stream",
     "text": [
      "275\n"
     ]
    }
   ],
   "source": [
    "# sum of numbers which are multiples of 5 under 50 using while loop & continue\n",
    "i1 =0 #1\n",
    "sum1 =0 #2\n",
    "while i1 < 50: #3\n",
    "    i1 = i1 +1 #4\n",
    "    if i1%5 != 0: #5\n",
    "        continue #6\n",
    "    sum1 = sum1 +i1 #7\n",
    "print(sum1) #8\n",
    "# i1 = 10  1,2,3,4,5,7,8\n",
    "#i1 =9  1,2,3,4,5,6,8"
   ]
  },
  {
   "cell_type": "code",
   "execution_count": null,
   "id": "f12de7b8",
   "metadata": {},
   "outputs": [],
   "source": [
    "# while & break, print numbers untill 78\n",
    "# while & break print sum of the number untill 46\n",
    "# while & continue print sum of even numbers till 76\n",
    "# while & continue print product of numbers multiples of 7 untill 98"
   ]
  }
 ],
 "metadata": {
  "kernelspec": {
   "display_name": "Python 3 (ipykernel)",
   "language": "python",
   "name": "python3"
  },
  "language_info": {
   "codemirror_mode": {
    "name": "ipython",
    "version": 3
   },
   "file_extension": ".py",
   "mimetype": "text/x-python",
   "name": "python",
   "nbconvert_exporter": "python",
   "pygments_lexer": "ipython3",
   "version": "3.9.12"
  }
 },
 "nbformat": 4,
 "nbformat_minor": 5
}
