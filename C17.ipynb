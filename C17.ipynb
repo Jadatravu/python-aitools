{
 "cells": [
  {
   "cell_type": "code",
   "execution_count": 1,
   "id": "76cbac91",
   "metadata": {},
   "outputs": [],
   "source": [
    "from t1 import d1, l1, str1\n",
    "from t1 import count_the_length_of_the_string\n"
   ]
  },
  {
   "cell_type": "code",
   "execution_count": 2,
   "id": "77085c90",
   "metadata": {},
   "outputs": [
    {
     "name": "stdout",
     "output_type": "stream",
     "text": [
      "{100: 'apple', 200: 'banana', 300: 'google', 400: 'chrome'}\n"
     ]
    }
   ],
   "source": [
    "print(d1)"
   ]
  },
  {
   "cell_type": "code",
   "execution_count": 13,
   "id": "1ee7d3f7",
   "metadata": {},
   "outputs": [
    {
     "data": {
      "text/plain": [
       "dict_keys([100, 200, 300, 400])"
      ]
     },
     "execution_count": 13,
     "metadata": {},
     "output_type": "execute_result"
    }
   ],
   "source": [
    "d1.keys()"
   ]
  },
  {
   "cell_type": "code",
   "execution_count": 14,
   "id": "280e7656",
   "metadata": {},
   "outputs": [
    {
     "data": {
      "text/plain": [
       "dict_values(['apple', 'banana', 'google', 'chrome'])"
      ]
     },
     "execution_count": 14,
     "metadata": {},
     "output_type": "execute_result"
    }
   ],
   "source": [
    "d1.values()"
   ]
  },
  {
   "cell_type": "code",
   "execution_count": 15,
   "id": "45e1415e",
   "metadata": {},
   "outputs": [
    {
     "data": {
      "text/plain": [
       "5"
      ]
     },
     "execution_count": 15,
     "metadata": {},
     "output_type": "execute_result"
    }
   ],
   "source": [
    "len(l1)"
   ]
  },
  {
   "cell_type": "code",
   "execution_count": 16,
   "id": "88a13854",
   "metadata": {},
   "outputs": [
    {
     "data": {
      "text/plain": [
       "'TODAY IS SUNDAY WE ARE LEARNING PYTHON MODULES'"
      ]
     },
     "execution_count": 16,
     "metadata": {},
     "output_type": "execute_result"
    }
   ],
   "source": [
    "str1.upper()"
   ]
  },
  {
   "cell_type": "code",
   "execution_count": null,
   "id": "50b77020",
   "metadata": {},
   "outputs": [],
   "source": []
  },
  {
   "cell_type": "code",
   "execution_count": 3,
   "id": "d40f3afd",
   "metadata": {},
   "outputs": [
    {
     "name": "stdout",
     "output_type": "stream",
     "text": [
      "[12, 45, 67, 89, 90]\n"
     ]
    }
   ],
   "source": [
    "print(l1)"
   ]
  },
  {
   "cell_type": "code",
   "execution_count": 4,
   "id": "5590659d",
   "metadata": {},
   "outputs": [
    {
     "name": "stdout",
     "output_type": "stream",
     "text": [
      "Today is sunday we are learning python modules\n"
     ]
    }
   ],
   "source": [
    "print(str1)"
   ]
  },
  {
   "cell_type": "code",
   "execution_count": 5,
   "id": "43b20858",
   "metadata": {},
   "outputs": [
    {
     "data": {
      "text/plain": [
       "31"
      ]
     },
     "execution_count": 5,
     "metadata": {},
     "output_type": "execute_result"
    }
   ],
   "source": [
    "count_the_length_of_the_string(\"This is month of May, year 2024\")"
   ]
  },
  {
   "cell_type": "code",
   "execution_count": 6,
   "id": "c688e321",
   "metadata": {},
   "outputs": [],
   "source": [
    "# os, sys, datetime"
   ]
  },
  {
   "cell_type": "code",
   "execution_count": 7,
   "id": "92cd1e26",
   "metadata": {},
   "outputs": [],
   "source": [
    "import sys"
   ]
  },
  {
   "cell_type": "code",
   "execution_count": 8,
   "id": "acfb37d0",
   "metadata": {},
   "outputs": [
    {
     "data": {
      "text/plain": [
       "['C:\\\\Users\\\\Lalith Eswar\\\\Documents\\\\janardhan\\\\14APr2024',\n",
       " 'C:\\\\Users\\\\Lalith Eswar\\\\anaconda3\\\\python39.zip',\n",
       " 'C:\\\\Users\\\\Lalith Eswar\\\\anaconda3\\\\DLLs',\n",
       " 'C:\\\\Users\\\\Lalith Eswar\\\\anaconda3\\\\lib',\n",
       " 'C:\\\\Users\\\\Lalith Eswar\\\\anaconda3',\n",
       " '',\n",
       " 'C:\\\\Users\\\\Lalith Eswar\\\\anaconda3\\\\lib\\\\site-packages',\n",
       " 'C:\\\\Users\\\\Lalith Eswar\\\\anaconda3\\\\lib\\\\site-packages\\\\win32',\n",
       " 'C:\\\\Users\\\\Lalith Eswar\\\\anaconda3\\\\lib\\\\site-packages\\\\win32\\\\lib',\n",
       " 'C:\\\\Users\\\\Lalith Eswar\\\\anaconda3\\\\lib\\\\site-packages\\\\Pythonwin']"
      ]
     },
     "execution_count": 8,
     "metadata": {},
     "output_type": "execute_result"
    }
   ],
   "source": [
    "sys.path"
   ]
  },
  {
   "cell_type": "code",
   "execution_count": 11,
   "id": "ff3aacea",
   "metadata": {},
   "outputs": [],
   "source": [
    "sys.path.append(\"C:\\\\Users\\\\Lalith Eswar\\\\Desktop\\\\\")"
   ]
  },
  {
   "cell_type": "code",
   "execution_count": 12,
   "id": "1ca6446e",
   "metadata": {},
   "outputs": [
    {
     "data": {
      "text/plain": [
       "['C:\\\\Users\\\\Lalith Eswar\\\\Documents\\\\janardhan\\\\14APr2024',\n",
       " 'C:\\\\Users\\\\Lalith Eswar\\\\anaconda3\\\\python39.zip',\n",
       " 'C:\\\\Users\\\\Lalith Eswar\\\\anaconda3\\\\DLLs',\n",
       " 'C:\\\\Users\\\\Lalith Eswar\\\\anaconda3\\\\lib',\n",
       " 'C:\\\\Users\\\\Lalith Eswar\\\\anaconda3',\n",
       " '',\n",
       " 'C:\\\\Users\\\\Lalith Eswar\\\\anaconda3\\\\lib\\\\site-packages',\n",
       " 'C:\\\\Users\\\\Lalith Eswar\\\\anaconda3\\\\lib\\\\site-packages\\\\win32',\n",
       " 'C:\\\\Users\\\\Lalith Eswar\\\\anaconda3\\\\lib\\\\site-packages\\\\win32\\\\lib',\n",
       " 'C:\\\\Users\\\\Lalith Eswar\\\\anaconda3\\\\lib\\\\site-packages\\\\Pythonwin',\n",
       " \"'C:\\\\Users\\\\Lalith Eswar\\\\Desktop\\\\\",\n",
       " 'C:\\\\Users\\\\Lalith Eswar\\\\Desktop\\\\']"
      ]
     },
     "execution_count": 12,
     "metadata": {},
     "output_type": "execute_result"
    }
   ],
   "source": [
    "sys.path"
   ]
  },
  {
   "cell_type": "code",
   "execution_count": 17,
   "id": "3a359018",
   "metadata": {},
   "outputs": [],
   "source": [
    "import os"
   ]
  },
  {
   "cell_type": "code",
   "execution_count": 18,
   "id": "2e312261",
   "metadata": {},
   "outputs": [
    {
     "data": {
      "text/plain": [
       "'C:\\\\Users\\\\Lalith Eswar\\\\Documents\\\\janardhan\\\\14APr2024'"
      ]
     },
     "execution_count": 18,
     "metadata": {},
     "output_type": "execute_result"
    }
   ],
   "source": [
    "os.getcwd()"
   ]
  },
  {
   "cell_type": "code",
   "execution_count": 20,
   "id": "2595eff7",
   "metadata": {},
   "outputs": [],
   "source": [
    "os.chdir('C:\\\\Users\\\\Lalith Eswar\\\\Documents\\\\')"
   ]
  },
  {
   "cell_type": "code",
   "execution_count": 21,
   "id": "347aa308",
   "metadata": {},
   "outputs": [
    {
     "data": {
      "text/plain": [
       "'C:\\\\Users\\\\Lalith Eswar\\\\Documents'"
      ]
     },
     "execution_count": 21,
     "metadata": {},
     "output_type": "execute_result"
    }
   ],
   "source": [
    "os.getcwd()"
   ]
  },
  {
   "cell_type": "code",
   "execution_count": 22,
   "id": "b8bb0b0c",
   "metadata": {},
   "outputs": [
    {
     "data": {
      "text/plain": [
       "['DirEntry',\n",
       " 'F_OK',\n",
       " 'GenericAlias',\n",
       " 'Mapping',\n",
       " 'MutableMapping',\n",
       " 'O_APPEND',\n",
       " 'O_BINARY',\n",
       " 'O_CREAT',\n",
       " 'O_EXCL',\n",
       " 'O_NOINHERIT',\n",
       " 'O_RANDOM',\n",
       " 'O_RDONLY',\n",
       " 'O_RDWR',\n",
       " 'O_SEQUENTIAL',\n",
       " 'O_SHORT_LIVED',\n",
       " 'O_TEMPORARY',\n",
       " 'O_TEXT',\n",
       " 'O_TRUNC',\n",
       " 'O_WRONLY',\n",
       " 'P_DETACH',\n",
       " 'P_NOWAIT',\n",
       " 'P_NOWAITO',\n",
       " 'P_OVERLAY',\n",
       " 'P_WAIT',\n",
       " 'PathLike',\n",
       " 'R_OK',\n",
       " 'SEEK_CUR',\n",
       " 'SEEK_END',\n",
       " 'SEEK_SET',\n",
       " 'TMP_MAX',\n",
       " 'W_OK',\n",
       " 'X_OK',\n",
       " '_AddedDllDirectory',\n",
       " '_Environ',\n",
       " '__all__',\n",
       " '__builtins__',\n",
       " '__cached__',\n",
       " '__doc__',\n",
       " '__file__',\n",
       " '__loader__',\n",
       " '__name__',\n",
       " '__package__',\n",
       " '__spec__',\n",
       " '_check_methods',\n",
       " '_execvpe',\n",
       " '_exists',\n",
       " '_exit',\n",
       " '_fspath',\n",
       " '_get_exports_list',\n",
       " '_walk',\n",
       " '_wrap_close',\n",
       " 'abc',\n",
       " 'abort',\n",
       " 'access',\n",
       " 'add_dll_directory',\n",
       " 'altsep',\n",
       " 'chdir',\n",
       " 'chmod',\n",
       " 'close',\n",
       " 'closerange',\n",
       " 'cpu_count',\n",
       " 'curdir',\n",
       " 'defpath',\n",
       " 'device_encoding',\n",
       " 'devnull',\n",
       " 'dup',\n",
       " 'dup2',\n",
       " 'environ',\n",
       " 'error',\n",
       " 'execl',\n",
       " 'execle',\n",
       " 'execlp',\n",
       " 'execlpe',\n",
       " 'execv',\n",
       " 'execve',\n",
       " 'execvp',\n",
       " 'execvpe',\n",
       " 'extsep',\n",
       " 'fdopen',\n",
       " 'fsdecode',\n",
       " 'fsencode',\n",
       " 'fspath',\n",
       " 'fstat',\n",
       " 'fsync',\n",
       " 'ftruncate',\n",
       " 'get_exec_path',\n",
       " 'get_handle_inheritable',\n",
       " 'get_inheritable',\n",
       " 'get_terminal_size',\n",
       " 'getcwd',\n",
       " 'getcwdb',\n",
       " 'getenv',\n",
       " 'getlogin',\n",
       " 'getpid',\n",
       " 'getppid',\n",
       " 'isatty',\n",
       " 'kill',\n",
       " 'linesep',\n",
       " 'link',\n",
       " 'listdir',\n",
       " 'lseek',\n",
       " 'lstat',\n",
       " 'makedirs',\n",
       " 'mkdir',\n",
       " 'name',\n",
       " 'open',\n",
       " 'pardir',\n",
       " 'path',\n",
       " 'pathsep',\n",
       " 'pipe',\n",
       " 'popen',\n",
       " 'putenv',\n",
       " 'read',\n",
       " 'readlink',\n",
       " 'remove',\n",
       " 'removedirs',\n",
       " 'rename',\n",
       " 'renames',\n",
       " 'replace',\n",
       " 'rmdir',\n",
       " 'scandir',\n",
       " 'sep',\n",
       " 'set_handle_inheritable',\n",
       " 'set_inheritable',\n",
       " 'spawnl',\n",
       " 'spawnle',\n",
       " 'spawnv',\n",
       " 'spawnve',\n",
       " 'st',\n",
       " 'startfile',\n",
       " 'stat',\n",
       " 'stat_result',\n",
       " 'statvfs_result',\n",
       " 'strerror',\n",
       " 'supports_bytes_environ',\n",
       " 'supports_dir_fd',\n",
       " 'supports_effective_ids',\n",
       " 'supports_fd',\n",
       " 'supports_follow_symlinks',\n",
       " 'symlink',\n",
       " 'sys',\n",
       " 'system',\n",
       " 'terminal_size',\n",
       " 'times',\n",
       " 'times_result',\n",
       " 'truncate',\n",
       " 'umask',\n",
       " 'uname_result',\n",
       " 'unlink',\n",
       " 'unsetenv',\n",
       " 'urandom',\n",
       " 'utime',\n",
       " 'waitpid',\n",
       " 'waitstatus_to_exitcode',\n",
       " 'walk',\n",
       " 'write']"
      ]
     },
     "execution_count": 22,
     "metadata": {},
     "output_type": "execute_result"
    }
   ],
   "source": [
    "dir(os)"
   ]
  },
  {
   "cell_type": "code",
   "execution_count": 24,
   "id": "8fb86b5a",
   "metadata": {},
   "outputs": [
    {
     "data": {
      "text/plain": [
       "os.stat_result(st_mode=16749, st_ino=6473924464371844, st_dev=2452273889, st_nlink=1, st_uid=0, st_gid=0, st_size=4096, st_atime=1716133414, st_mtime=1715046737, st_ctime=1593592390)"
      ]
     },
     "execution_count": 24,
     "metadata": {},
     "output_type": "execute_result"
    }
   ],
   "source": [
    "os.stat('C:\\\\Users\\\\Lalith Eswar\\\\Documents\\\\')"
   ]
  },
  {
   "cell_type": "code",
   "execution_count": 25,
   "id": "62a0f5ec",
   "metadata": {},
   "outputs": [],
   "source": [
    "import datetime"
   ]
  },
  {
   "cell_type": "code",
   "execution_count": 26,
   "id": "5960aaba",
   "metadata": {},
   "outputs": [
    {
     "data": {
      "text/plain": [
       "datetime.datetime(2024, 5, 19, 21, 34, 41, 7715)"
      ]
     },
     "execution_count": 26,
     "metadata": {},
     "output_type": "execute_result"
    }
   ],
   "source": [
    "datetime.datetime.now()"
   ]
  },
  {
   "cell_type": "code",
   "execution_count": 27,
   "id": "420ee057",
   "metadata": {},
   "outputs": [],
   "source": [
    "d1=datetime.datetime.now()"
   ]
  },
  {
   "cell_type": "code",
   "execution_count": 28,
   "id": "f0cd8f8b",
   "metadata": {},
   "outputs": [
    {
     "data": {
      "text/plain": [
       "datetime.datetime"
      ]
     },
     "execution_count": 28,
     "metadata": {},
     "output_type": "execute_result"
    }
   ],
   "source": [
    "type(d1)"
   ]
  },
  {
   "cell_type": "code",
   "execution_count": 29,
   "id": "b5783d46",
   "metadata": {},
   "outputs": [],
   "source": [
    "#strftime => converts the datetime object info to the prescribed string format"
   ]
  },
  {
   "cell_type": "code",
   "execution_count": 30,
   "id": "dd0ffc5d",
   "metadata": {},
   "outputs": [
    {
     "data": {
      "text/plain": [
       "'2024 05 19'"
      ]
     },
     "execution_count": 30,
     "metadata": {},
     "output_type": "execute_result"
    }
   ],
   "source": [
    "d1.strftime(\"%Y %m %d\")"
   ]
  },
  {
   "cell_type": "code",
   "execution_count": 31,
   "id": "20893dfc",
   "metadata": {},
   "outputs": [
    {
     "data": {
      "text/plain": [
       "'24 05 19'"
      ]
     },
     "execution_count": 31,
     "metadata": {},
     "output_type": "execute_result"
    }
   ],
   "source": [
    "d1.strftime(\"%y %m %d\")"
   ]
  },
  {
   "cell_type": "code",
   "execution_count": 32,
   "id": "2f2cf4d0",
   "metadata": {},
   "outputs": [
    {
     "data": {
      "text/plain": [
       "'2024 05 19  21:35:16'"
      ]
     },
     "execution_count": 32,
     "metadata": {},
     "output_type": "execute_result"
    }
   ],
   "source": [
    "d1.strftime(\"%Y %m %d  %H:%M:%S\")"
   ]
  },
  {
   "cell_type": "code",
   "execution_count": 33,
   "id": "9ea6823e",
   "metadata": {},
   "outputs": [
    {
     "data": {
      "text/plain": [
       "'2024 05 19  May'"
      ]
     },
     "execution_count": 33,
     "metadata": {},
     "output_type": "execute_result"
    }
   ],
   "source": [
    "d1.strftime(\"%Y %m %d  %h\")"
   ]
  },
  {
   "cell_type": "code",
   "execution_count": 34,
   "id": "30433b6f",
   "metadata": {},
   "outputs": [],
   "source": [
    "#strptime => converts the date time from string format to datetime object"
   ]
  },
  {
   "cell_type": "code",
   "execution_count": 35,
   "id": "154db2c2",
   "metadata": {},
   "outputs": [],
   "source": [
    "d_str='2024 05 19  21:35:16'"
   ]
  },
  {
   "cell_type": "code",
   "execution_count": 38,
   "id": "d575ff70",
   "metadata": {},
   "outputs": [],
   "source": [
    "d2=datetime.datetime.strptime(d_str,\"%Y %m %d  %H:%M:%S\")"
   ]
  },
  {
   "cell_type": "code",
   "execution_count": 39,
   "id": "3f665cc7",
   "metadata": {},
   "outputs": [
    {
     "data": {
      "text/plain": [
       "datetime.datetime(2024, 5, 19, 21, 35, 16)"
      ]
     },
     "execution_count": 39,
     "metadata": {},
     "output_type": "execute_result"
    }
   ],
   "source": [
    "d2"
   ]
  },
  {
   "cell_type": "code",
   "execution_count": 40,
   "id": "c5366c78",
   "metadata": {},
   "outputs": [],
   "source": [
    "d_str_1='2024 05 19'"
   ]
  },
  {
   "cell_type": "code",
   "execution_count": 42,
   "id": "7e27b5d6",
   "metadata": {},
   "outputs": [],
   "source": [
    "d2_1=datetime.datetime.strptime(d_str_1,\"%Y %m %d\")"
   ]
  },
  {
   "cell_type": "code",
   "execution_count": 43,
   "id": "6e4656e2",
   "metadata": {},
   "outputs": [
    {
     "data": {
      "text/plain": [
       "datetime.datetime(2024, 5, 19, 0, 0)"
      ]
     },
     "execution_count": 43,
     "metadata": {},
     "output_type": "execute_result"
    }
   ],
   "source": [
    "d2_1"
   ]
  },
  {
   "cell_type": "code",
   "execution_count": 44,
   "id": "f55397d2",
   "metadata": {},
   "outputs": [
    {
     "ename": "TypeError",
     "evalue": "strptime() takes exactly 2 arguments (1 given)",
     "output_type": "error",
     "traceback": [
      "\u001b[1;31m---------------------------------------------------------------------------\u001b[0m",
      "\u001b[1;31mTypeError\u001b[0m                                 Traceback (most recent call last)",
      "Input \u001b[1;32mIn [44]\u001b[0m, in \u001b[0;36m<cell line: 1>\u001b[1;34m()\u001b[0m\n\u001b[1;32m----> 1\u001b[0m d2_2\u001b[38;5;241m=\u001b[39m\u001b[43mdatetime\u001b[49m\u001b[38;5;241;43m.\u001b[39;49m\u001b[43mdatetime\u001b[49m\u001b[38;5;241;43m.\u001b[39;49m\u001b[43mstrptime\u001b[49m\u001b[43m(\u001b[49m\u001b[43md_str_1\u001b[49m\u001b[43m)\u001b[49m\n",
      "\u001b[1;31mTypeError\u001b[0m: strptime() takes exactly 2 arguments (1 given)"
     ]
    }
   ],
   "source": [
    "d2_2=datetime.datetime.strptime(d_str_1)"
   ]
  },
  {
   "cell_type": "code",
   "execution_count": null,
   "id": "101b14ab",
   "metadata": {},
   "outputs": [],
   "source": [
    "\"\"\"\n",
    "Write a python module with below two functions\n",
    "1. write a function take input list, returns the length of the list with out using len function\n",
    "2. write a function take input list and an item, return how many times the item repeated in the list without using count function\n",
    "\n",
    "import this module from different file or notebook and use them\n",
    "Use exceptions whereever possible\n",
    "\"\"\""
   ]
  }
 ],
 "metadata": {
  "kernelspec": {
   "display_name": "Python 3 (ipykernel)",
   "language": "python",
   "name": "python3"
  },
  "language_info": {
   "codemirror_mode": {
    "name": "ipython",
    "version": 3
   },
   "file_extension": ".py",
   "mimetype": "text/x-python",
   "name": "python",
   "nbconvert_exporter": "python",
   "pygments_lexer": "ipython3",
   "version": "3.9.12"
  }
 },
 "nbformat": 4,
 "nbformat_minor": 5
}
