{
 "cells": [
  {
   "cell_type": "code",
   "execution_count": 2,
   "id": "6c212452",
   "metadata": {},
   "outputs": [],
   "source": [
    "import pytz"
   ]
  },
  {
   "cell_type": "code",
   "execution_count": 3,
   "id": "c902e4cd",
   "metadata": {},
   "outputs": [
    {
     "name": "stdout",
     "output_type": "stream",
     "text": [
      "Asia/Kolkata\n"
     ]
    }
   ],
   "source": [
    "import datetime\n",
    "\n",
    "obj = datetime.datetime.now()\n",
    "tz = pytz.timezone('Asia/Kolkata')\n",
    "aware_obj = tz.localize(obj)\n",
    "print(aware_obj.tzinfo)"
   ]
  },
  {
   "cell_type": "code",
   "execution_count": 4,
   "id": "f1c55c1c",
   "metadata": {},
   "outputs": [
    {
     "data": {
      "text/plain": [
       "'\\n1. take the current datetime and add 1000 days and print the date in \"%Y %m %d\"\\n2. take the current datetime and add 1200 days and print the date in \"%Y %m %d\"\\n3. take two datetime strings \\'2024 02 25 06:48:13\\', \\'2024 08 25 06:48:13\\'\\nfind the difference\\n4. take the current datetime and convert it to GMT or london time\\n5. take the current datetime and convert it to EST, IST/CST\\n'"
      ]
     },
     "execution_count": 4,
     "metadata": {},
     "output_type": "execute_result"
    }
   ],
   "source": [
    "\"\"\"\n",
    "1. take the current datetime and add 1000 days and print the date in \"%Y %m %d\"\n",
    "2. take the current datetime and add 1200 days and print the date in \"%Y %m %d\"\n",
    "3. take two datetime strings '2024 02 25 06:48:13', '2024 08 25 06:48:13'\n",
    "find the difference\n",
    "4. take the current datetime and convert it to GMT or london time\n",
    "5. take the current datetime and convert it to EST, IST/CST\n",
    "\"\"\""
   ]
  },
  {
   "cell_type": "code",
   "execution_count": 7,
   "id": "f7746e17",
   "metadata": {},
   "outputs": [
    {
     "data": {
      "text/plain": [
       "['MAXYEAR',\n",
       " 'MINYEAR',\n",
       " '__all__',\n",
       " '__builtins__',\n",
       " '__cached__',\n",
       " '__doc__',\n",
       " '__file__',\n",
       " '__loader__',\n",
       " '__name__',\n",
       " '__package__',\n",
       " '__spec__',\n",
       " 'date',\n",
       " 'datetime',\n",
       " 'datetime_CAPI',\n",
       " 'sys',\n",
       " 'time',\n",
       " 'timedelta',\n",
       " 'timezone',\n",
       " 'tzinfo']"
      ]
     },
     "execution_count": 7,
     "metadata": {},
     "output_type": "execute_result"
    }
   ],
   "source": [
    "dir(datetime)"
   ]
  },
  {
   "cell_type": "code",
   "execution_count": 8,
   "id": "81089540",
   "metadata": {},
   "outputs": [
    {
     "data": {
      "text/plain": [
       "'date(year, month, day) --> date object'"
      ]
     },
     "execution_count": 8,
     "metadata": {},
     "output_type": "execute_result"
    }
   ],
   "source": [
    "datetime.date.__doc__"
   ]
  },
  {
   "cell_type": "code",
   "execution_count": null,
   "id": "1fb52875",
   "metadata": {},
   "outputs": [],
   "source": [
    "!pip install <module_name>\n",
    "!pip uninstall <module_name>"
   ]
  }
 ],
 "metadata": {
  "kernelspec": {
   "display_name": "Python 3 (ipykernel)",
   "language": "python",
   "name": "python3"
  },
  "language_info": {
   "codemirror_mode": {
    "name": "ipython",
    "version": 3
   },
   "file_extension": ".py",
   "mimetype": "text/x-python",
   "name": "python",
   "nbconvert_exporter": "python",
   "pygments_lexer": "ipython3",
   "version": "3.9.12"
  }
 },
 "nbformat": 4,
 "nbformat_minor": 5
}
