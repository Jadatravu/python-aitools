{
 "cells": [
  {
   "cell_type": "code",
   "execution_count": null,
   "id": "cee9c2f9",
   "metadata": {},
   "outputs": [],
   "source": [
    "\"\"\"\n",
    "Groceries Bill Task\n",
    "gro_info ={\"rice\":{\"price\":50},\"dall\":{\"price\":150},\"soap\":{\"price\":60}} # per kg\n",
    "fruites_info={\"apple\":{\"price\":200},\"grapes\":{\"price\":100}} # per kg\n",
    "grand_discount={250:2,500:5,1000:10} #discount bill 250,500,1000 above in %\n",
    "packing_charges={10:50,15:75} #packing charges per 10kg and above, 15kg and above\n",
    "delivery_charges ={0:100,1000:50,2000:0}\n",
    "Take inputs groceries,fruites kgs taken\n",
    "compute, cost,packing charges,delivery_charges,discount\n",
    "compute total cost\n",
    "prepare bill\n",
    "\n",
    "\"\"\""
   ]
  },
  {
   "cell_type": "code",
   "execution_count": null,
   "id": "a08780c9",
   "metadata": {},
   "outputs": [],
   "source": [
    "\"\"\"\n",
    "Shoe purhase bill task\n",
    "Shoe_price={\"Nike\":{\"football\":2000,\"tt\":1500,\"cricket\":3000},\\\n",
    "\"Adidas\":{\"football\":2500,\"tt\":2000,\"cricket\":3500}\n",
    "}\n",
    "discount={5000:5,10000:10}\n",
    "packing_charges={5000:50,10000:25}\n",
    "delivery_charges={5000:25,10000,50}\n",
    "\n",
    "take input, brand,game,no of items\n",
    "calculate final cost\n",
    "prepare bill\n",
    "\"\"\""
   ]
  },
  {
   "cell_type": "code",
   "execution_count": null,
   "id": "e14efaf2",
   "metadata": {},
   "outputs": [],
   "source": [
    "\"\"\"\n",
    "file operations\n",
    "open a file in read or write mode\n",
    "write date into file or read data from the file\n",
    "close the file\n",
    "\n",
    "for doing write operation, there is no need to be file present. incase file doesnot exist new file to be \n",
    "created\n",
    "for doing read operation, file should be existing\n",
    "\"\"\""
   ]
  },
  {
   "cell_type": "code",
   "execution_count": 2,
   "id": "7d825349",
   "metadata": {},
   "outputs": [],
   "source": [
    "#writing content into the file \n",
    "# write even numbers from 10 to 100 into the file\n",
    "\n",
    "fp1=open(\"file_even_numbers.txt\",'w') \n",
    "\n",
    "for i1 in range(10,101,2):\n",
    "    #print(i1)\n",
    "    fp1.write(str(i1))\n",
    "    \n",
    "fp1.close()"
   ]
  },
  {
   "cell_type": "code",
   "execution_count": 13,
   "id": "8f0befe9",
   "metadata": {},
   "outputs": [],
   "source": [
    "fp2 = open(\"file_odd_numbers.txt\",'w')\n",
    "for i2 in range(11,76,2):\n",
    "    fp2.write(str(i2))\n",
    "    fp2.write('\\n')\n",
    "fp2.close()"
   ]
  },
  {
   "cell_type": "code",
   "execution_count": 7,
   "id": "9313a0b2",
   "metadata": {},
   "outputs": [],
   "source": [
    "# if the file already exists, file contents would be over written with new content"
   ]
  },
  {
   "cell_type": "code",
   "execution_count": 8,
   "id": "d3bde2ef",
   "metadata": {},
   "outputs": [
    {
     "data": {
      "text/plain": [
       "'\\n1. open a file write number between 100 to 500 which are multiple of 7\\n2. open a file write number between -300 to -100 which are muiltple of 9\\n\\n'"
      ]
     },
     "execution_count": 8,
     "metadata": {},
     "output_type": "execute_result"
    }
   ],
   "source": [
    "\"\"\"\n",
    "1. open a file write number between 100 to 500 which are multiple of 7\n",
    "2. open a file write number between -300 to -100 which are muiltple of 9\n",
    "\n",
    "\"\"\""
   ]
  },
  {
   "cell_type": "code",
   "execution_count": 11,
   "id": "fb636b65",
   "metadata": {},
   "outputs": [],
   "source": [
    "fp3=open(\"c:\\\\Users\\\\Lalith Eswar\\\\Documents\\\\file_test.txt\",'w')\n",
    "fp3.write(\" this is the content to write into the specific file path\")\n",
    "fp3.close()"
   ]
  },
  {
   "cell_type": "code",
   "execution_count": null,
   "id": "fe2923e0",
   "metadata": {},
   "outputs": [],
   "source": []
  }
 ],
 "metadata": {
  "kernelspec": {
   "display_name": "Python 3 (ipykernel)",
   "language": "python",
   "name": "python3"
  },
  "language_info": {
   "codemirror_mode": {
    "name": "ipython",
    "version": 3
   },
   "file_extension": ".py",
   "mimetype": "text/x-python",
   "name": "python",
   "nbconvert_exporter": "python",
   "pygments_lexer": "ipython3",
   "version": "3.9.12"
  }
 },
 "nbformat": 4,
 "nbformat_minor": 5
}
