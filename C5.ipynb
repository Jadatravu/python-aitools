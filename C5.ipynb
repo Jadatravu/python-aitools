{
 "cells": [
  {
   "cell_type": "code",
   "execution_count": 1,
   "id": "f44f538e",
   "metadata": {},
   "outputs": [
    {
     "data": {
      "text/plain": [
       "'1. keys => returns the keys of a dictionary\\n2. values => returns the values of the dictionary\\n3. items => returns key,value tuples of the dictionary\\n4. update => we can use update function to add or update any value of the dictionary\\n5. copy => copies the dictionary'"
      ]
     },
     "execution_count": 1,
     "metadata": {},
     "output_type": "execute_result"
    }
   ],
   "source": [
    "\"\"\"1. keys => returns the keys of a dictionary\n",
    "2. values => returns the values of the dictionary\n",
    "3. items => returns key,value tuples of the dictionary\n",
    "4. update => we can use update function to add or update any value of the dictionary\n",
    "5. copy => copies the dictionary\"\"\""
   ]
  },
  {
   "cell_type": "code",
   "execution_count": 2,
   "id": "a498b01e",
   "metadata": {},
   "outputs": [],
   "source": [
    "di_1={100:\"apple\",200:\"banana\",45:\"grapes\",\"one\":12.98}"
   ]
  },
  {
   "cell_type": "code",
   "execution_count": 3,
   "id": "d9f72b88",
   "metadata": {},
   "outputs": [
    {
     "data": {
      "text/plain": [
       "dict_keys([100, 200, 45, 'one'])"
      ]
     },
     "execution_count": 3,
     "metadata": {},
     "output_type": "execute_result"
    }
   ],
   "source": [
    "di_1.keys()"
   ]
  },
  {
   "cell_type": "code",
   "execution_count": 4,
   "id": "d535bae4",
   "metadata": {},
   "outputs": [
    {
     "data": {
      "text/plain": [
       "dict_values(['apple', 'banana', 'grapes', 12.98])"
      ]
     },
     "execution_count": 4,
     "metadata": {},
     "output_type": "execute_result"
    }
   ],
   "source": [
    "di_1.values()"
   ]
  },
  {
   "cell_type": "code",
   "execution_count": 6,
   "id": "42b172c4",
   "metadata": {},
   "outputs": [
    {
     "name": "stdout",
     "output_type": "stream",
     "text": [
      "100 apple\n",
      "200 banana\n",
      "45 grapes\n",
      "one 12.98\n"
     ]
    }
   ],
   "source": [
    "for k1,v1 in di_1.items():\n",
    "    print(k1, v1)\n",
    "    "
   ]
  },
  {
   "cell_type": "code",
   "execution_count": 7,
   "id": "9d861c1d",
   "metadata": {},
   "outputs": [
    {
     "data": {
      "text/plain": [
       "{100: 'apple', 200: 'banana', 45: 'grapes', 'one': 12.98}"
      ]
     },
     "execution_count": 7,
     "metadata": {},
     "output_type": "execute_result"
    }
   ],
   "source": [
    "di_1"
   ]
  },
  {
   "cell_type": "code",
   "execution_count": 8,
   "id": "d38680c5",
   "metadata": {},
   "outputs": [],
   "source": [
    "di_2=di_1"
   ]
  },
  {
   "cell_type": "code",
   "execution_count": 9,
   "id": "e6bfba94",
   "metadata": {},
   "outputs": [],
   "source": [
    "di_1[\"two\"]=89.7\n"
   ]
  },
  {
   "cell_type": "code",
   "execution_count": 10,
   "id": "a84bf3d5",
   "metadata": {},
   "outputs": [
    {
     "data": {
      "text/plain": [
       "{100: 'apple', 200: 'banana', 45: 'grapes', 'one': 12.98, 'two': 89.7}"
      ]
     },
     "execution_count": 10,
     "metadata": {},
     "output_type": "execute_result"
    }
   ],
   "source": [
    "di_1"
   ]
  },
  {
   "cell_type": "code",
   "execution_count": 11,
   "id": "f14dcaa5",
   "metadata": {},
   "outputs": [
    {
     "data": {
      "text/plain": [
       "{100: 'apple', 200: 'banana', 45: 'grapes', 'one': 12.98, 'two': 89.7}"
      ]
     },
     "execution_count": 11,
     "metadata": {},
     "output_type": "execute_result"
    }
   ],
   "source": [
    "di_2"
   ]
  },
  {
   "cell_type": "code",
   "execution_count": 12,
   "id": "0d4a806c",
   "metadata": {},
   "outputs": [],
   "source": [
    "di_2c=di_1.copy()"
   ]
  },
  {
   "cell_type": "code",
   "execution_count": 13,
   "id": "4cad429a",
   "metadata": {},
   "outputs": [
    {
     "data": {
      "text/plain": [
       "{100: 'apple', 200: 'banana', 45: 'grapes', 'one': 12.98, 'two': 89.7}"
      ]
     },
     "execution_count": 13,
     "metadata": {},
     "output_type": "execute_result"
    }
   ],
   "source": [
    "di_1"
   ]
  },
  {
   "cell_type": "code",
   "execution_count": 14,
   "id": "dcba5ecd",
   "metadata": {},
   "outputs": [
    {
     "data": {
      "text/plain": [
       "{100: 'apple', 200: 'banana', 45: 'grapes', 'one': 12.98, 'two': 89.7}"
      ]
     },
     "execution_count": 14,
     "metadata": {},
     "output_type": "execute_result"
    }
   ],
   "source": [
    "di_2c"
   ]
  },
  {
   "cell_type": "code",
   "execution_count": 15,
   "id": "22cb61ec",
   "metadata": {},
   "outputs": [],
   "source": [
    "di_1[\"hello\"]=999"
   ]
  },
  {
   "cell_type": "code",
   "execution_count": 16,
   "id": "ecdc91c4",
   "metadata": {},
   "outputs": [
    {
     "data": {
      "text/plain": [
       "{100: 'apple',\n",
       " 200: 'banana',\n",
       " 45: 'grapes',\n",
       " 'one': 12.98,\n",
       " 'two': 89.7,\n",
       " 'hello': 999}"
      ]
     },
     "execution_count": 16,
     "metadata": {},
     "output_type": "execute_result"
    }
   ],
   "source": [
    "di_1"
   ]
  },
  {
   "cell_type": "code",
   "execution_count": 17,
   "id": "d574339a",
   "metadata": {},
   "outputs": [
    {
     "data": {
      "text/plain": [
       "{100: 'apple', 200: 'banana', 45: 'grapes', 'one': 12.98, 'two': 89.7}"
      ]
     },
     "execution_count": 17,
     "metadata": {},
     "output_type": "execute_result"
    }
   ],
   "source": [
    "di_2c"
   ]
  },
  {
   "cell_type": "code",
   "execution_count": 18,
   "id": "bb348ede",
   "metadata": {},
   "outputs": [],
   "source": [
    "d1={10:111,20:222}"
   ]
  },
  {
   "cell_type": "code",
   "execution_count": 19,
   "id": "b070710b",
   "metadata": {},
   "outputs": [],
   "source": [
    "d1_1=d1"
   ]
  },
  {
   "cell_type": "code",
   "execution_count": 20,
   "id": "113a3bca",
   "metadata": {},
   "outputs": [
    {
     "data": {
      "text/plain": [
       "{10: 111, 20: 222}"
      ]
     },
     "execution_count": 20,
     "metadata": {},
     "output_type": "execute_result"
    }
   ],
   "source": [
    "d1"
   ]
  },
  {
   "cell_type": "code",
   "execution_count": 21,
   "id": "dfe4d3b5",
   "metadata": {},
   "outputs": [
    {
     "data": {
      "text/plain": [
       "{10: 111, 20: 222}"
      ]
     },
     "execution_count": 21,
     "metadata": {},
     "output_type": "execute_result"
    }
   ],
   "source": [
    "d1_1"
   ]
  },
  {
   "cell_type": "code",
   "execution_count": 22,
   "id": "8731313d",
   "metadata": {},
   "outputs": [],
   "source": [
    "d1[30]=333"
   ]
  },
  {
   "cell_type": "code",
   "execution_count": 23,
   "id": "8d372cdf",
   "metadata": {},
   "outputs": [
    {
     "data": {
      "text/plain": [
       "{10: 111, 20: 222, 30: 333}"
      ]
     },
     "execution_count": 23,
     "metadata": {},
     "output_type": "execute_result"
    }
   ],
   "source": [
    "d1"
   ]
  },
  {
   "cell_type": "code",
   "execution_count": 24,
   "id": "e78748a4",
   "metadata": {},
   "outputs": [
    {
     "data": {
      "text/plain": [
       "{10: 111, 20: 222, 30: 333}"
      ]
     },
     "execution_count": 24,
     "metadata": {},
     "output_type": "execute_result"
    }
   ],
   "source": [
    "d1_1\n"
   ]
  },
  {
   "cell_type": "code",
   "execution_count": 25,
   "id": "b8e2913b",
   "metadata": {},
   "outputs": [],
   "source": [
    "d2={9:999,8:888}"
   ]
  },
  {
   "cell_type": "code",
   "execution_count": 26,
   "id": "6cc8144d",
   "metadata": {},
   "outputs": [],
   "source": [
    "d2_2=d2.copy() #does copy of the exact collection"
   ]
  },
  {
   "cell_type": "code",
   "execution_count": 27,
   "id": "a2d4d9e5",
   "metadata": {},
   "outputs": [
    {
     "data": {
      "text/plain": [
       "{9: 999, 8: 888}"
      ]
     },
     "execution_count": 27,
     "metadata": {},
     "output_type": "execute_result"
    }
   ],
   "source": [
    "d2"
   ]
  },
  {
   "cell_type": "code",
   "execution_count": 28,
   "id": "158bfe38",
   "metadata": {},
   "outputs": [
    {
     "data": {
      "text/plain": [
       "{9: 999, 8: 888}"
      ]
     },
     "execution_count": 28,
     "metadata": {},
     "output_type": "execute_result"
    }
   ],
   "source": [
    "d2_2"
   ]
  },
  {
   "cell_type": "code",
   "execution_count": 29,
   "id": "a5d811c6",
   "metadata": {},
   "outputs": [],
   "source": [
    "d2[7]=777"
   ]
  },
  {
   "cell_type": "code",
   "execution_count": 30,
   "id": "5844b17a",
   "metadata": {},
   "outputs": [
    {
     "data": {
      "text/plain": [
       "{9: 999, 8: 888, 7: 777}"
      ]
     },
     "execution_count": 30,
     "metadata": {},
     "output_type": "execute_result"
    }
   ],
   "source": [
    "d2"
   ]
  },
  {
   "cell_type": "code",
   "execution_count": 31,
   "id": "ae687acd",
   "metadata": {},
   "outputs": [
    {
     "data": {
      "text/plain": [
       "{9: 999, 8: 888}"
      ]
     },
     "execution_count": 31,
     "metadata": {},
     "output_type": "execute_result"
    }
   ],
   "source": [
    "d2_2"
   ]
  },
  {
   "cell_type": "code",
   "execution_count": 32,
   "id": "fb3cc8a8",
   "metadata": {},
   "outputs": [],
   "source": [
    "s1=\"apple\"\n",
    "s2='banana'"
   ]
  },
  {
   "cell_type": "code",
   "execution_count": 33,
   "id": "d511c83f",
   "metadata": {},
   "outputs": [
    {
     "data": {
      "text/plain": [
       "'apple'"
      ]
     },
     "execution_count": 33,
     "metadata": {},
     "output_type": "execute_result"
    }
   ],
   "source": [
    "s1"
   ]
  },
  {
   "cell_type": "code",
   "execution_count": 34,
   "id": "e7f7826b",
   "metadata": {},
   "outputs": [
    {
     "data": {
      "text/plain": [
       "'banana'"
      ]
     },
     "execution_count": 34,
     "metadata": {},
     "output_type": "execute_result"
    }
   ],
   "source": [
    "s2"
   ]
  },
  {
   "cell_type": "code",
   "execution_count": 35,
   "id": "cb38642e",
   "metadata": {},
   "outputs": [],
   "source": [
    "s4='12345'"
   ]
  },
  {
   "cell_type": "code",
   "execution_count": 36,
   "id": "15a0e679",
   "metadata": {},
   "outputs": [
    {
     "data": {
      "text/plain": [
       "str"
      ]
     },
     "execution_count": 36,
     "metadata": {},
     "output_type": "execute_result"
    }
   ],
   "source": [
    "type(s4)"
   ]
  },
  {
   "cell_type": "code",
   "execution_count": 37,
   "id": "a9c5b899",
   "metadata": {},
   "outputs": [
    {
     "data": {
      "text/plain": [
       "dict"
      ]
     },
     "execution_count": 37,
     "metadata": {},
     "output_type": "execute_result"
    }
   ],
   "source": [
    "type(d1)"
   ]
  },
  {
   "cell_type": "code",
   "execution_count": 38,
   "id": "f000aad6",
   "metadata": {},
   "outputs": [],
   "source": [
    "l1=[123,45]"
   ]
  },
  {
   "cell_type": "code",
   "execution_count": 39,
   "id": "d16c0ca0",
   "metadata": {},
   "outputs": [
    {
     "data": {
      "text/plain": [
       "list"
      ]
     },
     "execution_count": 39,
     "metadata": {},
     "output_type": "execute_result"
    }
   ],
   "source": [
    "type(l1) # type returns the varaible type"
   ]
  },
  {
   "cell_type": "code",
   "execution_count": 40,
   "id": "eeb34192",
   "metadata": {},
   "outputs": [
    {
     "data": {
      "text/plain": [
       "{10: 111, 20: 222, 30: 333}"
      ]
     },
     "execution_count": 40,
     "metadata": {},
     "output_type": "execute_result"
    }
   ],
   "source": [
    "d1"
   ]
  },
  {
   "cell_type": "code",
   "execution_count": 41,
   "id": "82ec268b",
   "metadata": {},
   "outputs": [
    {
     "data": {
      "text/plain": [
       "111"
      ]
     },
     "execution_count": 41,
     "metadata": {},
     "output_type": "execute_result"
    }
   ],
   "source": [
    "d1[10]"
   ]
  },
  {
   "cell_type": "code",
   "execution_count": 42,
   "id": "b68be2f9",
   "metadata": {},
   "outputs": [],
   "source": [
    "d1[10]=123"
   ]
  },
  {
   "cell_type": "code",
   "execution_count": 43,
   "id": "2d18dc9c",
   "metadata": {},
   "outputs": [],
   "source": [
    "d1[20]=7896"
   ]
  },
  {
   "cell_type": "code",
   "execution_count": 44,
   "id": "ef7159e4",
   "metadata": {},
   "outputs": [],
   "source": [
    "d1.update({10:555,20:444}) # updates multiple key value pairs"
   ]
  },
  {
   "cell_type": "code",
   "execution_count": 45,
   "id": "cb867028",
   "metadata": {},
   "outputs": [
    {
     "data": {
      "text/plain": [
       "{10: 555, 20: 444, 30: 333}"
      ]
     },
     "execution_count": 45,
     "metadata": {},
     "output_type": "execute_result"
    }
   ],
   "source": [
    "d1"
   ]
  },
  {
   "cell_type": "code",
   "execution_count": 98,
   "id": "f11c09d6",
   "metadata": {},
   "outputs": [],
   "source": [
    "da_1={1:\"ten\",2:\"twenty\",3:\"thirty\",4:\"forty\",5:\"fifty\",6:\"sixty\",7:\"seventy\",8:\"eighty\",9:\"ninty\"}\n",
    "da_2={1:\"one\",2:\"two\",3:\"three\",4:\"four\",5:\"five\",6:\"six\",7:\"seven\",8:\"eight\",9:\"nine\"}\n",
    "da_3={11:\"eleven\",12:\"twelve\",13:\"thirteen\",14:\"forteen\",15:\"fifteen\",16:\"sixteen\",17:\"seventeen\",18:\"eighteen\",19:\"ninteen\"}"
   ]
  },
  {
   "cell_type": "code",
   "execution_count": 99,
   "id": "cc5d498a",
   "metadata": {},
   "outputs": [
    {
     "name": "stdout",
     "output_type": "stream",
     "text": [
      "forty   five\n"
     ]
    }
   ],
   "source": [
    "x1=45\n",
    "#if x1 ...\n",
    "i1=x1/10\n",
    "k1=int(i1)\n",
    "y1=x1-k1*10\n",
    "print(da_1[k1], ' ',da_2[y1])"
   ]
  },
  {
   "cell_type": "code",
   "execution_count": 100,
   "id": "055562c5",
   "metadata": {},
   "outputs": [],
   "source": [
    "def my_function(input_number):\n",
    "    x1=input_number\n",
    "    i1=x1/10\n",
    "    k1=int(i1)\n",
    "    y1=x1-k1*10\n",
    "    print(da_1[k1], ' ',da_2[y1])\n",
    "    "
   ]
  },
  {
   "cell_type": "code",
   "execution_count": 101,
   "id": "0d5b792f",
   "metadata": {},
   "outputs": [
    {
     "name": "stdout",
     "output_type": "stream",
     "text": [
      "seventy   eight\n"
     ]
    }
   ],
   "source": [
    "my_function(78)"
   ]
  },
  {
   "cell_type": "code",
   "execution_count": null,
   "id": "6cd35c21",
   "metadata": {},
   "outputs": [],
   "source": [
    "#extend this logic for values between 11 and 19 and also for 1 to 10"
   ]
  }
 ],
 "metadata": {
  "kernelspec": {
   "display_name": "Python 3 (ipykernel)",
   "language": "python",
   "name": "python3"
  },
  "language_info": {
   "codemirror_mode": {
    "name": "ipython",
    "version": 3
   },
   "file_extension": ".py",
   "mimetype": "text/x-python",
   "name": "python",
   "nbconvert_exporter": "python",
   "pygments_lexer": "ipython3",
   "version": "3.9.12"
  }
 },
 "nbformat": 4,
 "nbformat_minor": 5
}
